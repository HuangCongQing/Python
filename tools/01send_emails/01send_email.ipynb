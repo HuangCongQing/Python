{
 "cells": [
  {
   "cell_type": "markdown",
   "metadata": {},
   "source": [
    "# python发送QQ邮件\n",
    "https://www.yuque.com/huangzhongqing/lang/qen7h6#PCfww"
   ]
  },
  {
   "cell_type": "code",
   "execution_count": 1,
   "metadata": {},
   "outputs": [],
   "source": [
    "import smtplib\n",
    "from email.mime.text import MIMEText\n",
    "from email.utils import formataddr"
   ]
  },
  {
   "cell_type": "code",
   "execution_count": null,
   "metadata": {},
   "outputs": [],
   "source": [
    "\n",
    "my_sender = 'xxxx@qq.com'  # 填写发信人的邮箱账号\n",
    "my_pass = 'xxxx'  # 发件人邮箱授权码\n",
    "my_user = '@qq.com'  # 收件人邮箱账号\n",
    "\n",
    "\n",
    "def mail():\n",
    "    ret = True\n",
    "    try:\n",
    "        msg = MIMEText('this is just a test', 'plain', 'utf-8')  # 填写邮件内容\n",
    "        msg['From'] = formataddr([\"tracy\", my_sender])  # 括号里的对应发件人邮箱昵称、发件人邮箱账号\n",
    "        msg['To'] = formataddr([\"test\", my_user])  # 括号里的对应收件人邮箱昵称、收件人邮箱账号\n",
    "        msg['Subject'] = \"发送邮件测试\"  # 邮件的主题，也可以说是标题\n",
    "\n",
    "        server = smtplib.SMTP_SSL(\"smtp.qq.com\", 465)  # 发件人邮箱中的SMTP服务器\n",
    "        server.login(my_sender, my_pass)  # 括号中对应的是发件人邮箱账号、邮箱授权码\n",
    "        server.sendmail(my_sender, [my_user, ], msg.as_string())  # 括号中对应的是发件人邮箱账号、收件人邮箱账号、发送邮件\n",
    "        server.quit()  # 关闭连接\n",
    "    except Exception:  # 如果 try 中的语句没有执行，则会执行下面的 ret=False\n",
    "        ret = False\n",
    "    return ret\n",
    "\n",
    "\n",
    "ret = mail()\n",
    "if ret:\n",
    "    print(\"邮件发送成功\")\n",
    "else:\n",
    "    print(\"邮件发送失败\")"
   ]
  }
 ],
 "metadata": {
  "interpreter": {
   "hash": "6da98eacdef9d70d05690ff9a51cb11cd928be326ca4c66c5cb22400c3fb5833"
  },
  "kernelspec": {
   "display_name": "Python 3.6.12 64-bit ('common': conda)",
   "language": "python",
   "name": "python3"
  },
  "language_info": {
   "codemirror_mode": {
    "name": "ipython",
    "version": 3
   },
   "file_extension": ".py",
   "mimetype": "text/x-python",
   "name": "python",
   "nbconvert_exporter": "python",
   "pygments_lexer": "ipython3",
   "version": "3.6.12"
  },
  "orig_nbformat": 4
 },
 "nbformat": 4,
 "nbformat_minor": 2
}
