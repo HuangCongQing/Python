{
 "cells": [
  {
   "cell_type": "markdown",
   "metadata": {},
   "source": [
    "## 发送微信消息\n",
    "https://www.yuque.com/huangzhongqing/lang/nuslxl"
   ]
  },
  {
   "cell_type": "code",
   "execution_count": 5,
   "metadata": {},
   "outputs": [],
   "source": [
    "import pyautogui # 模拟电脑键盘操作\n",
    "import pyperclip\n",
    "import time\n"
   ]
  },
  {
   "cell_type": "code",
   "execution_count": 31,
   "metadata": {},
   "outputs": [
    {
     "name": "stdout",
     "output_type": "stream",
     "text": [
      "1s后发送消息\n",
      "开始搜索好友名字： 文件传输助手\n",
      "1 2 3 4\n",
      "1\n",
      "2\n",
      "3\n",
      "4\n"
     ]
    }
   ],
   "source": [
    "\n",
    "def get_msg():\n",
    "    \"\"\"想发的消息，每条消息空格分开\"\"\"\n",
    "    contents = \"1 2 \" \\\n",
    "               \"3 4\"\n",
    "    print(contents)\n",
    "    return contents.split(\" \")\n",
    "\n",
    "\n",
    "def send(msg):\n",
    "    # 复制需要发送的内容到粘贴板\n",
    "    pyperclip.copy(msg)\n",
    "    # 模拟键盘 ctrl + v 粘贴内容\n",
    "    pyautogui.hotkey('ctrl', 'v')\n",
    "    # 发送消息\n",
    "    pyautogui.press('enter')\n",
    "\n",
    "\n",
    "def send_msg(friend):\n",
    "    # Ctrl + alt + w 快捷键打开微信\n",
    "    pyautogui.hotkey('ctrl', 'alt', 'w')\n",
    "    # 搜索好友\n",
    "    pyautogui.hotkey('ctrl', 'f')\n",
    "    # \n",
    "    print(\"开始搜索好友名字：\",friend )\n",
    "    # 复制好友昵称到粘贴板\n",
    "    pyperclip.copy(friend)\n",
    "    # 模拟键盘 ctrl + v 粘贴\n",
    "    pyautogui.hotkey('ctrl', 'v')\n",
    "    time.sleep(1.5) # 看情况调节时间大小=================================================\n",
    "    # 回车进入好友消息界面\n",
    "    pyautogui.press('enter')\n",
    "    # 一条一条发送消息\n",
    "    for msg in get_msg(): # 调用函数\n",
    "        print(msg)\n",
    "        send(msg) # 调用函数\n",
    "        # 每条消息间隔 2 秒\n",
    "        time.sleep(2)\n",
    "\n",
    "\n",
    "if __name__ == '__main__':\n",
    "    \n",
    "    friend_name = \"文件传输助手\" # 微信好友昵称  文件传输助手\n",
    "    print(\"1s后发送消息\")\n",
    "    time.sleep(1)\n",
    "    send_msg(friend_name)"
   ]
  },
  {
   "cell_type": "code",
   "execution_count": null,
   "metadata": {},
   "outputs": [],
   "source": [
    "1\n",
    "23\n",
    "4\n"
   ]
  }
 ],
 "metadata": {
  "interpreter": {
   "hash": "6da98eacdef9d70d05690ff9a51cb11cd928be326ca4c66c5cb22400c3fb5833"
  },
  "kernelspec": {
   "display_name": "Python 3.6.12 64-bit ('common': conda)",
   "language": "python",
   "name": "python3"
  },
  "language_info": {
   "codemirror_mode": {
    "name": "ipython",
    "version": 3
   },
   "file_extension": ".py",
   "mimetype": "text/x-python",
   "name": "python",
   "nbconvert_exporter": "python",
   "pygments_lexer": "ipython3",
   "version": "3.6.12"
  },
  "orig_nbformat": 4
 },
 "nbformat": 4,
 "nbformat_minor": 2
}
