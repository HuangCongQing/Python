{
 "cells": [
  {
   "cell_type": "code",
   "execution_count": 14,
   "metadata": {},
   "outputs": [
    {
     "name": "stdout",
     "output_type": "stream",
     "text": [
      "[1, 2, 3]\n",
      "1 2 3\n",
      "15\n"
     ]
    }
   ],
   "source": [
    "# https://blog.csdn.net/weixin_42360285/article/details/114420332\n",
    "# 单星号 * 用于对列表LIST或元组tuple中的元素进行取出(unpacke)。\n",
    "a = [1,2,3]\n",
    "print(a)\n",
    "print(*a)\n",
    "#print(**a)\n",
    "\n",
    "#双星号 **\n",
    "#双星号 ** 可将字典里的“值”取出\n",
    "# 字典前面加两个星号，是将字典解开成为独立的元素作为形参。 https://zhuanlan.zhihu.com/p/499740724\n",
    "def add(a, b):\n",
    "    return a + b\n",
    "data = {'a':7, 'b':8}\n",
    "print(add(**data)) # 15"
   ]
  },
  {
   "cell_type": "markdown",
   "metadata": {},
   "source": [
    "## 输出其他类型可以转成str输出\n"
   ]
  },
  {
   "cell_type": "code",
   "execution_count": 1,
   "metadata": {},
   "outputs": [
    {
     "name": "stdout",
     "output_type": "stream",
     "text": [
      "gt_boxes.shape=(3, 4)\n"
     ]
    }
   ],
   "source": [
    "import numpy as np\n",
    "gt_boxes = np.arange(12).reshape(3,4)\n",
    "print('gt_boxes.shape=%s' % str(gt_boxes.shape))"
   ]
  },
  {
   "cell_type": "markdown",
   "metadata": {},
   "source": [
    "## 科学记数法字符串转换e-5消失问题: dtype='<U15'字符串长度问题"
   ]
  },
  {
   "cell_type": "code",
   "execution_count": 16,
   "metadata": {},
   "outputs": [
    {
     "name": "stdout",
     "output_type": "stream",
     "text": [
      "0.0001\n"
     ]
    }
   ],
   "source": [
    "a = '10e-5'\n",
    "print(float(a))\n",
    "# print(round(a, 10))"
   ]
  },
  {
   "cell_type": "code",
   "execution_count": 30,
   "metadata": {},
   "outputs": [],
   "source": [
    "import numpy as np\n",
    "a = np.arange(12).reshape(12,1)\n",
    "\n",
    "# for i in a[:,0]:\n",
    "#     print(i)\n",
    "# b = [i  for i in a[:,0] if ]\n",
    "# a[0,0] = '10e-3'\n",
    "# a.astype(float)\n",
    "# print(isinstance('122', str))"
   ]
  },
  {
   "cell_type": "code",
   "execution_count": 44,
   "metadata": {},
   "outputs": [
    {
     "data": {
      "text/plain": [
       "'10000423e-05'"
      ]
     },
     "execution_count": 44,
     "metadata": {},
     "output_type": "execute_result"
    }
   ],
   "source": [
    "a = np.array(['10e-05', '10423e-05', '1034e-05'], dtype='<U15')\n",
    "a[1] = '10000423e-05'\n",
    "# a[1] = float('10000423e-05')\n",
    "a[1]"
   ]
  },
  {
   "cell_type": "code",
   "execution_count": null,
   "metadata": {},
   "outputs": [],
   "source": []
  }
 ],
 "metadata": {
  "interpreter": {
   "hash": "34e39c63690641fda45a9b5b3a54295d3c7c7609e6d639cc54d178959f811fe3"
  },
  "kernelspec": {
   "display_name": "Python 3.8.13 ('pcdet')",
   "language": "python",
   "name": "python3"
  },
  "language_info": {
   "codemirror_mode": {
    "name": "ipython",
    "version": 3
   },
   "file_extension": ".py",
   "mimetype": "text/x-python",
   "name": "python",
   "nbconvert_exporter": "python",
   "pygments_lexer": "ipython3",
   "version": "3.8.13"
  },
  "orig_nbformat": 4,
  "vscode": {
   "interpreter": {
    "hash": "4a4bb52955cb4b7ba3167560f52fbe8257746766a280283c0daccbe36f0c9125"
   }
  }
 },
 "nbformat": 4,
 "nbformat_minor": 2
}
