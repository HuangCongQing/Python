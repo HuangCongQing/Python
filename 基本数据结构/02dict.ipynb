{
 "cells": [
  {
   "cell_type": "markdown",
   "metadata": {},
   "source": [
    "\n",
    "##  Python3 中有六个标准的数据类型：\n",
    "    # Number（数字）\n",
    "    # String（字符串） 不可更改\n",
    "    # List（列表）          可更改\n",
    "    # Tuple（元组）       不可更改\n",
    "    # Sets（集合）\n",
    "    # Dictionary（字典）可更改\n",
    "\n",
    "* 不可变数据（3 个）：Number（数字）、String（字符串）、Tuple（元组）；\n",
    "* 可变数据（3 个）：List（列表）、Set（集合）、Dictionary（字典）。\n",
    "\n",
    "基础学习： python3_tutorials_菜鸟教程/02基本数据类型.py"
   ]
  },
  {
   "cell_type": "markdown",
   "metadata": {},
   "source": [
    "## Dict字典\n",
    "视频：https://www.bilibili.com/video/BV1wD4y1o7AS?p=59&vd_source=617461d43c4542e4c5a3ed54434a0e55\n",
    "\n"
   ]
  },
  {
   "cell_type": "markdown",
   "metadata": {},
   "source": [
    "## 字典元素的获取"
   ]
  },
  {
   "cell_type": "code",
   "execution_count": 5,
   "metadata": {},
   "outputs": [
    {
     "name": "stdout",
     "output_type": "stream",
     "text": [
      "{'apple': [1, 2, 3], 'pear': 2, 'orange': {1: '111', 2: '222'}}\n"
     ]
    },
    {
     "data": {
      "text/plain": [
       "dict"
      ]
     },
     "execution_count": 5,
     "metadata": {},
     "output_type": "execute_result"
    }
   ],
   "source": [
    "\n",
    "d = {'apple': [1,2,3], 'pear': 2, 'orange': {1:'111',2:'222'}}\n",
    "print(d)\n",
    "type(d)"
   ]
  },
  {
   "cell_type": "code",
   "execution_count": 12,
   "metadata": {},
   "outputs": [
    {
     "name": "stdout",
     "output_type": "stream",
     "text": [
      "[1, 2, 3]\n",
      "None\n",
      "没有此key\n"
     ]
    }
   ],
   "source": [
    "print(d.get(\"apple\"))\n",
    "print(d.get('ppp'))\n",
    "if d.get(\"ppp\") is None:\n",
    "    print(\"没有此key\")"
   ]
  },
  {
   "cell_type": "markdown",
   "metadata": {},
   "source": [
    "## 增删改操作\n",
    "* in  not  判断\n",
    "* "
   ]
  },
  {
   "cell_type": "code",
   "execution_count": null,
   "metadata": {},
   "outputs": [],
   "source": []
  },
  {
   "cell_type": "markdown",
   "metadata": {},
   "source": [
    "## 获取字典视图三个方法\n",
    "* dict.key()\n",
    "* dict.values()\n",
    "* dict.items()"
   ]
  },
  {
   "cell_type": "code",
   "execution_count": 13,
   "metadata": {},
   "outputs": [
    {
     "name": "stdout",
     "output_type": "stream",
     "text": [
      "dict_keys(['apple', 'pear', 'orange'])\n"
     ]
    }
   ],
   "source": [
    "d = {'apple': [1,2,3], 'pear': 2, 'orange': {1:'111',2:'222'}}\n",
    "print(d.keys()) # lis列表"
   ]
  },
  {
   "cell_type": "markdown",
   "metadata": {},
   "source": [
    "## 字典元素的遍历"
   ]
  },
  {
   "cell_type": "code",
   "execution_count": 14,
   "metadata": {},
   "outputs": [
    {
     "name": "stdout",
     "output_type": "stream",
     "text": [
      "[1, 2, 3]\n",
      "2\n",
      "{1: '111', 2: '222'}\n"
     ]
    }
   ],
   "source": [
    "d = {'apple': [1,2,3], 'pear': 2, 'orange': {1:'111',2:'222'}}\n",
    "\n",
    "for key in d:\n",
    "    print(d[key])"
   ]
  },
  {
   "cell_type": "markdown",
   "metadata": {},
   "source": [
    "## 字典生成式"
   ]
  },
  {
   "cell_type": "code",
   "execution_count": 23,
   "metadata": {},
   "outputs": [
    {
     "name": "stdout",
     "output_type": "stream",
     "text": [
      "{'重庆cq': 12, '河南': 12, '北京': 35}\n",
      "{'重庆CQ': 12, '河南': 12, '北京': 35}\n"
     ]
    }
   ],
   "source": [
    "keys = [\"重庆cq\", \"河南\", \"北京\"]\n",
    "values = [12, 12, 35]\n",
    "\n",
    "dict = {}\n",
    "for key,value in zip(keys, values):\n",
    "    dict[key] = value\n",
    "print(dict)\n",
    "\n",
    "# 推荐\n",
    "dict1 = { key.upper(): value for key,value in zip(keys, values)}\n",
    "print(dict1)\n"
   ]
  },
  {
   "cell_type": "code",
   "execution_count": null,
   "metadata": {},
   "outputs": [],
   "source": []
  }
 ],
 "metadata": {
  "interpreter": {
   "hash": "34e39c63690641fda45a9b5b3a54295d3c7c7609e6d639cc54d178959f811fe3"
  },
  "kernelspec": {
   "display_name": "Python 3.8.13 ('pcdet')",
   "language": "python",
   "name": "python3"
  },
  "language_info": {
   "name": "python",
   "version": "3.8.13"
  },
  "orig_nbformat": 4
 },
 "nbformat": 4,
 "nbformat_minor": 2
}
