{
 "cells": [
  {
   "cell_type": "markdown",
   "source": [
    "## IOU \n",
    "\n",
    "步骤1：按照得分的顺序将所有bounding box进行排序。。\n",
    "步骤2：最高的那个肯定留下，然后计算它与其他所有bounding box（得分都低于他）的IoU（交并比，不解释了）。若某个bounding box的ioU小于设定的阈值，那就留下他，不然就删掉他。。\n",
    "步骤3：余下的继续执行1~2步"
   ],
   "metadata": {}
  },
  {
   "cell_type": "code",
   "execution_count": 3,
   "source": [
    "import numpy as np\n",
    " \n",
    "#  我们自定义数据： 数据格式是[[xmin,ymin,xmax,ymax,scores]....]\n",
    "boxes=np.array([[100,100,210,210,0.72],\n",
    "        [250,250,420,420,0.8],\n",
    "        [220,220,320,330,0.92],\n",
    "        [100,100,210,210,0.72],\n",
    "        [230,240,325,330,0.81],\n",
    "        [220,230,315,340,0.9]]) "
   ],
   "outputs": [],
   "metadata": {}
  },
  {
   "cell_type": "code",
   "execution_count": 4,
   "source": [
    "def py_cpu_nms(dets, thresh):\n",
    "    #首先数据赋值和计算对应矩形框的面积\n",
    "    #dets的数据格式是dets[[xmin,ymin,xmax,ymax,scores]....]\n",
    " \n",
    "    x1 = dets[:,0] # 第一列\n",
    "    y1 = dets[:,1]\n",
    "    x2 = dets[:,2]\n",
    "    y2 = dets[:,3]\n",
    "    areas = (y2-y1+1) * (x2-x1+1) # 面积  左上右下的位置还可以，左下右上的就不对\n",
    "    scores = dets[:,4]\n",
    "    print('areas  ',areas)\n",
    "    print('scores ',scores)\n",
    " \n",
    "    #这边的keep用于存放，NMS后剩余的方框\n",
    "    keep = []\n",
    "    \n",
    "    #取出分数从大到小排列的索引。.argsort()是从小到大排列，[::-1]是列表头和尾颠倒一下。\n",
    "    index = scores.argsort()[::-1]\n",
    "    print(index) \n",
    "    #上面这两句比如分数[0.72 0.8  0.92 0.72 0.81 0.9 ]    \n",
    "    #  对应的索引index[  2   5    4     1    3   0  ]记住是取出索引，scores列表没变。\n",
    "    \n",
    "    #index会剔除遍历过的方框，和合并过的方框。 \n",
    "    while index.size >0:\n",
    "        print(index.size)\n",
    "        #取出第一个方框进行和其他方框比对，看有没有可以合并的\n",
    "        i = index[0]       # every time the first is the biggst, and add it directly\n",
    "        \n",
    "        #因为我们这边分数已经按从大到小排列了。\n",
    "        #所以如果有合并存在，也是保留分数最高的这个，也就是我们现在那个这个\n",
    "        #keep保留的是索引值，不是具体的分数。     \n",
    "        keep.append(i) # 索引值，不是具体的分数。 \n",
    "        print(keep)\n",
    "        print('x1',x1[i])\n",
    "        print(x1[index[1:]])\n",
    " \n",
    "        #计算交集的左上角和右下角\n",
    "        #这里要注意，比如x1[i]这个方框的左上角x和所有其他的方框的左上角x的\n",
    "        x11 = np.maximum(x1[i], x1[index[1:]])    # calculate the points of overlap \n",
    "        y11 = np.maximum(y1[i], y1[index[1:]])\n",
    "        x22 = np.minimum(x2[i], x2[index[1:]])\n",
    "        y22 = np.minimum(y2[i], y2[index[1:]])\n",
    "        \n",
    "        print(x11,y11,x22,y22)\n",
    "        #这边要注意，如果两个方框相交，X22-X11和Y22-Y11是正的。\n",
    "        #如果两个方框不相交，X22-X11和Y22-Y11是负的，我们把不相交的W和H设为0.\n",
    "        w = np.maximum(0, x22-x11+1)    \n",
    "        h = np.maximum(0, y22-y11+1)    \n",
    "       \n",
    "        #计算重叠面积就是上面说的交集面积。不相交因为W和H都是0，所以不相交面积为0\n",
    "        overlaps = w*h\n",
    "        print('overlaps is',overlaps)\n",
    "        \n",
    "        #这个就是IOU公式（交并比）。\n",
    "        #得出来的ious是一个列表，里面拥有当前方框和其他所有方框的IOU结果。\n",
    "        ious = overlaps / (areas[i]+areas[index[1:]] - overlaps)\n",
    "        print('ious is',ious)\n",
    "        \n",
    "        #接下来是合并重叠度最大的方框，也就是合并ious中值大于thresh的方框\n",
    "        #我们合并的操作就是把他们剔除，因为我们合并这些方框只保留下分数最高的。\n",
    "        #我们经过排序当前我们操作的方框就是分数最高的，所以我们剔除其他和当前重叠度最高的方框\n",
    "        #这里np.where(ious<=thresh)[0]是一个固定写法。\n",
    "        idx = np.where(ious<=thresh)[0]\n",
    "        print(idx)\n",
    " \n",
    "        #把留下来框在进行NMS操作\n",
    "        #这边留下的框是去除当前操作的框，和当前操作的框重叠度大于thresh的框\n",
    "        #每一次都会先去除当前操作框，所以索引的列表就会向前移动移位，要还原就+1，向后移动一位\n",
    "        index = index[idx+1]   # because index start from 1\n",
    "        print(index)\n",
    "    return keep # "
   ],
   "outputs": [],
   "metadata": {}
  },
  {
   "cell_type": "code",
   "execution_count": 6,
   "source": [
    "# 运行并可视化\n",
    " \n",
    "import matplotlib.pyplot as plt\n",
    "# 可视化\n",
    "def plot_bbox(dets, c='k'):\n",
    "    x1 = dets[:,0]\n",
    "    y1 = dets[:,1]\n",
    "    x2 = dets[:,2]\n",
    "    y2 = dets[:,3]\n",
    "    \n",
    "    plt.plot([x1,x2], [y1,y1], c)\n",
    "    plt.plot([x1,x1], [y1,y2], c)\n",
    "    plt.plot([x1,x2], [y2,y2], c)\n",
    "    plt.plot([x2,x2], [y1,y2], c)\n",
    "    plt.title(\" nms\")\n",
    " \n",
    "    \n",
    "plt.figure(1)\n",
    "ax1 = plt.subplot(1,2,1)\n",
    "ax2 = plt.subplot(1,2,2)\n",
    " \n",
    "plt.sca(ax1)\n",
    "plot_bbox(boxes,'k')   # before nms\n",
    " \n",
    "keep = py_cpu_nms(boxes, thresh=0.7) # 输入boxes==============================================\n",
    "plt.sca(ax2)\n",
    "plot_bbox(boxes[keep], 'r')# after nms\n",
    "\n",
    "plt.show() # 显示图像"
   ],
   "outputs": [
    {
     "output_type": "stream",
     "name": "stdout",
     "text": [
      "areas   [12321. 29241. 11211. 12321.  8736. 10656.]\n",
      "scores  [0.72 0.8  0.92 0.72 0.81 0.9 ]\n",
      "[2 5 4 1 3 0]\n",
      "6\n",
      "[2]\n",
      "x1 220.0\n",
      "[220. 230. 250. 100. 100.]\n",
      "[220. 230. 250. 220. 220.] [230. 240. 250. 220. 220.] [315. 320. 320. 210. 210.] [330. 330. 330. 210. 210.]\n",
      "overlaps is [9696. 8281. 5751.    0.    0.]\n",
      "ious is [0.79664777 0.70984056 0.16573009 0.         0.        ]\n",
      "[2 3 4]\n",
      "[1 3 0]\n",
      "3\n",
      "[2, 1]\n",
      "x1 250.0\n",
      "[100. 100.]\n",
      "[250. 250.] [250. 250.] [210. 210.] [210. 210.]\n",
      "overlaps is [0. 0.]\n",
      "ious is [0. 0.]\n",
      "[0 1]\n",
      "[3 0]\n",
      "2\n",
      "[2, 1, 3]\n",
      "x1 100.0\n",
      "[100.]\n",
      "[100.] [100.] [210.] [210.]\n",
      "overlaps is [12321.]\n",
      "ious is [1.]\n",
      "[]\n",
      "[]\n"
     ]
    },
    {
     "output_type": "display_data",
     "data": {
      "text/plain": [
       "<Figure size 432x288 with 2 Axes>"
      ],
      "image/png": "[encoded data removed]"
     },
     "metadata": {
      "needs_background": "light"
     }
    }
   ],
   "metadata": {}
  },
  {
   "cell_type": "code",
   "execution_count": null,
   "source": [],
   "outputs": [],
   "metadata": {}
  }
 ],
 "metadata": {
  "orig_nbformat": 4,
  "language_info": {
   "name": "python",
   "version": "3.6.12",
   "mimetype": "text/x-python",
   "codemirror_mode": {
    "name": "ipython",
    "version": 3
   },
   "pygments_lexer": "ipython3",
   "nbconvert_exporter": "python",
   "file_extension": ".py"
  },
  "kernelspec": {
   "name": "python3",
   "display_name": "Python 3.6.12 64-bit ('common': conda)"
  },
  "interpreter": {
   "hash": "23f77d03b5a41e4d3ddb9e0caaaf52efc8b96489adee7c10c83419330a6f57cc"
  }
 },
 "nbformat": 4,
 "nbformat_minor": 2
}