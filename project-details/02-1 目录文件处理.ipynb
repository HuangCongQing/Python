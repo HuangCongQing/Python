{
 "metadata": {
  "language_info": {
   "codemirror_mode": {
    "name": "ipython",
    "version": 3
   },
   "file_extension": ".py",
   "mimetype": "text/x-python",
   "name": "python",
   "nbconvert_exporter": "python",
   "pygments_lexer": "ipython3",
   "version": 3
  },
  "orig_nbformat": 2,
  "kernelspec": {
   "name": "python_defaultSpec_1596945780397",
   "display_name": "Python 3.5.4 64-bit"
  }
 },
 "nbformat": 4,
 "nbformat_minor": 2,
 "cells": [
  {
   "cell_type": "markdown",
   "metadata": {},
   "source": [
    "## 说明\n",
    "\n",
    "* 处理完数据就保存起来，然后把处理数据的代码注释掉\n",
    "* os相关函数：\n",
    "    * os.path\n",
    "    * os.listdir(dirname)\n",
    "    * os.walk\n",
    "    * os.scandir\n",
    "\n",
    "*  https://blog.csdn.net/happyjxt/article/details/51063854\n",
    "* https://blog.csdn.net/qq_39839807/article/details/104070761"
   ]
  },
  {
   "cell_type": "markdown",
   "metadata": {},
   "source": [
    "## 保存路径\n",
    "```\n",
    "path = '10captcha/images/'\n",
    "num = 100 # 验证码图片数量\n",
    "\n",
    "if not os.path.exists(path):\n",
    "    os.makedirs(path)\n",
    "```"
   ]
  },
  {
   "cell_type": "markdown",
   "metadata": {},
   "source": [
    "## 1 目录中的子文件操作`os.walk('data/images/')`\n",
    "* 获取文件名（经常文件名就是对应标签）"
   ]
  },
  {
   "cell_type": "code",
   "execution_count": 12,
   "metadata": {
    "tags": []
   },
   "outputs": [
    {
     "output_type": "stream",
     "name": "stdout",
     "text": "data/images/ [] ['cat.jpg', 'dao2.jpg', 'Girl.jpg']\ndata/images/cat.jpg\ndata/images/dao2.jpg\ndata/images/Girl.jpg\n"
    }
   ],
   "source": [
    "import os\n",
    "from PIL import Image\n",
    "import matplotlib.pyplot as plt\n",
    "\n",
    "for root,dirs,files in os.walk('data/images/'): # 文件夹路径、文件夹名称和文件名\n",
    "    print(root,dirs,files)\n",
    "    for file in files:\n",
    "        print(os.path.join(root,file))\n",
    "        # image_path = os.path.join(root, file)\n",
    "        # print(image_path)\n",
    "        # img = Image.open(image_path)\n",
    "        # plt.imshow(img)\n",
    "        # plt.axis('off')\n",
    "        # plt.show()"
   ]
  },
  {
   "cell_type": "markdown",
   "metadata": {},
   "source": [
    "## 获取url特定数据"
   ]
  },
  {
   "cell_type": "code",
   "execution_count": 17,
   "metadata": {
    "tags": []
   },
   "outputs": [
    {
     "output_type": "stream",
     "name": "stdout",
     "text": "inception-2015-12-05.tgz\ninception_model\\inception-2015-12-05.tgz\n"
    }
   ],
   "source": [
    "# inception模型下载\n",
    "inception_pretrain_model_url = 'http://download.tensorflow.org/models/image/imagenet/inception-2015-12-05.tgz'\n",
    "# 模型存放地址\n",
    "inception_pretrain_model_dir = \"inception_model\"\n",
    "# 获取文件名以及文件路径\n",
    "filename = inception_pretrain_model_url.split('/')[-1]\n",
    "print(filename)\n",
    "filepath = os.path.join(inception_pretrain_model_dir,filename)\n",
    "print(filepath)"
   ]
  },
  {
   "cell_type": "markdown",
   "metadata": {},
   "source": [
    "## 获取文件名为一个数组 `os.listdir(dataset_dir)`\n"
   ]
  },
  {
   "cell_type": "code",
   "execution_count": 41,
   "metadata": {
    "tags": []
   },
   "outputs": [
    {
     "output_type": "stream",
     "name": "stdout",
     "text": "0131\ndata/code\\0131.jpg\n0153\ndata/code\\0153.jpg\n0161\ndata/code\\0161.jpg\n0178\ndata/code\\0178.jpg\n0398\ndata/code\\0398.jpg\n"
    },
    {
     "output_type": "execute_result",
     "data": {
      "text/plain": "['data/code\\\\0131.jpg',\n 'data/code\\\\0153.jpg',\n 'data/code\\\\0161.jpg',\n 'data/code\\\\0178.jpg',\n 'data/code\\\\0398.jpg']"
     },
     "metadata": {},
     "execution_count": 41
    }
   ],
   "source": [
    "import os\n",
    "# 获取所以验证码图片\n",
    "def _get_filenames(dataset_dir):\n",
    "    captcha_names = []\n",
    "    for filename in os.listdir(dataset_dir):\n",
    "        # 获取文件路径\n",
    "        print(filename.split('.')[-2])\n",
    "        path = os.path.join(dataset_dir, filename)\n",
    "        print(path)\n",
    "        captcha_names.append(path)\n",
    "    return captcha_names\n",
    "\n",
    "dataset_dir = 'data/code'\n",
    "_get_filenames(dataset_dir)"
   ]
  },
  {
   "cell_type": "markdown",
   "metadata": {},
   "source": [
    "## 已得文件数组，获取文件label \n",
    "* 获取文件名：`filename.split('/')[-1][:4]`\n"
   ]
  },
  {
   "cell_type": "code",
   "execution_count": null,
   "metadata": {},
   "outputs": [],
   "source": []
  },
  {
   "cell_type": "code",
   "execution_count": 37,
   "metadata": {
    "tags": []
   },
   "outputs": [
    {
     "output_type": "stream",
     "name": "stdout",
     "text": "0\n0 1 3 1\n1\n0 1 5 3\n2\n0 1 6 1\n3\n0 1 7 8\n4\n0 3 9 8\n['0131', '0153', '0161', '0178', '0398']\n"
    }
   ],
   "source": [
    "def _convert_dataset(split_name, filenames):\n",
    "    labelsAll = []\n",
    "    for i,filename in enumerate(filenames):\n",
    "        try:\n",
    "            # 拿到4位验证码并encode()\n",
    "            print(i)\n",
    "            labels = filename.split('/')[-1][:4]\n",
    "            labelsAll.append(labels)\n",
    "            # print(labelsAll)\n",
    "            # 生成protocal数据类型\n",
    "            print(int(labels[0]), int(labels[1]), int(labels[2]), int(labels[3]))\n",
    "        except IOError as e:\n",
    "            print('Wrong: ' + filename)\n",
    "            print('Error: ',e)\n",
    "            print('Skip it\\n')\n",
    "    return labelsAll\n",
    "\n",
    "\n",
    "# 运行函数\n",
    "filenames = ['data/code/0131.jpg',\n",
    " 'data/code/0153.jpg',\n",
    " 'data/code/0161.jpg',\n",
    " 'data/code/0178.jpg',\n",
    " 'data/code/0398.jpg']\n",
    "labelsAll = _convert_dataset('test', filenames)\n",
    "print(labelsAll)"
   ]
  },
  {
   "cell_type": "code",
   "execution_count": null,
   "metadata": {},
   "outputs": [],
   "source": [
    "# 获取文件名（经常文件名就是对应标签）\n",
    "\n",
    "# 获取文件mfcc特征和对应标签\n",
    "def extract_features(wav_files):\n",
    "    inputs = []\n",
    "    labels = []\n",
    "    \n",
    "    for wav_file in tqdm(wav_files): # 循环每个文件\n",
    "        # 读入音频文件\n",
    "        audio,fs = librosa.load(wav_file) # audio--文件,fs--采样率 \n",
    "\n",
    "        # 获取音频mfcc特征\n",
    "        # [n_steps, n_inputs]  n_steps--几秒音频中分的帧数, n_inputs--特征\n",
    "        mfccs = np.transpose(librosa.feature.mfcc(y=audio, sr=fs, n_mfcc=FLAGS.n_inputs), [1,0]) \n",
    "        inputs.append(mfccs.tolist())\n",
    "    #获取label\n",
    "    for wav_file in wav_files:\n",
    "        label = wav_file.split('/')[-1].split('-')[1] # -分隔得到第2个数字\n",
    "        labels.append(label) \n",
    "    return inputs, np.array(labels, dtype=np.int)\n"
   ]
  },
  {
   "cell_type": "markdown",
   "metadata": {},
   "source": [
    "## 2 单文件中内容操作(每行  定位内容)"
   ]
  },
  {
   "cell_type": "markdown",
   "metadata": {},
   "source": []
  },
  {
   "cell_type": "code",
   "execution_count": 3,
   "metadata": {},
   "outputs": [],
   "source": [
    "# 获得训练用的wav文件路径列表  \n",
    "def get_wav_files(parent_dir,sub_dirs): \n",
    "    wav_files = []  \n",
    "    for l, sub_dir in enumerate(sub_dirs):\n",
    "        wav_path = os.path.join(parent_dir, sub_dir)\n",
    "        for (dirpath, dirnames, filenames) in os.walk(wav_path):  \n",
    "            for filename in filenames:  \n",
    "                if filename.endswith('.wav') or filename.endswith('.WAV'):   # 判断后缀名是否为wav WAV\n",
    "                    filename_path = os.sep.join([dirpath, filename])  \n",
    "                    wav_files.append(filename_path)  \n",
    "    return wav_files  \n",
    "\n",
    "# 获取文件mfcc特征和对应标签\n",
    "def extract_features(wav_files):\n",
    "    inputs = []\n",
    "    labels = []\n",
    "    \n",
    "    for wav_file in tqdm(wav_files):\n",
    "        # 读入音频文件\n",
    "        audio,fs = librosa.load(wav_file)\n",
    "\n",
    "        # 获取音频mfcc特征\n",
    "        # [n_steps, n_inputs]\n",
    "        mfccs = np.transpose(librosa.feature.mfcc(y=audio, sr=fs, n_mfcc=FLAGS.n_inputs), [1,0]) \n",
    "        inputs.append(mfccs.tolist()) \n",
    "    #获取label\n",
    "    for wav_file in wav_files:\n",
    "        label = wav_file.split('/')[-1].split('-')[1]\n",
    "        labels.append(label) \n",
    "    return inputs, np.array(labels, dtype=np.int)"
   ]
  },
  {
   "cell_type": "code",
   "execution_count": null,
   "metadata": {},
   "outputs": [],
   "source": [
    "# 获得训练用的wav文件路径列表 \n",
    "wav_files = get_wav_files(FLAGS.parent_dir,FLAGS.tr_sub_dirs)\n",
    "# 获取文件mfcc特征和对应标签\n",
    "tr_features,tr_labels = extract_features(wav_files)\n",
    "\n",
    "np.save('tr_features.npy',tr_features)\n",
    "np.save('tr_labels.npy',tr_labels)\n",
    "\n",
    "# tr_features=np.load('tr_features.npy')\n",
    "# tr_labels=np.load('tr_labels.npy')"
   ]
  }
 ]
}