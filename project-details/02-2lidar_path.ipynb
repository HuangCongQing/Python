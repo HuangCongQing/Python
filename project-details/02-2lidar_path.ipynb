{
 "cells": [
  {
   "cell_type": "markdown",
   "source": [
    "## 雷达路径处理\n",
    "\n",
    "\n"
   ],
   "metadata": {}
  },
  {
   "cell_type": "code",
   "execution_count": 3,
   "source": [
    "\n",
    "import os\n",
    "import sys\n",
    "\n",
    "for root,dirs,files in os.walk('/media/hcq/hcq4T/huituo_data_collection/detection'): # 文件夹路径、文件夹名称和文件名数组\n",
    "    print(root,dirs,files)\n",
    "    # for file in files:\n",
    "        # print(os.path.join(root,file))"
   ],
   "outputs": [
    {
     "output_type": "stream",
     "name": "stdout",
     "text": [
      "/media/hcq/hcq4T/huituo_data_collection/detection ['20210705Detection_zhunnneg', 'detection_yimin', 'ouster_bagfile_extract'] []\n",
      "/media/hcq/hcq4T/huituo_data_collection/detection/ouster_bagfile_extract ['20210705Detection_zhunnneg', 'detection_yimin'] []\n",
      "/media/hcq/hcq4T/huituo_data_collection/detection/ouster_bagfile_extract/20210705Detection_zhunnneg ['image', 'pointcloud'] []\n",
      "/media/hcq/hcq4T/huituo_data_collection/detection/ouster_bagfile_extract/20210705Detection_zhunnneg/image [] []\n",
      "/media/hcq/hcq4T/huituo_data_collection/detection/ouster_bagfile_extract/20210705Detection_zhunnneg/pointcloud [] []\n",
      "/media/hcq/hcq4T/huituo_data_collection/detection/ouster_bagfile_extract/detection_yimin ['1'] []\n",
      "/media/hcq/hcq4T/huituo_data_collection/detection/ouster_bagfile_extract/detection_yimin/1 ['image', 'pointcloud'] []\n",
      "/media/hcq/hcq4T/huituo_data_collection/detection/ouster_bagfile_extract/detection_yimin/1/image [] ['000000.jpg', '000001.jpg', '000002.jpg', '000003.jpg', '000004.jpg', '000005.jpg', '000006.jpg', '000007.jpg']\n",
      "/media/hcq/hcq4T/huituo_data_collection/detection/ouster_bagfile_extract/detection_yimin/1/pointcloud [] ['000000.pcd', '000001.pcd', '000002.pcd', '000003.pcd', '000004.pcd', '000005.pcd', '000006.pcd', '000007.pcd', '000008.pcd', '000009.pcd', '000010.pcd', '000011.pcd', '000012.pcd', '000013.pcd', '000014.pcd']\n"
     ]
    }
   ],
   "metadata": {}
  },
  {
   "cell_type": "code",
   "execution_count": null,
   "source": [
    "\n",
    "dataset_dir = '/media/hcq/hcq4T/huituo_data_collection/detection'\n",
    "\n",
    "captcha_names = []\n",
    "for filename in os.listdir(dataset_dir):\n",
    "    # 获取文件路径\n",
    "    print(filename)\n",
    "    path = os.path.join(dataset_dir, filename)\n",
    "    print(path)"
   ],
   "outputs": [],
   "metadata": {}
  },
  {
   "cell_type": "markdown",
   "source": [
    "## 获取所有文件名"
   ],
   "metadata": {}
  },
  {
   "cell_type": "code",
   "execution_count": 1,
   "source": [
    "dataset_dirs =['/media/hcq/hcq4T/huituo_data_collection/detection/20210705Detection_zhunnneg' , \"/media/hcq/hcq4T/huituo_data_collection/detection/detection_yimin\"]  # 20210705Detection_zhunnneg  detection_yimin\n",
    "bag_list = []\n",
    "for dataset_dir in dataset_dirs:\n",
    "    for root,dirs,files in os.walk(dataset_dir): # #当前目录路径 、#当前路径下所有子目录 数组 和#当前路径下所有非目录子文件  \n",
    "        # print(root,dirs) # dirs =  ['1', '2', '3', '4', '5', '6', '7']\n",
    "        # print(\"files:\", files) # #当前路径下所有非目录子文件  \n",
    "        for file in files:\n",
    "            if(file.split(\".\")[-1]== \"bag\"):\n",
    "                print(os.path.join(root,file))\n",
    "                bag_list.append()\n",
    "                # print(file)"
   ],
   "outputs": [
    {
     "output_type": "stream",
     "name": "stdout",
     "text": [
      "/media/hcq/hcq4T/huituo_data_collection/detection/20210705Detection_zhunnneg/2021-07-05-10-04-49.bag\n"
     ]
    },
    {
     "output_type": "error",
     "ename": "TypeError",
     "evalue": "append() takes exactly one argument (0 given)",
     "traceback": [
      "\u001b[0;31m---------------------------------------------------------------------------\u001b[0m",
      "\u001b[0;31mTypeError\u001b[0m                                 Traceback (most recent call last)",
      "\u001b[0;32m<ipython-input-1-494d1ffc7ad3>\u001b[0m in \u001b[0;36m<module>\u001b[0;34m\u001b[0m\n\u001b[1;32m      8\u001b[0m             \u001b[0;32mif\u001b[0m\u001b[0;34m(\u001b[0m\u001b[0mfile\u001b[0m\u001b[0;34m.\u001b[0m\u001b[0msplit\u001b[0m\u001b[0;34m(\u001b[0m\u001b[0;34m\".\"\u001b[0m\u001b[0;34m)\u001b[0m\u001b[0;34m[\u001b[0m\u001b[0;34m-\u001b[0m\u001b[0;36m1\u001b[0m\u001b[0;34m]\u001b[0m\u001b[0;34m==\u001b[0m \u001b[0;34m\"bag\"\u001b[0m\u001b[0;34m)\u001b[0m\u001b[0;34m:\u001b[0m\u001b[0;34m\u001b[0m\u001b[0;34m\u001b[0m\u001b[0m\n\u001b[1;32m      9\u001b[0m                 \u001b[0mprint\u001b[0m\u001b[0;34m(\u001b[0m\u001b[0mos\u001b[0m\u001b[0;34m.\u001b[0m\u001b[0mpath\u001b[0m\u001b[0;34m.\u001b[0m\u001b[0mjoin\u001b[0m\u001b[0;34m(\u001b[0m\u001b[0mroot\u001b[0m\u001b[0;34m,\u001b[0m\u001b[0mfile\u001b[0m\u001b[0;34m)\u001b[0m\u001b[0;34m)\u001b[0m\u001b[0;34m\u001b[0m\u001b[0;34m\u001b[0m\u001b[0m\n\u001b[0;32m---> 10\u001b[0;31m                 \u001b[0mbag_list\u001b[0m\u001b[0;34m.\u001b[0m\u001b[0mappend\u001b[0m\u001b[0;34m(\u001b[0m\u001b[0;34m)\u001b[0m\u001b[0;34m\u001b[0m\u001b[0;34m\u001b[0m\u001b[0m\n\u001b[0m\u001b[1;32m     11\u001b[0m                 \u001b[0;31m# print(file)\u001b[0m\u001b[0;34m\u001b[0m\u001b[0;34m\u001b[0m\u001b[0;34m\u001b[0m\u001b[0m\n",
      "\u001b[0;31mTypeError\u001b[0m: append() takes exactly one argument (0 given)"
     ]
    }
   ],
   "metadata": {}
  },
  {
   "cell_type": "markdown",
   "source": [
    "## 获取文件路径中某个名字下标"
   ],
   "metadata": {}
  },
  {
   "cell_type": "code",
   "execution_count": 46,
   "source": [
    "import numpy as np\n",
    "\n",
    "path =  \"/media/hcq/hcq4T/huituo_data_collection/detection/detection_yimin/1/2021-08-02-10-01-41.bag\"\n",
    "path_arr = path.split('/') \n",
    "print(path_arr)\n",
    "print( [ name == 'detection'  for name in path_arr ] )\n",
    "id = np.where([ name == 'detection'  for name in path_arr ] )[0]\n",
    "print(np.where([ name == 'detection'  for name in path_arr ] )[0] )\n",
    "print(path_arr[int(id)])\n",
    "\n"
   ],
   "outputs": [
    {
     "output_type": "stream",
     "name": "stdout",
     "text": [
      "['', 'media', 'hcq', 'hcq4T', 'huituo_data_collection', 'detection', 'detection_yimin', '1', '2021-08-02-10-01-41.bag']\n",
      "[False, False, False, False, False, True, False, False, False]\n",
      "[5]\n",
      "detection\n"
     ]
    }
   ],
   "metadata": {}
  },
  {
   "cell_type": "code",
   "execution_count": 3,
   "source": [
    "import numpy as np\n",
    "\n",
    "path =  \"/media/hcq/hcq4T/huituo_data_collection/detection/detection_yimin/1/2021-08-02-10-01-41.bag\"\n",
    "# path = \"/media/hcq/hcq4T/huituo_data_collection/detection/20210705Detection_zhunnneg/2021-07-05-11-01-54.bag\"\n",
    "path_arr = path.split('detection/') \n",
    "print(path_arr)\n",
    "print(path_arr[-1].split(\".\")[0]) # detection_yimin/1/2021-08-02-10-01-41\n",
    "print(path_arr[-1].split('/')[:-1])\n",
    "print(\"/\".join(path_arr[-1].split('/')[:-1])\t)  # 数组转字符串"
   ],
   "outputs": [
    {
     "output_type": "stream",
     "name": "stdout",
     "text": [
      "['/media/hcq/hcq4T/huituo_data_collection/', 'detection_yimin/1/2021-08-02-10-01-41.bag']\n",
      "detection_yimin/1/2021-08-02-10-01-41\n",
      "['detection_yimin', '1']\n",
      "detection_yimin/1\n"
     ]
    }
   ],
   "metadata": {}
  },
  {
   "cell_type": "code",
   "execution_count": 4,
   "source": [
    "dataset_dirs =['/media/hcq/hcq4T/huituo_data_collection/detection/20210705Detection_zhunnneg' , \"/media/hcq/hcq4T/huituo_data_collection/detection/detection_yimin\"]  # 20210705Detection_zhunnneg  detection_yimin\n",
    "bag_list = []\n",
    "for dataset_dir in dataset_dirs:\n",
    "    print(dataset_dir)\n",
    "    for root,dirs,files in os.walk(dataset_dir): # #当前目录路径 、#当前路径下所有子目录 数组 和#当前路径下所有非目录子文件  \n",
    "        print(root,dirs) # dirs =  ['1', '2', '3', '4', '5', '6', '7']\n",
    "        # print(\"files:\", files) # #当前路径下所有非目录子文件  \n",
    "        for file in files:\n",
    "            if(file.split(\".\")[-1]== \"bag\"): # 判断bag]包\n",
    "                # print(os.path.join(root,file))\n",
    "                bag_list.append(os.path.join(root,file))\n",
    "                # print(file)\n",
    "print(bag_list)"
   ],
   "outputs": [
    {
     "output_type": "stream",
     "name": "stdout",
     "text": [
      "/media/hcq/hcq4T/huituo_data_collection/detection/20210705Detection_zhunnneg\n",
      "/media/hcq/hcq4T/huituo_data_collection/detection/detection_yimin\n",
      "[]\n"
     ]
    }
   ],
   "metadata": {}
  },
  {
   "cell_type": "code",
   "execution_count": 6,
   "source": [
    "topic =\"/os_cloud_node/points\"  \n",
    "topic = \"/ouster_left/os_cloud_node/points\"\n",
    "# /ouster_right/os_cloud_node/points\n",
    "# /os_cloud_node/points\n",
    "topic.split(\"/\")[1]"
   ],
   "outputs": [
    {
     "output_type": "execute_result",
     "data": {
      "text/plain": [
       "'ouster_left'"
      ]
     },
     "metadata": {},
     "execution_count": 6
    }
   ],
   "metadata": {}
  },
  {
   "cell_type": "code",
   "execution_count": null,
   "source": [],
   "outputs": [],
   "metadata": {}
  }
 ],
 "metadata": {
  "orig_nbformat": 4,
  "language_info": {
   "name": "python",
   "version": "3.6.12",
   "mimetype": "text/x-python",
   "codemirror_mode": {
    "name": "ipython",
    "version": 3
   },
   "pygments_lexer": "ipython3",
   "nbconvert_exporter": "python",
   "file_extension": ".py"
  },
  "kernelspec": {
   "name": "python3",
   "display_name": "Python 3.6.12 64-bit ('common': conda)"
  },
  "interpreter": {
   "hash": "23f77d03b5a41e4d3ddb9e0caaaf52efc8b96489adee7c10c83419330a6f57cc"
  }
 },
 "nbformat": 4,
 "nbformat_minor": 2
}