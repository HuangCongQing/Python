{
 "cells": [
  {
   "cell_type": "markdown",
   "source": [
    "## 雷达路径处理\n",
    "\n",
    "\n"
   ],
   "metadata": {}
  },
  {
   "cell_type": "code",
   "execution_count": null,
   "source": [
    "\n",
    "import os\n",
    "import sys\n",
    "\n",
    "for root,dirs,files in os.walk('/media/hcq/hcq4T/huituo_data_collection/detection'): # 文件夹路径、文件夹名称和文件名数组\n",
    "    print(root,dirs,files)\n",
    "    for file in files:\n",
    "        print(os.path.join(root,file))"
   ],
   "outputs": [],
   "metadata": {}
  },
  {
   "cell_type": "code",
   "execution_count": null,
   "source": [
    "\n",
    "dataset_dir = '/media/hcq/hcq4T/huituo_data_collection/detection'\n",
    "\n",
    "captcha_names = []\n",
    "for filename in os.listdir(dataset_dir):\n",
    "    # 获取文件路径\n",
    "    print(filename)\n",
    "    path = os.path.join(dataset_dir, filename)\n",
    "    print(path)"
   ],
   "outputs": [],
   "metadata": {}
  },
  {
   "cell_type": "markdown",
   "source": [
    "## 获取所有文件名"
   ],
   "metadata": {}
  },
  {
   "cell_type": "code",
   "execution_count": null,
   "source": [
    "dataset_dirs =['/media/hcq/hcq4T/huituo_data_collection/detection/20210705Detection_zhunnneg' , \"/media/hcq/hcq4T/huituo_data_collection/detection/detection_yimin\"]  # 20210705Detection_zhunnneg  detection_yimin\n",
    "bag_list = []\n",
    "for dataset_dir in dataset_dirs:\n",
    "    for root,dirs,files in os.walk(dataset_dir): # #当前目录路径 、#当前路径下所有子目录 数组 和#当前路径下所有非目录子文件  \n",
    "        # print(root,dirs) # dirs =  ['1', '2', '3', '4', '5', '6', '7']\n",
    "        # print(\"files:\", files) # #当前路径下所有非目录子文件  \n",
    "        for file in files:\n",
    "            if(file.split(\".\")[-1]== \"bag\"):\n",
    "                print(os.path.join(root,file))\n",
    "                bag_list.append()\n",
    "                # print(file)"
   ],
   "outputs": [],
   "metadata": {}
  },
  {
   "cell_type": "markdown",
   "source": [
    "## 获取文件路径中某个名字下标"
   ],
   "metadata": {}
  },
  {
   "cell_type": "code",
   "execution_count": 46,
   "source": [
    "import numpy as np\n",
    "\n",
    "path =  \"/media/hcq/hcq4T/huituo_data_collection/detection/detection_yimin/1/2021-08-02-10-01-41.bag\"\n",
    "path_arr = path.split('/') \n",
    "print(path_arr)\n",
    "print( [ name == 'detection'  for name in path_arr ] )\n",
    "id = np.where([ name == 'detection'  for name in path_arr ] )[0]\n",
    "print(np.where([ name == 'detection'  for name in path_arr ] )[0] )\n",
    "print(path_arr[int(id)])\n",
    "\n"
   ],
   "outputs": [
    {
     "output_type": "stream",
     "name": "stdout",
     "text": [
      "['', 'media', 'hcq', 'hcq4T', 'huituo_data_collection', 'detection', 'detection_yimin', '1', '2021-08-02-10-01-41.bag']\n",
      "[False, False, False, False, False, True, False, False, False]\n",
      "[5]\n",
      "detection\n"
     ]
    }
   ],
   "metadata": {}
  },
  {
   "cell_type": "code",
   "execution_count": 62,
   "source": [
    "import numpy as np\n",
    "\n",
    "path =  \"/media/hcq/hcq4T/huituo_data_collection/detection/detection_yimin/1/2021-08-02-10-01-41.bag\"\n",
    "# path = \"/media/hcq/hcq4T/huituo_data_collection/detection/20210705Detection_zhunnneg/2021-07-05-11-01-54.bag\"\n",
    "path_arr = path.split('detection/') \n",
    "print(path_arr[-1].split('/')[:-1])\n",
    "print(\"/\".join(path_arr[-1].split('/')[:-1])\t)  # 数组转字符串"
   ],
   "outputs": [
    {
     "output_type": "stream",
     "name": "stdout",
     "text": [
      "['20210705Detection_zhunnneg']\n",
      "20210705Detection_zhunnneg\n"
     ]
    }
   ],
   "metadata": {}
  },
  {
   "cell_type": "code",
   "execution_count": null,
   "source": [],
   "outputs": [],
   "metadata": {}
  }
 ],
 "metadata": {
  "orig_nbformat": 4,
  "language_info": {
   "name": "python",
   "version": "3.6.12",
   "mimetype": "text/x-python",
   "codemirror_mode": {
    "name": "ipython",
    "version": 3
   },
   "pygments_lexer": "ipython3",
   "nbconvert_exporter": "python",
   "file_extension": ".py"
  },
  "kernelspec": {
   "name": "python3",
   "display_name": "Python 3.6.12 64-bit ('common': conda)"
  },
  "interpreter": {
   "hash": "23f77d03b5a41e4d3ddb9e0caaaf52efc8b96489adee7c10c83419330a6f57cc"
  }
 },
 "nbformat": 4,
 "nbformat_minor": 2
}