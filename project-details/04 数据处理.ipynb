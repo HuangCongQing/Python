{
 "metadata": {
  "language_info": {
   "codemirror_mode": {
    "name": "ipython",
    "version": 3
   },
   "file_extension": ".py",
   "mimetype": "text/x-python",
   "name": "python",
   "nbconvert_exporter": "python",
   "pygments_lexer": "ipython3",
   "version": 3
  },
  "orig_nbformat": 2
 },
 "nbformat": 4,
 "nbformat_minor": 2,
 "cells": [
  {
   "cell_type": "markdown",
   "metadata": {},
   "source": [
    "## txt文件组成词典(键值对) uid_to_human[uid] = human_string\n",
    "\n",
    "```txt\n",
    "n00004475\torganism, being\n",
    "n00005787\tbenthos\n",
    "n00006024\theterotroph\n",
    "n00006484\tcell\n",
    "```"
   ]
  },
  {
   "cell_type": "code",
   "execution_count": null,
   "metadata": {},
   "outputs": [],
   "source": [
    "uid_lookup_path = 'inception_model/imagenet_synset_to_human_label_map.txt' # 对应标签和集合\n",
    "uid_to_human={}  # 定义一个字典\n",
    "# 一行一行读取数据\n",
    "for line in proto_as_ascii_lines:\n",
    "    line = line.strip('\\n') # 去掉换行符\n",
    "    parsed_items = line.split('\\t') # 按照tab符分割\n",
    "    uid = parsed_items[0] # 获取分类编号\n",
    "    human_string = parsed_items[1] # 获取分类名称\n",
    "    uid_to_human[uid] = human_string # 保存编号字符串和分类名称的映射关系\n",
    "# print(uid_to_human)"
   ]
  },
  {
   "cell_type": "markdown",
   "metadata": {},
   "source": [
    "# 读取目录文件\n",
    "root,dirs,files\n",
    "* root  路径\n",
    "* dir 子目录\n",
    "* files 文件"
   ]
  },
  {
   "cell_type": "code",
   "execution_count": null,
   "metadata": {},
   "outputs": [],
   "source": [
    "# 遍历目录\n",
    "for root,dirs,files in os.walk('images/'):\n",
    "    # 载入图片\n",
    "    for file in files:\n",
    "        image_data = tf.gfile.FastGFile(os.path.join(root,file),'rb').read()\n",
    "        # 运行softmax节点，向其中feed值\n",
    "        # 可以在网络中找到这个名字，DecodeJpeg/contents，\n",
    "        # 据此可以发现，根据名字取网络中op时，如果其名字带括号，就用括号内的名字，如果不带括号，就用右上角介绍的名字。\n",
    "        # 而带个0，是默认情况，如果网络中出现同名节点，这个编号会递增\n",
    "        predictions = sess.run(softmax_tensor,{'DecodeJpeg/contents:0':image_data})\n",
    "        predictions = np.squeeze(predictions)# 把结果转化为1维数据\n",
    "\n",
    "        image_path = os.path.join(root, file)\n",
    "        print(image_path)"
   ]
  }
 ]
}