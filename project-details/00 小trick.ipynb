{
 "metadata": {
  "language_info": {
   "codemirror_mode": {
    "name": "ipython",
    "version": 3
   },
   "file_extension": ".py",
   "mimetype": "text/x-python",
   "name": "python",
   "nbconvert_exporter": "python",
   "pygments_lexer": "ipython3",
   "version": 3
  },
  "orig_nbformat": 2,
  "kernelspec": {
   "name": "python_defaultSpec_1596953155937",
   "display_name": "Python 3.5.4 64-bit"
  }
 },
 "nbformat": 4,
 "nbformat_minor": 2,
 "cells": [
  {
   "cell_type": "markdown",
   "metadata": {},
   "source": [
    "## 01 for循环生成数组(生成验证码)"
   ]
  },
  {
   "cell_type": "code",
   "execution_count": 1,
   "metadata": {
    "tags": []
   },
   "outputs": [
    {
     "output_type": "stream",
     "name": "stdout",
     "text": "['0', '1', '2', '3', '4', '5', '6', '7', '8', '9']\n['a', 'b', 'c', 'd', 'e', 'f', 'g', 'h', 'i', 'j', 'k', 'l', 'm', 'n', 'o', 'p', 'q', 'r', 's', 't', 'u', 'v', 'w', 'x', 'y', 'z']\n['A', 'B', 'C', 'D', 'E', 'F', 'G', 'H', 'I', 'J', 'K', 'L', 'M', 'N', 'O', 'P', 'Q', 'R', 'S', 'T', 'U', 'V', 'W', 'X', 'Y', 'Z']\n"
    }
   ],
   "source": [
    "number = [str(i) for i in range(10)]\n",
    "little = [chr(i) for i in range(97,123)]\n",
    "large = [chr(i) for i in range(65,91)]\n",
    "print(number)\n",
    "print(little)\n",
    "print(large)"
   ]
  },
  {
   "cell_type": "markdown",
   "metadata": {},
   "source": [
    "## choice(['red','green'],size=10)  随机生成指定内容"
   ]
  },
  {
   "cell_type": "code",
   "execution_count": 8,
   "metadata": {
    "tags": []
   },
   "outputs": [
    {
     "output_type": "stream",
     "name": "stdout",
     "text": "['red' 'red' 'green' 'red' 'green' 'green' 'red' 'green' 'green' 'green']\nredredgreenredgreengreenredgreengreengreen\n"
    }
   ],
   "source": [
    "from numpy.random import choice\n",
    "\n",
    "colors = choice(['red','green'],size=10)\n",
    "print(colors)\n",
    "print(''.join(colors)) # 转为字符串"
   ]
  },
  {
   "cell_type": "markdown",
   "metadata": {},
   "source": [
    "## 补40个零"
   ]
  },
  {
   "cell_type": "code",
   "execution_count": 5,
   "metadata": {
    "tags": []
   },
   "outputs": [
    {
     "output_type": "stream",
     "name": "stdout",
     "text": "[1, 5, 9, [0, 0, 0, 0, 0]]\n"
    }
   ],
   "source": [
    "mfccs =[1,5,9]\n",
    "n_inputs = 5 # 补零\n",
    "mfccs.append([0] * n_inputs) \n",
    "print(mfccs)"
   ]
  },
  {
   "cell_type": "markdown",
   "metadata": {},
   "source": [
    "## 取多层数组维度最长的长度"
   ]
  },
  {
   "cell_type": "code",
   "execution_count": 4,
   "metadata": {
    "tags": []
   },
   "outputs": [
    {
     "output_type": "stream",
     "name": "stdout",
     "text": "4\n"
    }
   ],
   "source": [
    "tr_features = [[1,2,5,9] , [1,6]] # len分别是4和2\n",
    "wav_max_len = max([len(feature) for feature in tr_features])\n",
    "print(wav_max_len)"
   ]
  },
  {
   "cell_type": "code",
   "execution_count": null,
   "metadata": {},
   "outputs": [],
   "source": []
  }
 ]
}