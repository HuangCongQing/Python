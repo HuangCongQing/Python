{
 "cells": [
  {
   "cell_type": "markdown",
   "metadata": {},
   "source": [
    "# tanh\n",
    "https://vimsky.com/examples/usage/numpy-tanh-python.html"
   ]
  },
  {
   "cell_type": "code",
   "execution_count": 34,
   "metadata": {},
   "outputs": [
    {
     "name": "stdout",
     "output_type": "stream",
     "text": [
      "Input array : \n",
      " [0, 1.5707963267948966, 1.0471975511965976, 3.141592653589793]\n",
      "\n",
      "Tangent Hyperbolic values : \n",
      " [0.         0.91715234 0.78071444 0.99627208]\n"
     ]
    }
   ],
   "source": [
    "  \n",
    "import numpy as np \n",
    "import math \n",
    "  \n",
    "in_array = [0, math.pi / 2, np.pi / 3, np.pi] \n",
    "print (\"Input array : \\n\", in_array) \n",
    "  \n",
    "tanh_Values = np.tanh(in_array) \n",
    "print (\"\\nTangent Hyperbolic values : \\n\", tanh_Values)"
   ]
  },
  {
   "cell_type": "code",
   "execution_count": 40,
   "metadata": {},
   "outputs": [
    {
     "name": "stdout",
     "output_type": "stream",
     "text": [
      "0.34909248729495124\n",
      "2.2975599250672945\n",
      "2.6466524123622457\n"
     ]
    }
   ],
   "source": [
    "# 反双曲正切（反函数）\n",
    "print(np.arctanh(0.99)-np.arctanh(0.98))\n",
    "print(np.arctanh(0.98))\n",
    "print(np.arctanh(0.99))\n"
   ]
  },
  {
   "cell_type": "code",
   "execution_count": 44,
   "metadata": {},
   "outputs": [
    {
     "name": "stdout",
     "output_type": "stream",
     "text": [
      "2.2975599250672945\n",
      "2.3234589250709146 0.9809999959088231\n",
      "diff: 0.02589900000362011\n"
     ]
    }
   ],
   "source": [
    "print(np.arctanh(0.98)) # 2.2975599250672945\n",
    "for x in np.arange(np.arctanh(0.98), np.arctanh(0.99), 0.000001)[::-1]:\n",
    "    if(np.tanh(x)-0.98 <1e-3):\n",
    "        print(x, np.tanh(x))\n",
    "        print(\"diff:\", x -np.arctanh(0.98))\n",
    "        break"
   ]
  },
  {
   "cell_type": "code",
   "execution_count": null,
   "metadata": {},
   "outputs": [],
   "source": []
  },
  {
   "cell_type": "code",
   "execution_count": 33,
   "metadata": {},
   "outputs": [
    {
     "name": "stdout",
     "output_type": "stream",
     "text": [
      "[2.29755993 2.29756093 2.29756193 ... 2.64664993 2.64665093 2.64665193]\n",
      "[2.64665193 2.64665093 2.64664993 ... 2.29756193 2.29756093 2.29755993]\n"
     ]
    }
   ],
   "source": [
    "print(np.arange(np.arctanh(0.98), np.arctanh(0.99), 0.000001))\n",
    "\n",
    "print(np.arange(np.arctanh(0.98), np.arctanh(0.99), 0.000001)[::-1])"
   ]
  },
  {
   "cell_type": "code",
   "execution_count": null,
   "metadata": {},
   "outputs": [],
   "source": []
  }
 ],
 "metadata": {
  "interpreter": {
   "hash": "6da98eacdef9d70d05690ff9a51cb11cd928be326ca4c66c5cb22400c3fb5833"
  },
  "kernelspec": {
   "display_name": "Python 3.6.12 64-bit ('common': conda)",
   "name": "python3"
  },
  "language_info": {
   "codemirror_mode": {
    "name": "ipython",
    "version": 3
   },
   "file_extension": ".py",
   "mimetype": "text/x-python",
   "name": "python",
   "nbconvert_exporter": "python",
   "pygments_lexer": "ipython3",
   "version": "3.6.12"
  },
  "orig_nbformat": 4
 },
 "nbformat": 4,
 "nbformat_minor": 2
}
