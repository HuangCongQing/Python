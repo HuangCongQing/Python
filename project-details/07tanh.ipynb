{
 "cells": [
  {
   "cell_type": "markdown",
   "source": [
    "# tanh\r\n",
    "https://vimsky.com/examples/usage/numpy-tanh-python.html"
   ],
   "metadata": {}
  },
  {
   "cell_type": "code",
   "execution_count": 34,
   "source": [
    "  \r\n",
    "import numpy as np \r\n",
    "import math \r\n",
    "  \r\n",
    "in_array = [0, math.pi / 2, np.pi / 3, np.pi] \r\n",
    "print (\"Input array : \\n\", in_array) \r\n",
    "  \r\n",
    "tanh_Values = np.tanh(in_array) \r\n",
    "print (\"\\nTangent Hyperbolic values : \\n\", tanh_Values)"
   ],
   "outputs": [
    {
     "output_type": "stream",
     "name": "stdout",
     "text": [
      "Input array : \n",
      " [0, 1.5707963267948966, 1.0471975511965976, 3.141592653589793]\n",
      "\n",
      "Tangent Hyperbolic values : \n",
      " [0.         0.91715234 0.78071444 0.99627208]\n"
     ]
    }
   ],
   "metadata": {}
  },
  {
   "cell_type": "code",
   "execution_count": 40,
   "source": [
    "# 反双曲正切（反函数）\r\n",
    "print(np.arctanh(0.99)-np.arctanh(0.98))\r\n",
    "print(np.arctanh(0.98))\r\n",
    "print(np.arctanh(0.99))\r\n"
   ],
   "outputs": [
    {
     "output_type": "stream",
     "name": "stdout",
     "text": [
      "0.34909248729495124\n",
      "2.2975599250672945\n",
      "2.6466524123622457\n"
     ]
    }
   ],
   "metadata": {}
  },
  {
   "cell_type": "code",
   "execution_count": 44,
   "source": [
    "print(np.arctanh(0.98)) # 2.2975599250672945\r\n",
    "for x in np.arange(np.arctanh(0.98), np.arctanh(0.99), 0.000001)[::-1]:\r\n",
    "    if(np.tanh(x)-0.98 <1e-3):\r\n",
    "        print(x, np.tanh(x))\r\n",
    "        print(\"diff:\", x -np.arctanh(0.98))\r\n",
    "        break"
   ],
   "outputs": [
    {
     "output_type": "stream",
     "name": "stdout",
     "text": [
      "2.2975599250672945\n",
      "2.3234589250709146 0.9809999959088231\n",
      "diff: 0.02589900000362011\n"
     ]
    }
   ],
   "metadata": {}
  },
  {
   "cell_type": "code",
   "execution_count": null,
   "source": [],
   "outputs": [],
   "metadata": {}
  },
  {
   "cell_type": "code",
   "execution_count": 33,
   "source": [
    "print(np.arange(np.arctanh(0.98), np.arctanh(0.99), 0.000001))\r\n",
    "\r\n",
    "print(np.arange(np.arctanh(0.98), np.arctanh(0.99), 0.000001)[::-1])"
   ],
   "outputs": [
    {
     "output_type": "stream",
     "name": "stdout",
     "text": [
      "[2.29755993 2.29756093 2.29756193 ... 2.64664993 2.64665093 2.64665193]\n",
      "[2.64665193 2.64665093 2.64664993 ... 2.29756193 2.29756093 2.29755993]\n"
     ]
    }
   ],
   "metadata": {}
  },
  {
   "cell_type": "code",
   "execution_count": null,
   "source": [],
   "outputs": [],
   "metadata": {}
  }
 ],
 "metadata": {
  "orig_nbformat": 4,
  "language_info": {
   "name": "python",
   "version": "3.6.12",
   "mimetype": "text/x-python",
   "codemirror_mode": {
    "name": "ipython",
    "version": 3
   },
   "pygments_lexer": "ipython3",
   "nbconvert_exporter": "python",
   "file_extension": ".py"
  },
  "kernelspec": {
   "name": "python3",
   "display_name": "Python 3.6.12 64-bit ('common': conda)"
  },
  "interpreter": {
   "hash": "6da98eacdef9d70d05690ff9a51cb11cd928be326ca4c66c5cb22400c3fb5833"
  }
 },
 "nbformat": 4,
 "nbformat_minor": 2
}