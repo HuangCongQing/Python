{
 "cells": [
  {
   "cell_type": "markdown",
   "source": [
    "## 雷达路径处理\n",
    "\n",
    "\n"
   ],
   "metadata": {}
  },
  {
   "cell_type": "code",
   "execution_count": null,
   "source": [
    "\n",
    "import os\n",
    "import sys\n",
    "\n",
    "for root,dirs,files in os.walk('/media/hcq/hcq4T/huituo_data_collection/detection'): # 文件夹路径、文件夹名称和文件名数组\n",
    "    print(root,dirs,files)\n",
    "    # for file in files:\n",
    "        # print(os.path.join(root,file))"
   ],
   "outputs": [],
   "metadata": {}
  },
  {
   "cell_type": "code",
   "execution_count": null,
   "source": [
    "\n",
    "dataset_dir = '/media/hcq/hcq4T/huituo_data_collection/detection'\n",
    "\n",
    "captcha_names = []\n",
    "for filename in os.listdir(dataset_dir):\n",
    "    # 获取文件路径\n",
    "    print(filename)\n",
    "    path = os.path.join(dataset_dir, filename)\n",
    "    print(path)"
   ],
   "outputs": [],
   "metadata": {}
  },
  {
   "cell_type": "markdown",
   "source": [
    "## 获取所有文件名"
   ],
   "metadata": {}
  },
  {
   "cell_type": "code",
   "execution_count": null,
   "source": [
    "dataset_dirs =['/media/hcq/hcq4T/huituo_data_collection/detection/20210705Detection_zhunnneg' , \"/media/hcq/hcq4T/huituo_data_collection/detection/detection_yimin\"]  # 20210705Detection_zhunnneg  detection_yimin\n",
    "bag_list = []\n",
    "for dataset_dir in dataset_dirs:\n",
    "    for root,dirs,files in os.walk(dataset_dir): # #当前目录路径 、#当前路径下所有子目录 数组 和#当前路径下所有非目录子文件  \n",
    "        # print(root,dirs) # dirs =  ['1', '2', '3', '4', '5', '6', '7']\n",
    "        # print(\"files:\", files) # #当前路径下所有非目录子文件  \n",
    "        for file in files:\n",
    "            if(file.split(\".\")[-1]== \"bag\"):\n",
    "                print(os.path.join(root,file))\n",
    "                bag_list.append()\n",
    "                # print(file)"
   ],
   "outputs": [],
   "metadata": {}
  },
  {
   "cell_type": "markdown",
   "source": [
    "## 获取文件路径中某个名字下标"
   ],
   "metadata": {}
  },
  {
   "cell_type": "code",
   "execution_count": null,
   "source": [
    "import numpy as np\n",
    "\n",
    "path =  \"/media/hcq/hcq4T/huituo_data_collection/detection/detection_yimin/1/2021-08-02-10-01-41.bag\"\n",
    "path_arr = path.split('/') \n",
    "print(path_arr)\n",
    "print( [ name == 'detection'  for name in path_arr ] )\n",
    "id = np.where([ name == 'detection'  for name in path_arr ] )[0]\n",
    "print(np.where([ name == 'detection'  for name in path_arr ] )[0] )\n",
    "print(path_arr[int(id)])\n",
    "\n"
   ],
   "outputs": [],
   "metadata": {}
  },
  {
   "cell_type": "code",
   "execution_count": null,
   "source": [
    "import numpy as np\n",
    "\n",
    "path =  \"/media/hcq/hcq4T/huituo_data_collection/detection/detection_yimin/1/2021-08-02-10-01-41.bag\"\n",
    "# path = \"/media/hcq/hcq4T/huituo_data_collection/detection/20210705Detection_zhunnneg/2021-07-05-11-01-54.bag\"\n",
    "path_arr = path.split('detection/') \n",
    "print(path_arr)\n",
    "print(path_arr[-1].split(\".\")[0]) # detection_yimin/1/2021-08-02-10-01-41\n",
    "print(path_arr[-1].split('/')[:-1])\n",
    "print(\"/\".join(path_arr[-1].split('/')[:-1])\t)  # 数组转字符串"
   ],
   "outputs": [],
   "metadata": {}
  },
  {
   "cell_type": "code",
   "execution_count": null,
   "source": [
    "dataset_dirs =['/media/hcq/hcq4T/huituo_data_collection/detection/20210705Detection_zhunnneg' , \"/media/hcq/hcq4T/huituo_data_collection/detection/detection_yimin\"]  # 20210705Detection_zhunnneg  detection_yimin\n",
    "bag_list = []\n",
    "for dataset_dir in dataset_dirs:\n",
    "    print(dataset_dir)\n",
    "    for root,dirs,files in os.walk(dataset_dir): # #当前目录路径 、#当前路径下所有子目录 数组 和#当前路径下所有非目录子文件  \n",
    "        print(root,dirs) # dirs =  ['1', '2', '3', '4', '5', '6', '7']\n",
    "        # print(\"files:\", files) # #当前路径下所有非目录子文件  \n",
    "        for file in files:\n",
    "            if(file.split(\".\")[-1]== \"bag\"): # 判断bag]包\n",
    "                # print(os.path.join(root,file))\n",
    "                bag_list.append(os.path.join(root,file))\n",
    "                # print(file)\n",
    "print(bag_list)"
   ],
   "outputs": [],
   "metadata": {}
  },
  {
   "cell_type": "code",
   "execution_count": null,
   "source": [
    "topic =\"/os_cloud_node/points\"  \n",
    "topic = \"/ouster_left/os_cloud_node/points\"\n",
    "# /ouster_right/os_cloud_node/points\n",
    "# /os_cloud_node/points\n",
    "topic.split(\"/\")[1]"
   ],
   "outputs": [],
   "metadata": {}
  },
  {
   "cell_type": "code",
   "execution_count": null,
   "source": [
    "dataset_dirs =['/media/hcq/hcq4T/huituo_data_collection/detection/shenbao']  # 20210705Detection_zhunnneg  detection_yimin\n",
    "bag_list = []\n",
    "for dataset_dir in dataset_dirs:\n",
    "    for root,dirs,files in os.walk(dataset_dir): # #当前目录路径 、#当前路径下所有子目录 数组 和#当前路径下所有非目录子文件  \n",
    "        # print(root,dirs) # dirs =  ['1', '2', '3', '4', '5', '6', '7']\n",
    "        # print(\"files:\", files) # #当前路径下所有非目录子文件  \n",
    "        for file in files:\n",
    "            if(file.split(\".\")[-1]== \"bag\"): # 判断bag]包\n",
    "                print(os.path.join(root,file))\n",
    "                bag_list.append(os.path.join(root,file))\n",
    "                # print(file)\n",
    "print(\"Extracted num of  bags : {}\".format(len(bag_list)))"
   ],
   "outputs": [],
   "metadata": {}
  },
  {
   "cell_type": "code",
   "execution_count": null,
   "source": [],
   "outputs": [],
   "metadata": {}
  },
  {
   "cell_type": "code",
   "execution_count": 20,
   "source": [
    "# 遍历文件并删除指定文件（只保存pcd的，不要只带有jpg的）\n",
    "import os\n",
    "import shutil\n",
    "from tqdm import tqdm\n",
    "def filter(path):\n",
    "    roots = os.listdir(path)\n",
    "    folders = []\n",
    "    '''bfs traverse the folders'''\n",
    "    for i in roots:\n",
    "        if 'py' not in i:\n",
    "            folders.append(i)\n",
    "\n",
    "    for folder in tqdm(folders):\n",
    "        folder_path = path+'/'+folder+'/'\n",
    "        second = os.listdir(folder_path)\n",
    "        black_list = []\n",
    "        for s in second:\n",
    "            second_path = folder_path+s+'/'\n",
    "            files = os.listdir(second_path)\n",
    "            # print(second_path)\n",
    "            # print(files)\n",
    "            files = os.listdir(second_path) # 文件数组\n",
    "            files = ''.join(files) # 将数组整成一个字符串\n",
    "            if('pcd'  not in files):   # 里面不包含pcd文件\n",
    "                black_list.append(second_path)\n",
    "            print(black_list)\n",
    "            # for bag in bags:\n",
    "            #     bag_path = second_path+bag+'/'\n",
    "            #     files = os.listdir(bag_path)\n",
    "            #     files = ''.join(files)\n",
    "            #     if('pcd' not in files):\n",
    "            #         black_list.append(bag_path)\n",
    "            \n",
    "            # for l in black_list:\n",
    "            #     shutil.rmtree(l)\n",
    "\n",
    "print('process finished')\n",
    "\n",
    "if __name__ == '__main__':\n",
    "    filter('/media/hcq/hcq4T/huituo_data_collection/detection/ouster_bagfile_extract/detection_yimin')"
   ],
   "outputs": [
    {
     "output_type": "stream",
     "name": "stdout",
     "text": [
      "process finished\n"
     ]
    },
    {
     "output_type": "stream",
     "name": "stderr",
     "text": [
      "100%|██████████| 7/7 [00:00<00:00, 168.25it/s]"
     ]
    },
    {
     "output_type": "stream",
     "name": "stdout",
     "text": [
      "[]\n",
      "[]\n",
      "[]\n",
      "[]\n",
      "[]\n",
      "[]\n",
      "[]\n",
      "[]\n",
      "[]\n",
      "[]\n",
      "[]\n",
      "[]\n",
      "[]\n",
      "[]\n",
      "[]\n",
      "[]\n",
      "[]\n",
      "[]\n",
      "[]\n",
      "[]\n",
      "[]\n",
      "[]\n",
      "[]\n",
      "[]\n",
      "[]\n",
      "[]\n",
      "[]\n",
      "[]\n",
      "[]\n",
      "[]\n",
      "[]\n",
      "[]\n",
      "[]\n",
      "[]\n",
      "[]\n",
      "[]\n",
      "[]\n",
      "[]\n",
      "[]\n",
      "[]\n",
      "[]\n",
      "[]\n",
      "[]\n",
      "[]\n",
      "[]\n",
      "[]\n",
      "[]\n",
      "[]\n",
      "[]\n",
      "[]\n",
      "[]\n",
      "[]\n",
      "[]\n",
      "[]\n",
      "[]\n",
      "[]\n",
      "[]\n",
      "[]\n",
      "[]\n",
      "[]\n",
      "[]\n",
      "[]\n",
      "[]\n",
      "[]\n",
      "[]\n",
      "[]\n",
      "[]\n",
      "[]\n",
      "[]\n",
      "[]\n",
      "[]\n",
      "[]\n",
      "[]\n",
      "[]\n",
      "[]\n",
      "[]\n",
      "[]\n",
      "[]\n",
      "[]\n",
      "[]\n",
      "[]\n",
      "[]\n",
      "[]\n",
      "[]\n",
      "[]\n",
      "[]\n",
      "[]\n",
      "[]\n",
      "[]\n",
      "[]\n",
      "[]\n",
      "[]\n",
      "[]\n",
      "[]\n",
      "[]\n",
      "[]\n",
      "[]\n",
      "[]\n",
      "[]\n",
      "[]\n",
      "[]\n",
      "[]\n",
      "[]\n",
      "[]\n",
      "[]\n",
      "[]\n",
      "[]\n",
      "[]\n",
      "[]\n",
      "[]\n",
      "[]\n",
      "[]\n",
      "[]\n",
      "[]\n",
      "[]\n",
      "[]\n",
      "[]\n",
      "[]\n",
      "[]\n",
      "[]\n",
      "[]\n",
      "[]\n",
      "[]\n",
      "[]\n",
      "[]\n",
      "[]\n",
      "[]\n",
      "[]\n",
      "[]\n",
      "[]\n",
      "[]\n",
      "[]\n",
      "[]\n",
      "[]\n",
      "[]\n",
      "[]\n",
      "[]\n",
      "[]\n"
     ]
    },
    {
     "output_type": "stream",
     "name": "stderr",
     "text": [
      "\n"
     ]
    }
   ],
   "metadata": {}
  },
  {
   "cell_type": "code",
   "execution_count": null,
   "source": [],
   "outputs": [],
   "metadata": {}
  }
 ],
 "metadata": {
  "orig_nbformat": 4,
  "language_info": {
   "name": "python",
   "version": "3.6.12",
   "mimetype": "text/x-python",
   "codemirror_mode": {
    "name": "ipython",
    "version": 3
   },
   "pygments_lexer": "ipython3",
   "nbconvert_exporter": "python",
   "file_extension": ".py"
  },
  "kernelspec": {
   "name": "python3",
   "display_name": "Python 3.6.12 64-bit ('common': conda)"
  },
  "interpreter": {
   "hash": "23f77d03b5a41e4d3ddb9e0caaaf52efc8b96489adee7c10c83419330a6f57cc"
  }
 },
 "nbformat": 4,
 "nbformat_minor": 2
}