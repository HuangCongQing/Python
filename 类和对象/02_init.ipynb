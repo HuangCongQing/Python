{
 "cells": [
  {
   "cell_type": "markdown",
   "metadata": {},
   "source": [
    "## __init__继承"
   ]
  },
  {
   "cell_type": "markdown",
   "metadata": {},
   "source": [
    "### 继承dict，super，直接返回类的实例"
   ]
  },
  {
   "cell_type": "code",
   "execution_count": 8,
   "metadata": {},
   "outputs": [],
   "source": [
    "# 类的创建(继承字典dict)\n",
    "class Student(dict):\n",
    "    count = 0  # 类属性\n",
    "\n",
    "    def __init__(self, name, age):  # __init__为类的构造函数\n",
    "        self.name = name  # 实例属性\n",
    "        self.age = age  # 实例属性\n",
    "        super().__init__({ # 继承dict的__init__的属性\n",
    "            \"name\": name,\n",
    "            \"age\": age,\n",
    "        })\n",
    "\n",
    "\n",
    "if __name__ == '__main__':\n",
    "    stu1 = Student('Zhangsan', 18)  # 使用Student类对象stu1 直接返回类的实例\n",
    "    print(stu1) # 继承dict，super，直接返回类的实例\n",
    "'''\n",
    "{'name': 'Zhangsan', 'age': 18} # dict\n",
    "'''"
   ]
  },
  {
   "cell_type": "code",
   "execution_count": null,
   "metadata": {},
   "outputs": [],
   "source": []
  }
 ],
 "metadata": {
  "kernelspec": {
   "display_name": "Python 3.8.13 ('pcdet')",
   "language": "python",
   "name": "python3"
  },
  "language_info": {
   "codemirror_mode": {
    "name": "ipython",
    "version": 3
   },
   "file_extension": ".py",
   "mimetype": "text/x-python",
   "name": "python",
   "nbconvert_exporter": "python",
   "pygments_lexer": "ipython3",
   "version": "3.8.13"
  },
  "orig_nbformat": 4,
  "vscode": {
   "interpreter": {
    "hash": "4a4bb52955cb4b7ba3167560f52fbe8257746766a280283c0daccbe36f0c9125"
   }
  }
 },
 "nbformat": 4,
 "nbformat_minor": 2
}
