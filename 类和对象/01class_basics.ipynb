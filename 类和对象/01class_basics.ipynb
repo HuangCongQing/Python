{
 "cells": [
  {
   "cell_type": "markdown",
   "metadata": {},
   "source": [
    "## 类的创建\n",
    "* https://www.cnblogs.com/luckyplj/p/13378008.html"
   ]
  },
  {
   "cell_type": "code",
   "execution_count": 2,
   "metadata": {},
   "outputs": [
    {
     "name": "stdout",
     "output_type": "stream",
     "text": [
      "<__main__.Student object at 0x7f9b856d35e0>\n",
      "stu1.name = Zhangsan\n",
      "stu1.age = 18\n",
      "Zhangsan\n",
      "18\n"
     ]
    }
   ],
   "source": [
    "# 类的创建 \n",
    "class Student(object):\n",
    "    count = 0  # 类属性\n",
    "\n",
    "    def __init__(self, name, age):  # __init__为类的构造函数\n",
    "        self.name = name  # 实例属性\n",
    "        self.age = age  # 实例属性\n",
    "\n",
    "    def output(self):  # 实例方法\n",
    "        print(self.name)\n",
    "        print(self.age)\n",
    "\n",
    "\n",
    "if __name__ == '__main__':\n",
    "    stu1 = Student('Zhangsan', 18)  # 使用Student类对象stu1\n",
    "    print(stu1)\n",
    "    print(\"stu1.name = %s\" % (stu1.name,))  # 利用对象stu1获取对象属性name。输出stu1.name = Zhangsan\n",
    "    print(\"stu1.age = %d\" % (stu1.age,))  # 利用对象stu1获取对象属性age。输出stu1.age = 18\n",
    "    stu1.output()  # 利用对象stu1调用output方法。"
   ]
  },
  {
   "cell_type": "code",
   "execution_count": null,
   "metadata": {},
   "outputs": [],
   "source": []
  }
 ],
 "metadata": {
  "kernelspec": {
   "display_name": "Python 3.8.13 ('pcdet')",
   "language": "python",
   "name": "python3"
  },
  "language_info": {
   "codemirror_mode": {
    "name": "ipython",
    "version": 3
   },
   "file_extension": ".py",
   "mimetype": "text/x-python",
   "name": "python",
   "nbconvert_exporter": "python",
   "pygments_lexer": "ipython3",
   "version": "3.8.13"
  },
  "orig_nbformat": 4,
  "vscode": {
   "interpreter": {
    "hash": "4a4bb52955cb4b7ba3167560f52fbe8257746766a280283c0daccbe36f0c9125"
   }
  }
 },
 "nbformat": 4,
 "nbformat_minor": 2
}
