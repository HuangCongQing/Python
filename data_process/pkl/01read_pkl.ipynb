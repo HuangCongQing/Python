{
 "cells": [
  {
   "cell_type": "markdown",
   "source": [
    "## python中pkl文件的读写\n"
   ],
   "metadata": {}
  },
  {
   "cell_type": "code",
   "execution_count": 6,
   "source": [
    "# 方法1：pickle\n",
    "import  pickle\n",
    "import numpy as np\n",
    "# 重点是rb和r的区别，rb是打开二进制文件，r是打开文本文件\n",
    "f=open('/home/hcq/pointcloud/Python/data_process/data/kitti_infos_test.pkl','rb')\n",
    "data = pickle.load(f)\n",
    "# print(data.shape) # AttributeError: 'list' object has no attribute 'shape'\n",
    "print(np.array(data).shape)\n",
    "print(np.array(data)[0]['point_cloud'])"
   ],
   "outputs": [
    {
     "output_type": "stream",
     "name": "stdout",
     "text": [
      "(7518,)\n",
      "{'num_features': 4, 'lidar_idx': '000000'}\n"
     ]
    }
   ],
   "metadata": {}
  },
  {
   "cell_type": "code",
   "execution_count": 8,
   "source": [
    "# 方法2：；pandas\n",
    "import pandas as pd\n",
    "import numpy as np\n",
    "\n",
    "# df = pd.DataFrame(np.arange(20).reshape(4,5))\n",
    "# df.to_pickle('foo.pkl')\n",
    "data=pd.read_pickle('/home/hcq/pointcloud/Python/data_process/data/kitti_infos_test.pkl')\n",
    "print(data[0]['point_cloud'])\n"
   ],
   "outputs": [
    {
     "output_type": "stream",
     "name": "stdout",
     "text": [
      "{'num_features': 4, 'lidar_idx': '000000'}\n"
     ]
    }
   ],
   "metadata": {}
  },
  {
   "cell_type": "code",
   "execution_count": null,
   "source": [],
   "outputs": [],
   "metadata": {}
  }
 ],
 "metadata": {
  "orig_nbformat": 4,
  "language_info": {
   "name": "python",
   "version": "3.6.12",
   "mimetype": "text/x-python",
   "codemirror_mode": {
    "name": "ipython",
    "version": 3
   },
   "pygments_lexer": "ipython3",
   "nbconvert_exporter": "python",
   "file_extension": ".py"
  },
  "kernelspec": {
   "name": "python3",
   "display_name": "Python 3.6.12 64-bit ('common': conda)"
  },
  "interpreter": {
   "hash": "23f77d03b5a41e4d3ddb9e0caaaf52efc8b96489adee7c10c83419330a6f57cc"
  }
 },
 "nbformat": 4,
 "nbformat_minor": 2
}