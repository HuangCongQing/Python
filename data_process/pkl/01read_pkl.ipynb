{
 "cells": [
  {
   "cell_type": "markdown",
   "source": [
    "## python中pkl文件的读写\n"
   ],
   "metadata": {}
  },
  {
   "cell_type": "markdown",
   "source": [
    "import  pickle\n",
    "# 重点是rb和r的区别，rb是打开二进制文件，r是打开文本文件\n",
    "f=open('person_pr.pkl','rb')\n",
    "data = pickle.load(f)\n",
    "print(data)"
   ],
   "metadata": {}
  }
 ],
 "metadata": {
  "orig_nbformat": 4,
  "language_info": {
   "name": "python",
   "version": "3.6.12"
  },
  "kernelspec": {
   "name": "python3",
   "display_name": "Python 3.6.12 64-bit ('common': conda)"
  },
  "interpreter": {
   "hash": "23f77d03b5a41e4d3ddb9e0caaaf52efc8b96489adee7c10c83419330a6f57cc"
  }
 },
 "nbformat": 4,
 "nbformat_minor": 2
}