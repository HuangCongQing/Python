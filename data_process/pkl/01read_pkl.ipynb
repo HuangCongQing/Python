{
 "cells": [
  {
   "cell_type": "markdown",
   "metadata": {},
   "source": [
    "## python中pkl文件的读写\n",
    "\n",
    "https://www.yuque.com/huangzhongqing/lang/tgblk4\n"
   ]
  },
  {
   "cell_type": "code",
   "execution_count": 7,
   "metadata": {},
   "outputs": [
    {
     "name": "stdout",
     "output_type": "stream",
     "text": [
      "(7518,)\n",
      "{'num_features': 4, 'lidar_idx': '000000'}\n"
     ]
    }
   ],
   "source": [
    "# 方法1：pickle\n",
    "import  pickle\n",
    "import numpy as np\n",
    "# # 重点是rb和r的区别，rb是打开二进制文件，r是打开文本文件\n",
    "# f=open('/home/hcq/pointcloud/Python/data_process/data/kitti_infos_test.pkl','rb')\n",
    "# data = pickle.load(f)\n",
    "\n",
    "with open('/home/hcq/pointcloud/Python/data_process/data/kitti_infos_test.pkl','rb') as f:\n",
    "    data=pickle.load(f)\n",
    "    f.close()\n",
    "# print(data)\n",
    "# print(data.shape) # AttributeError: 'list' object has no attribute 'shape'\n",
    "print(np.array(data).shape)\n",
    "print(np.array(data)[0]['point_cloud'])"
   ]
  },
  {
   "cell_type": "code",
   "execution_count": 8,
   "metadata": {},
   "outputs": [
    {
     "name": "stdout",
     "output_type": "stream",
     "text": [
      "{'num_features': 4, 'lidar_idx': '000000'}\n"
     ]
    }
   ],
   "source": [
    "# 方法2：；pandas\n",
    "import pandas as pd\n",
    "import numpy as np\n",
    "\n",
    "# df = pd.DataFrame(np.arange(20).reshape(4,5))\n",
    "# df.to_pickle('foo.pkl')\n",
    "data=pd.read_pickle('/home/hcq/pointcloud/Python/data_process/data/kitti_infos_test.pkl')\n",
    "print(data[0]['point_cloud'])\n"
   ]
  },
  {
   "cell_type": "code",
   "execution_count": null,
   "metadata": {},
   "outputs": [],
   "source": []
  }
 ],
 "metadata": {
  "interpreter": {
   "hash": "23f77d03b5a41e4d3ddb9e0caaaf52efc8b96489adee7c10c83419330a6f57cc"
  },
  "kernelspec": {
   "display_name": "Python 3.6.12 64-bit ('common': conda)",
   "name": "python3"
  },
  "language_info": {
   "codemirror_mode": {
    "name": "ipython",
    "version": 3
   },
   "file_extension": ".py",
   "mimetype": "text/x-python",
   "name": "python",
   "nbconvert_exporter": "python",
   "pygments_lexer": "ipython3",
   "version": "3.6.12"
  },
  "orig_nbformat": 4
 },
 "nbformat": 4,
 "nbformat_minor": 2
}
