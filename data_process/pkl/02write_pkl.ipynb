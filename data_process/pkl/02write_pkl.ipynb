{
 "cells": [
  {
   "cell_type": "markdown",
   "metadata": {},
   "source": [
    "## pkl可保存 字符串、列表、字典等数据\n",
    "\n",
    "https://www.yuque.com/huangzhongqing/lang/tgblk4\n",
    "\n",
    "b = pickle.dump(a)\n",
    "c = pickle.load(b)"
   ]
  },
  {
   "cell_type": "code",
   "execution_count": 7,
   "metadata": {},
   "outputs": [],
   "source": [
    "import pickle\n",
    "\n",
    "data_dict = {\n",
    "    'name': 'hcq',\n",
    "    'age': 12\n",
    "}\n",
    "data_list = [1,2,3]\n",
    "\n",
    "with open('./test.pkl', 'wb') as f:\n",
    "    pickle.dump(data_list, f)\n"
   ]
  },
  {
   "cell_type": "code",
   "execution_count": 12,
   "metadata": {},
   "outputs": [
    {
     "name": "stdout",
     "output_type": "stream",
     "text": [
      "[1, 2, 3]\n",
      "<class 'list'>\n"
     ]
    }
   ],
   "source": [
    "\n",
    "with open('./test.pkl', 'rb') as f:\n",
    "    a = pickle.load(f)\n",
    "    print(a)\n",
    "    print(type(a))\n"
   ]
  },
  {
   "cell_type": "code",
   "execution_count": null,
   "metadata": {},
   "outputs": [],
   "source": []
  }
 ],
 "metadata": {
  "interpreter": {
   "hash": "34e39c63690641fda45a9b5b3a54295d3c7c7609e6d639cc54d178959f811fe3"
  },
  "kernelspec": {
   "display_name": "Python 3.8.13 ('pcdet')",
   "language": "python",
   "name": "python3"
  },
  "language_info": {
   "codemirror_mode": {
    "name": "ipython",
    "version": 3
   },
   "file_extension": ".py",
   "mimetype": "text/x-python",
   "name": "python",
   "nbconvert_exporter": "python",
   "pygments_lexer": "ipython3",
   "version": "3.8.13"
  },
  "orig_nbformat": 4
 },
 "nbformat": 4,
 "nbformat_minor": 2
}
