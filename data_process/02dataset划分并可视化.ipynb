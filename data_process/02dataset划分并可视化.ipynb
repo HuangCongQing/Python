{
 "cells": [
  {
   "cell_type": "markdown",
   "metadata": {},
   "source": [
    "# 数据集划分\n",
    "分配比例： 80% 训练集、10% 验证集、10% 测试集。\n",
    "\n",
    "* txt_path:`/home/hcq/data/2022anno/finaul_result/txt_result`"
   ]
  },
  {
   "cell_type": "markdown",
   "metadata": {},
   "source": [
    "## 统计label分类数量"
   ]
  },
  {
   "cell_type": "code",
   "execution_count": 9,
   "metadata": {},
   "outputs": [
    {
     "name": "stdout",
     "output_type": "stream",
     "text": [
      "Truck: 2432,Auxiliary: 364,Car: 362,Excavator: 357,Widebody: 299,Pedestrian: 130\n"
     ]
    }
   ],
   "source": [
    "import os\n",
    "import numpy as np\n",
    "\n",
    "txt_path = \"/home/hcq/data/2022anno/finaul_result/txt_result\"\n",
    "\n",
    "txt_list = os.listdir(txt_path)\n",
    "# list_json = os.listdir('%s/%s/livox/'%(i,j))\n",
    "# print(txt_list)\n",
    "num_list = [int(x.split('.')[0]) for x in txt_list] # 只\n",
    "num_list.sort()\n",
    "# print(num_list)\n",
    "labels = ['Truck','Auxiliary','Car','Excavator','Widebody','Pedestrian']\n",
    "# num_objects_Truck = 0\n",
    "# num_objects_Auxiliary = 0\n",
    "# num_objects_Car = 0\n",
    "# num_objects_Excavator = 0\n",
    "# num_objects_Widebody = 0\n",
    "# num_objects_Pedestrian = 0\n",
    "\n",
    "# 字符串生成变量\n",
    "for label in labels:\n",
    "    label = \"num_objects_\" + label \n",
    "    exec(f\"{label} = 0\") #  字符串生成变量\n",
    "\n",
    "\n",
    "for i in txt_list:\n",
    "    txt_file =  \"%s/%s\"%(txt_path, i)\n",
    "    with open(txt_file, 'r') as f: # \n",
    "        lines = f.readlines() # 打开文件\n",
    "    content = [line.strip().split(' ') for line in lines] # GT内容\n",
    "    num_objects_Truck += len([x[0] for x in content if x[0] == 'Truck']) # label数值\n",
    "    num_objects_Auxiliary += len([x[0] for x in content if x[0] == 'Auxiliary'])\n",
    "    num_objects_Car += len([x[0] for x in content if x[0] == 'Car'])\n",
    "    num_objects_Excavator += len([x[0] for x in content if x[0] == 'Excavator'])\n",
    "    num_objects_Widebody += len([x[0] for x in content if x[0] == 'Widebody'])\n",
    "    num_objects_Pedestrian += len([x[0] for x in content if x[0] == 'Pedestrian'])\n",
    "print(\"Truck: %d,Auxiliary: %d,Car: %d,Excavator: %d,Widebody: %d,Pedestrian: %d\"\n",
    "%(num_objects_Truck, num_objects_Auxiliary, num_objects_Car, num_objects_Excavator, num_objects_Widebody, num_objects_Pedestrian))"
   ]
  },
  {
   "cell_type": "markdown",
   "metadata": {},
   "source": [
    "## 划分分类并保存成txt文件\n",
    "*  80% 训练集、10% 验证集、10% 测试集。\n",
    "* train_set val_set test_set"
   ]
  },
  {
   "cell_type": "code",
   "execution_count": 32,
   "metadata": {},
   "outputs": [
    {
     "name": "stdout",
     "output_type": "stream",
     "text": [
      "2527\n",
      "train_list:2000 \n",
      "val_list:250 \n",
      "test_list:277 \n",
      "train\n",
      "val\n",
      "test\n",
      "Txt file saved! successful!!!\n"
     ]
    }
   ],
   "source": [
    "import os\n",
    "import numpy as np\n",
    "import random\n",
    "\n",
    "txt_path = \"/home/hcq/data/2022anno/finaul_result/txt_result\"\n",
    "\n",
    "txt_list = os.listdir(txt_path)\n",
    "# list_json = os.listdir('%s/%s/livox/'%(i,j))\n",
    "# print(txt_list)\n",
    "num_list = [int(x.split('.')[0]) for x in txt_list] # 只\n",
    "num_list.sort()\n",
    "# 1打乱顺序\n",
    "random.shuffle(num_list)\n",
    "\n",
    "# 2分离各自数据集\n",
    "print(len(num_list))\n",
    "train_list = num_list[0:2000]\n",
    "val_list = num_list[2000:2250]\n",
    "test_list = num_list[2250:]\n",
    "# print(\"train_list:%d \\nval_list:%d \\ntest_list:%d \"%(len(train_list), len(val_list),len(test_list) ))\n",
    "\n",
    "# 3 分别保存各自文件名到txt文件中\n",
    "train_list = ['%06d'%x for x in train_list] # 数字转成字符\n",
    "val_list = ['%06d'%x for x in val_list] # 数字转成字符\n",
    "test_list = ['%06d'%x for x in test_list] # 数字转成字符\n",
    "# 数据集字典\n",
    "dataset = {}\n",
    "dataset['train'] = train_list\n",
    "dataset['val'] = val_list\n",
    "dataset['test'] = test_list\n",
    "print(\"train_list:%d \\nval_list:%d \\ntest_list:%d \"%(len(train_list), len(val_list),len(test_list) ))\n",
    "\n",
    "# save\n",
    "for key in dataset:\n",
    "    print(key)\n",
    "    # print(key,':', dataset[key])\n",
    "    # if key != \"test\": continue\n",
    "    fo = open(\"%s.txt\"%(key), \"w\")\n",
    "    for item in dataset[key]:\n",
    "        fo.write(str(item) + \"\\n\")\n",
    "    fo.close() # 必须要加,不然会有txt文件数据为空!!!\n",
    "print(\"Txt file saved! successful!!!\")"
   ]
  },
  {
   "cell_type": "code",
   "execution_count": 43,
   "metadata": {},
   "outputs": [
    {
     "name": "stdout",
     "output_type": "stream",
     "text": [
      "train_class: [1928, 293, 288, 291, 225, 90]\n",
      "val_class: [239, 41, 38, 23, 43, 16]\n",
      "test_class: [265, 30, 36, 43, 31, 24]\n"
     ]
    }
   ],
   "source": [
    "# 可视化 train_set val_set test_set各自label\n",
    "class_path = \"/home/hcq/pointcloud/Python/data_process\"\n",
    "txt_path = \"/home/hcq/data/2022anno/finaul_result/txt_result\"\n",
    "\n",
    "labels = ['Truck','Auxiliary','Car','Excavator','Widebody','Pedestrian']\n",
    "# 创建一个元素都为0的列表：\n",
    "l=6\n",
    "train_class = [0]*l\n",
    "val_class = [0]*l\n",
    "test_class = [0]*l\n",
    "# \n",
    "txt_dict = ['train', 'val', 'test']\n",
    "# 打开文件\n",
    "for i in txt_dict:\n",
    "    txt_file = \"%s/%s.txt\"%(class_path, i) # train.txt\n",
    "    with open(txt_file, 'r') as f: # \n",
    "        lines = f.readlines() # 打开文件\n",
    "    txt_path_list = [line.strip().split(' ')[0] for line in lines] # GT内容\n",
    "    # print(txt_path_list)\n",
    "    # 打开label文件\n",
    "    for j in txt_path_list:\n",
    "        if i == \"train\":\n",
    "            txt_file = \"%s/%s.txt\"%(txt_path, j) # \n",
    "            with open(txt_file, 'r') as f: # \n",
    "                lines = f.readlines() # 打开文件\n",
    "            content = [line.strip().split(' ') for line in lines] # GT内容\n",
    "            train_class[0] += len([x[0] for x in content if x[0] == 'Truck']) # label数值\n",
    "            train_class[1] += len([x[0] for x in content if x[0] == 'Auxiliary'])\n",
    "            train_class[2] += len([x[0] for x in content if x[0] == 'Car'])\n",
    "            train_class[3] += len([x[0] for x in content if x[0] == 'Excavator'])\n",
    "            train_class[4] += len([x[0] for x in content if x[0] == 'Widebody'])\n",
    "            train_class[5] += len([x[0] for x in content if x[0] == 'Pedestrian'])\n",
    "        if i == \"val\":\n",
    "            txt_file = \"%s/%s.txt\"%(txt_path, j) # \n",
    "            with open(txt_file, 'r') as f: # \n",
    "                lines = f.readlines() # 打开文件\n",
    "            content = [line.strip().split(' ') for line in lines] # GT内容\n",
    "            val_class[0] += len([x[0] for x in content if x[0] == 'Truck']) # label数值\n",
    "            val_class[1] += len([x[0] for x in content if x[0] == 'Auxiliary'])\n",
    "            val_class[2] += len([x[0] for x in content if x[0] == 'Car'])\n",
    "            val_class[3] += len([x[0] for x in content if x[0] == 'Excavator'])\n",
    "            val_class[4] += len([x[0] for x in content if x[0] == 'Widebody'])\n",
    "            val_class[5] += len([x[0] for x in content if x[0] == 'Pedestrian'])\n",
    "        if i == \"test\":\n",
    "            txt_file = \"%s/%s.txt\"%(txt_path, j) # er\n",
    "            with open(txt_file, 'r') as f: # \n",
    "                lines = f.readlines() # 打# kesk开文件\n",
    "            content = [line.strip().split(' ') for line in lines] # GT内容\n",
    "            test_class[0] += len([x[0] for x in content if x[0] == 'Truck']) # label数值\n",
    "            test_class[1] += len([x[0] for x in content if x[0] == 'Auxiliary'])\n",
    "            test_class[2] += len([x[0] for x in content if x[0] == 'Car'])\n",
    "            test_class[3] += len([x[0] for x in content if x[0] == 'Excavator'])\n",
    "            test_class[4] += len([x[0] for x in content if x[0] == 'Widebody'])\n",
    "            test_class[5] += len([x[0] for x in content if x[0] == 'Pedestrian'])\n",
    "print(\"train_class: %s\\nval_class: %s\\ntest_class: %s\"%(train_class,val_class,test_class))\n",
    "\n",
    "# 可视化\n",
    "# /home/hcq/pointcloud/python-libraries/03Matplotlib/应用/柱状图.ipynb\n",
    "''' \n",
    "train_class: [1928, 293, 288, 291, 225, 90]\n",
    "val_class: [239, 41, 38, 23, 43, 16]\n",
    "test_class: [265, 30, 36, 43, 31, 24]\n",
    "\n",
    "'''\n"
   ]
  },
  {
   "cell_type": "code",
   "execution_count": null,
   "metadata": {},
   "outputs": [],
   "source": []
  }
 ],
 "metadata": {
  "interpreter": {
   "hash": "92147348f592586b287dedba5d580d053f0cf07eaa3e0ad9162da969158d2cb2"
  },
  "kernelspec": {
   "display_name": "Python 3.7.5 ('open-mmlab')",
   "language": "python",
   "name": "python3"
  },
  "language_info": {
   "codemirror_mode": {
    "name": "ipython",
    "version": 3
   },
   "file_extension": ".py",
   "mimetype": "text/x-python",
   "name": "python",
   "nbconvert_exporter": "python",
   "pygments_lexer": "ipython3",
   "version": "3.7.5"
  },
  "orig_nbformat": 4
 },
 "nbformat": 4,
 "nbformat_minor": 2
}
