{
 "cells": [
  {
   "cell_type": "markdown",
   "metadata": {},
   "source": [
    "# 数据集信息统计\n",
    "分配比例： 80% 训练集、10% 验证集、10% 测试集。\n",
    "\n",
    "* txt_path:`/home/hcq/data/2022anno/finaul_result/txt_result`"
   ]
  },
  {
   "cell_type": "markdown",
   "metadata": {},
   "source": [
    "## 1 统计label分类数量"
   ]
  },
  {
   "cell_type": "code",
   "execution_count": 6,
   "metadata": {},
   "outputs": [
    {
     "name": "stdout",
     "output_type": "stream",
     "text": [
      "Truck: 2432,Auxiliary: 362,Car: 364,Excavator: 357,Widebody: 299,Pedestrian: 130\n"
     ]
    }
   ],
   "source": [
    "import os\n",
    "import numpy as np\n",
    "\n",
    "txt_path = \"/home/hcq/data/2022anno/finaul_result/txt_result\"\n",
    "\n",
    "txt_list = os.listdir(txt_path)\n",
    "# list_json = os.listdir('%s/%s/livox/'%(i,j))\n",
    "# print(txt_list)\n",
    "num_list = [int(x.split('.')[0]) for x in txt_list] # 只\n",
    "num_list.sort()\n",
    "# print(num_list)\n",
    "labels = ['Truck','Auxiliary','Car','Excavator','Widebody','Pedestrian']\n",
    "# num_objects_Truck = 0\n",
    "# num_objects_Auxiliary = 0\n",
    "# num_objects_Car = 0\n",
    "# num_objects_Excavator = 0\n",
    "# num_objects_Widebody = 0\n",
    "# num_objects_Pedestrian = 0\n",
    "\n",
    "# 字符串生成变量\n",
    "for label in labels:\n",
    "    label = \"num_objects_\" + label \n",
    "    exec(f\"{label} = 0\") #  字符串生成变量\n",
    "\n",
    "\n",
    "for i in txt_list:\n",
    "    txt_file =  \"%s/%s\"%(txt_path, i)\n",
    "    with open(txt_file, 'r') as f: # \n",
    "        lines = f.readlines() # 打开文件\n",
    "    content = [line.strip().split(' ') for line in lines] # GT内容================================\n",
    "    num_objects_Truck += len([x[0] for x in content if x[0] == 'Truck']) # label数值\n",
    "    num_objects_Auxiliary += len([x[0] for x in content if x[0] == 'Auxiliary'])\n",
    "    num_objects_Car += len([x[0] for x in content if x[0] == 'Car'])\n",
    "    num_objects_Excavator += len([x[0] for x in content if x[0] == 'Excavator'])\n",
    "    num_objects_Widebody += len([x[0] for x in content if x[0] == 'Widebody'])\n",
    "    num_objects_Pedestrian += len([x[0] for x in content if x[0] == 'Pedestrian'])\n",
    "print(\"Truck: %d,Auxiliary: %d,Car: %d,Excavator: %d,Widebody: %d,Pedestrian: %d\"\n",
    "%(num_objects_Truck, num_objects_Auxiliary, num_objects_Car, num_objects_Excavator, num_objects_Widebody, num_objects_Pedestrian))"
   ]
  },
  {
   "cell_type": "markdown",
   "metadata": {},
   "source": [
    "## 2 统计各个label的平均whl"
   ]
  },
  {
   "cell_type": "code",
   "execution_count": 7,
   "metadata": {},
   "outputs": [
    {
     "name": "stdout",
     "output_type": "stream",
     "text": [
      "The average size of all Truck is  [12.939171936477653, 7.971810845357639, 7.122084794393413]\n",
      "The average size of all Auxiliary is  [15.09597229965678, 5.924453423796027, 5.880182101596923]\n",
      "The average size of all Car is  [5.241168263842723, 2.0673137431804074, 1.9286726650508481]\n",
      "The average size of all Excavator is  [17.533350036741094, 14.855893846266419, 13.490300184190234]\n",
      "The average size of all Widebody is  [9.603223551494379, 3.2569904904066806, 3.7452632433311805]\n",
      "The average size of all Pedestrian is  [0.575541939201429, 0.7169653032212128, 1.7697762654658924]\n"
     ]
    }
   ],
   "source": [
    "import os\n",
    "import numpy as np\n",
    "\n",
    "# txt_path = \"/home/hcq/data/2022anno/finaul_result/txt_result\"\n",
    "txt_path = \"/home/hcq/data/2022anno/finaul_result/txt_result\"\n",
    "txt_list = os.listdir(txt_path)\n",
    "\n",
    "labels = ['Truck','Auxiliary','Car','Excavator','Widebody','Pedestrian']\n",
    "\n",
    "\n",
    "# 字符串生成变量\n",
    "for label in labels:\n",
    "    for var in ['l', 'w', 'h']:\n",
    "        exec('{}_{} = 0'.format(label, var)) #  字符串生成变量\n",
    "\n",
    "var2pos = {'l':4, 'w':5, 'h':6}\n",
    "\n",
    "for i in txt_list:\n",
    "    txt_file =  \"%s/%s\"%(txt_path, i)\n",
    "    with open(txt_file, 'r') as f: # \n",
    "        lines = f.readlines() # 打开文件\n",
    "    content = [line.strip().split(' ') for line in lines] # GT内容\n",
    "    for label in labels:\n",
    "        for var in ['l', 'w', 'h']:\n",
    "            exec(\"{}_{} += sum([float(x[var2pos[var]]) for x in content if x[0] == label])\".format(label, var))\n",
    "\n",
    "for label in labels:\n",
    "    result = []\n",
    "    for var in ['l', 'w', 'h']:\n",
    "        exec('{}_{} /= num_objects_{}'.format(label, var, label))\n",
    "        exec('result.append({}_{})'.format(label, var))   \n",
    "    \n",
    "    print(\"The average size of all %s is \" %label, result)"
   ]
  },
  {
   "cell_type": "markdown",
   "metadata": {},
   "source": [
    "\n",
    "## 3 统计各个label的xy距离的数量"
   ]
  },
  {
   "cell_type": "code",
   "execution_count": 8,
   "metadata": {},
   "outputs": [
    {
     "name": "stdout",
     "output_type": "stream",
     "text": [
      "总label 数量: 3944\n",
      "Number of Truck : 2432\n",
      "Number of Auxiliary : 362\n",
      "Number of Car : 364\n",
      "Number of Excavator : 357\n",
      "Number of Widebody : 299\n",
      "Number of Pedestrian : 130\n"
     ]
    },
    {
     "data": {
      "text/plain": [
       "array([['Truck', '40.6204709628143', '30.112521767688428', ...,\n",
       "        '8.54336439349427', '7.770403982998657', '2.903644384721382'],\n",
       "       ['Truck', '82.68797800820352', '10.484007390853666', ...,\n",
       "        '8.803317296575099', '7.866589377695227', '2.6487280646531546'],\n",
       "       ['Truck', '129.11577063182355', '-6.018513128463867', ...,\n",
       "        '8.782169218249724', '7.728564356701544', '-0.11694605861549802'],\n",
       "       ...,\n",
       "       ['Truck', '132.58392638015945', '67.12286440416283', ...,\n",
       "        '6.508976047382993', '6.473430496050261', '-1.8921242705083332'],\n",
       "       ['Truck', '100.16482519742468', '65.0639068634825', ...,\n",
       "        '6.489734537762171', '6.533411305827718', '-0.05817764016075106'],\n",
       "       ['Truck', '104.8229085128056', '-5.968638132111602', ...,\n",
       "        '8.376048620639764', '5.470450300736305', '-0.0656983488626178']],\n",
       "      dtype='<U22')"
      ]
     },
     "execution_count": 8,
     "metadata": {},
     "output_type": "execute_result"
    }
   ],
   "source": [
    "import os\n",
    "import numpy as np\n",
    "\n",
    "txt_path = \"/home/hcq/data/2022anno/finaul_result/txt_result\"\n",
    "\n",
    "txt_list = os.listdir(txt_path)\n",
    "# list_json = os.listdir('%s/%s/livox/'%(i,j))\n",
    "# print(txt_list)\n",
    "num_list = [int(x.split('.')[0]) for x in txt_list] # 只\n",
    "num_list.sort()\n",
    "# print(num_list)\n",
    "labels = ['Truck','Auxiliary','Car','Excavator','Widebody','Pedestrian']\n",
    "\n",
    "all_objects_list ={1:[],2:[],3:[],4:[],5:[],6:[]} # label -> list\n",
    "idx_2_name = {1: 'Truck', 2: 'Auxiliary', 3: 'Car', 4: 'Excavator', 5: 'Widebody', 6: 'Pedestrian'}\n",
    "# 字符串生成变量\n",
    "for label in labels:\n",
    "    label = \"num_objects_\" + label \n",
    "    exec(f\"{label} = 0\") #  字符串生成变量\n",
    "\n",
    "# 1 txt转成list\n",
    "content_all = []\n",
    "for i in txt_list:\n",
    "    txt_file =  \"%s/%s\"%(txt_path, i)\n",
    "    with open(txt_file, 'r') as f: # \n",
    "        lines = f.readlines() # 打开文件\n",
    "    content_all += [line.strip().split(' ') for line in lines] # GT内容================================n\n",
    "    # ['Car', '85.30741333331932', '10.757964036888517', '-1.4611711340805718', '5.4900554622328475', '2.163626883607607', '1.8996643867674325', '3.003558193094035', '1']\n",
    "# 处理 \n",
    "print(\"总label 数量: %d\"%len(content_all))\n",
    "# print(content_all[0])\n",
    "\n",
    "# 2 list抓转成包含list的字典\n",
    "for i in range(6):\n",
    "    for content in content_all:\n",
    "        if content[0] == idx_2_name[i+1]:\n",
    "            content = [float(x) if x not in labels else x for x in content[0:-1]] # 批量将列表元素转换为数字\n",
    "            # print(content)\n",
    "            all_objects_list[i+1].append(content)  \n",
    "\n",
    "# print(all_objects_list[1])\n",
    "# list转成字典\n",
    "label_objects_dict = {} # label (int) -> objects (np.array)\n",
    "for i in range(6):\n",
    "    print(\"Number of {} : {}\".format(idx_2_name[i+1], len(all_objects_list[i+1])))\n",
    "    label_objects_dict[i+1] = np.array(all_objects_list[i+1])\n",
    "\n",
    "label_objects_dict[1]"
   ]
  },
  {
   "cell_type": "code",
   "execution_count": 9,
   "metadata": {},
   "outputs": [
    {
     "name": "stdout",
     "output_type": "stream",
     "text": [
      "2432\n",
      "362\n",
      "364\n",
      "357\n",
      "299\n",
      "130\n"
     ]
    },
    {
     "data": {
      "image/png": "[encoded data removed]",
      "text/plain": [
       "<Figure size 432x288 with 6 Axes>"
      ]
     },
     "metadata": {},
     "output_type": "display_data"
    }
   ],
   "source": [
    "\n",
    "import matplotlib.pyplot as plt\n",
    "fig2, ax2 = plt.subplots(3,2,sharex=True, sharey=True)\n",
    "\n",
    "for i in range(6):\n",
    "    objects_label = idx_2_name[i+1]\n",
    "    objects_arr = label_objects_dict[i+1]\n",
    "    \n",
    "    print(len(objects_arr))\n",
    "    # print(objects_arr[:,1])\n",
    "    # x = objects_arr[:,1]\n",
    "    # y = objects_arr[:,2]\n",
    "    x = np.array([float(x)  for x in objects_arr[:,1]]) #字符串转数字\n",
    "    y = np.array([float(x)  for x in objects_arr[:,2]])\n",
    "    z = np.sqrt(x**2 + y**2) # 颜色\n",
    "    ax2[i//2,i%2].scatter(x, y, s=20, c=z, marker=\".\")\n",
    "    ax2[i//2,i%2].set_title(objects_label)\n",
    "    # ax2[i//2,i%2].set_xlabel('x')\n",
    "    # ax2[i//2,i%2].set_ylabel('y')\n",
    "# plt.style.use('seaborn-darkgrid') # 设置画图的风格 \n",
    "plt.tight_layout()\n",
    "plt.show()"
   ]
  },
  {
   "cell_type": "markdown",
   "metadata": {},
   "source": [
    "###  truck analysis"
   ]
  },
  {
   "cell_type": "code",
   "execution_count": 87,
   "metadata": {},
   "outputs": [
    {
     "name": "stdout",
     "output_type": "stream",
     "text": [
      "[-144.30028725   -8.62759004    9.35825579]\n",
      "[108.35022609  17.38143983  16.17645665]\n",
      "[81.27092774 19.19783119 16.17645665]\n",
      "[96.66013216 14.88144052 16.17645665]\n",
      "-2.288263113637343\n",
      "12.588830526444967\n"
     ]
    }
   ],
   "source": [
    "# truck analysis\n",
    "trucks = label_objects_dict[1]\n",
    "print(np.min(trucks[1:500,1:4], 0))\n",
    "print(np.max(trucks[500:1000,1:4], 0))\n",
    "print(np.max(trucks[1000:1500,1:4], 0))\n",
    "print(np.max(trucks[1500:2000,1:4], 0))\n",
    "\n",
    "print(np.percentile(trucks[:,1:2], 30))\n",
    "print(np.median(trucks[:,1:2]))"
   ]
  },
  {
   "cell_type": "markdown",
   "metadata": {},
   "source": [
    "# 数据集信息统计\n",
    "分配比例： 80% 训练集、10% 验证集、10% 测试集。\n",
    "\n",
    "* txt_path:`/home/hcq/data/2022anno/finaul_result/txt_result`\n"
   ]
  },
  {
   "cell_type": "markdown",
   "metadata": {},
   "source": [
    "## 划分(train val test)并保存成txt文件\n",
    "*  80% 训练集、10% 验证集、10% 测试集。\n",
    "* train_set val_set test_set"
   ]
  },
  {
   "cell_type": "code",
   "execution_count": 2,
   "metadata": {},
   "outputs": [
    {
     "name": "stdout",
     "output_type": "stream",
     "text": [
      "txt 文件数量： 2242\n",
      "train_list:1742 \n",
      "val_list:500 \n",
      "test_list:500 \n",
      "train\n",
      "val\n",
      "test\n",
      "Txt file saved! successful!!!\n"
     ]
    }
   ],
   "source": [
    "import os\n",
    "import numpy as np\n",
    "import random\n",
    "\n",
    "txt_path = \"/home/hcq/data/2022anno/finaul_result/txt_result_180filter\" # 180m过滤后的txt标注文件\n",
    "\n",
    "txt_list = os.listdir(txt_path)\n",
    "# list_json = os.listdir('%s/%s/livox/'%(i,j))\n",
    "# print(txt_list)\n",
    "num_list = [int(x.split('.')[0]) for x in txt_list] # 只\n",
    "num_list.sort()\n",
    "# 1打乱顺序====================================\n",
    "# random.shuffle(num_list)\n",
    "\n",
    "# 2分离各自数据集2242===========================================================================================================\n",
    "print(\"txt 文件数量：\", len(num_list)) # 2242\n",
    "# train_list = num_list[0:2000]\n",
    "# train_list.sort()\n",
    "# val_list = num_list[2000:2250]\n",
    "# val_list.sort()\n",
    "# test_list = num_list[2250:]\n",
    "# test_list.sort()\n",
    "\n",
    "# 去除180m外的结果\n",
    "# train_list = num_list[0:1794]\n",
    "# train_list.sort()\n",
    "# val_list = num_list[1794:]\n",
    "# val_list.sort()\n",
    "# test_list = num_list[1794:]\n",
    "# test_list.sort()\n",
    "\n",
    "# 测试均匀 no shuffle\n",
    "train_list = num_list[0:650] + num_list[1200:] + num_list[850:900]\n",
    "# print(train_list)\n",
    "train_list.sort()\n",
    "# val_list = num_list[750:1000] # target\n",
    "# val_list = num_list[650:1200] # target\n",
    "val_list = num_list[650:850] + num_list[900:1200] # target\n",
    "val_list.sort()\n",
    "# test_list = num_list[400:750] # only truck Auxiliary===============================\n",
    "# test_list = num_list[850:950] #  widebody &Truck=================================\n",
    "test_list = num_list[650:850] + num_list[900:1200] #  widebody\n",
    "test_list.sort()\n",
    "\n",
    "\n",
    "# print(\"train_list:%d \\nval_list:%d \\ntest_list:%d \"%(len(train_list), len(val_list),len(test_list) ))\n",
    "\n",
    "# 3 分别保存各自文件名到txt文件中\n",
    "train_list = ['%06d'%x for x in train_list] # 数字转成字符\n",
    "val_list = ['%06d'%x for x in val_list] # 数字转成字符\n",
    "test_list = ['%06d'%x for x in test_list] # 数字转成字符\n",
    "# 数据集字典\n",
    "dataset = {}\n",
    "dataset['train'] = train_list\n",
    "dataset['val'] = val_list\n",
    "dataset['test'] = test_list\n",
    "print(\"train_list:%d \\nval_list:%d \\ntest_list:%d \"%(len(train_list), len(val_list),len(test_list) ))\n",
    "\n",
    "# save\n",
    "for key in dataset:\n",
    "    print(key)\n",
    "    # print(key,':', dataset[key])\n",
    "    # if key != \"test\": continue\n",
    "    fo = open(\"%s.txt\"%(key), \"w\")\n",
    "    for item in dataset[key]:\n",
    "        fo.write(str(item) + \"\\n\")\n",
    "    fo.close() # 必须要加,不然会有txt文件数据为空!!!\n",
    "print(\"Txt file saved! successful!!!\")"
   ]
  },
  {
   "cell_type": "markdown",
   "metadata": {},
   "source": [
    "## 各类别的数量"
   ]
  },
  {
   "cell_type": "code",
   "execution_count": 4,
   "metadata": {},
   "outputs": [
    {
     "name": "stdout",
     "output_type": "stream",
     "text": [
      "train_class: [1542, 291, 295, 206, 141, 91]\n",
      " val_class: [417, 68, 65, 67, 49, 39]\n",
      " test_class: [417, 68, 65, 67, 49, 39]\n",
      "[1959, 359, 360, 273, 190, 130]\n"
     ]
    },
    {
     "data": {
      "text/plain": [
       "' \\ntrain_class: [1928, 293, 288, 291, 225, 90]\\nval_class: [239, 41, 38, 23, 43, 16]\\ntest_class: [265, 30, 36, 43, 31, 24]\\n\\n'"
      ]
     },
     "execution_count": 4,
     "metadata": {},
     "output_type": "execute_result"
    }
   ],
   "source": [
    "# 可视化 train_set val_set test_set各自label\n",
    "class_path = \"/home/hcq/pointcloud/Python/data_process\"\n",
    "# txt_path = \"/home/hcq/data/2022anno/finaul_result/txt_result\"\n",
    "txt_path = \"/home/hcq/data/2022anno/finaul_result/txt_result_180filter\" # 180m过滤后的txt标注文件\n",
    "\n",
    "labels = ['Truck','Auxiliary','Car','Excavator','Widebody','Pedestrian']\n",
    "# 创建一个元素都为0的列表：\n",
    "l=6\n",
    "all_class = [0]*l\n",
    "train_class = [0]*l\n",
    "val_class = [0]*l\n",
    "test_class = [0]*l\n",
    "# \n",
    "txt_dict = ['train', 'val', 'test']\n",
    "# 打开文件\n",
    "for i in txt_dict:\n",
    "    txt_file = \"%s/%s.txt\"%(class_path, i) # train.txt\n",
    "    with open(txt_file, 'r') as f: # \n",
    "        lines = f.readlines() # 打开文件\n",
    "    txt_path_list = [line.strip().split(' ')[0] for line in lines] # GT内容\n",
    "    # print(txt_path_list)\n",
    "    # 打开label文件\n",
    "    for j in txt_path_list:\n",
    "        if i == \"train\":\n",
    "            txt_file = \"%s/%s.txt\"%(txt_path, j) # \n",
    "            with open(txt_file, 'r') as f: # \n",
    "                lines = f.readlines() # 打开文件\n",
    "            content = [line.strip().split(' ') for line in lines] # GT内容\n",
    "            train_class[0] += len([x[0] for x in content if x[0] == 'Truck']) # label数值\n",
    "            train_class[1] += len([x[0] for x in content if x[0] == 'Auxiliary'])\n",
    "            train_class[2] += len([x[0] for x in content if x[0] == 'Car'])\n",
    "            train_class[3] += len([x[0] for x in content if x[0] == 'Excavator'])\n",
    "            train_class[4] += len([x[0] for x in content if x[0] == 'Widebody'])\n",
    "            train_class[5] += len([x[0] for x in content if x[0] == 'Pedestrian'])\n",
    "        if i == \"val\":\n",
    "            txt_file = \"%s/%s.txt\"%(txt_path, j) # \n",
    "            with open(txt_file, 'r') as f: # \n",
    "                lines = f.readlines() # 打开文件\n",
    "            content = [line.strip().split(' ') for line in lines] # GT内容\n",
    "            val_class[0] += len([x[0] for x in content if x[0] == 'Truck']) # label数值\n",
    "            val_class[1] += len([x[0] for x in content if x[0] == 'Auxiliary'])\n",
    "            val_class[2] += len([x[0] for x in content if x[0] == 'Car'])\n",
    "            val_class[3] += len([x[0] for x in content if x[0] == 'Excavator'])\n",
    "            val_class[4] += len([x[0] for x in content if x[0] == 'Widebody'])\n",
    "            val_class[5] += len([x[0] for x in content if x[0] == 'Pedestrian'])\n",
    "        if i == \"test\":\n",
    "            txt_file = \"%s/%s.txt\"%(txt_path, j) # er\n",
    "            with open(txt_file, 'r') as f: # \n",
    "                lines = f.readlines() # 打# kesk开文件\n",
    "            content = [line.strip().split(' ') for line in lines] # GT内容\n",
    "            test_class[0] += len([x[0] for x in content if x[0] == 'Truck']) # label数值\n",
    "            test_class[1] += len([x[0] for x in content if x[0] == 'Auxiliary'])\n",
    "            test_class[2] += len([x[0] for x in content if x[0] == 'Car'])\n",
    "            test_class[3] += len([x[0] for x in content if x[0] == 'Excavator'])\n",
    "            test_class[4] += len([x[0] for x in content if x[0] == 'Widebody'])\n",
    "            test_class[5] += len([x[0] for x in content if x[0] == 'Pedestrian'])\n",
    "print(\"train_class: %s\\n val_class: %s\\n test_class: %s\"%(train_class,val_class,test_class))\n",
    "all_class = np.sum([train_class, val_class], axis=0).tolist() # 修改=======================================\n",
    "print(all_class)\n",
    "\n",
    "# 可视化\n",
    "# /home/hcq/pointcloud/python-libraries/03Matplotlib/应用/柱状图.ipynb\n",
    "''' \n",
    "train_class: [1928, 293, 288, 291, 225, 90]\n",
    "val_class: [239, 41, 38, 23, 43, 16]\n",
    "test_class: [265, 30, 36, 43, 31, 24]\n",
    "\n",
    "'''\n",
    "\n"
   ]
  },
  {
   "cell_type": "markdown",
   "metadata": {},
   "source": [
    "## (train val test)各label可视化"
   ]
  },
  {
   "cell_type": "code",
   "execution_count": 1,
   "metadata": {},
   "outputs": [
    {
     "ename": "NameError",
     "evalue": "name 'all_class' is not defined",
     "output_type": "error",
     "traceback": [
      "\u001b[0;31m---------------------------------------------------------------------------\u001b[0m",
      "\u001b[0;31mNameError\u001b[0m                                 Traceback (most recent call last)",
      "\u001b[0;32m/tmp/ipykernel_79013/778312629.py\u001b[0m in \u001b[0;36m<module>\u001b[0;34m\u001b[0m\n\u001b[1;32m     10\u001b[0m \u001b[0mplt\u001b[0m\u001b[0;34m.\u001b[0m\u001b[0msubplot\u001b[0m\u001b[0;34m(\u001b[0m\u001b[0;36m2\u001b[0m\u001b[0;34m,\u001b[0m \u001b[0;36m2\u001b[0m\u001b[0;34m,\u001b[0m \u001b[0;36m1\u001b[0m\u001b[0;34m)\u001b[0m\u001b[0;34m\u001b[0m\u001b[0;34m\u001b[0m\u001b[0m\n\u001b[1;32m     11\u001b[0m \u001b[0mx\u001b[0m \u001b[0;34m=\u001b[0m \u001b[0mnp\u001b[0m\u001b[0;34m.\u001b[0m\u001b[0marray\u001b[0m\u001b[0;34m(\u001b[0m\u001b[0;34m[\u001b[0m\u001b[0;34m'Truck'\u001b[0m\u001b[0;34m,\u001b[0m\u001b[0;34m'Auxiliary'\u001b[0m\u001b[0;34m,\u001b[0m\u001b[0;34m'Car'\u001b[0m\u001b[0;34m,\u001b[0m\u001b[0;34m'Excavator'\u001b[0m\u001b[0;34m,\u001b[0m\u001b[0;34m'Widebody'\u001b[0m\u001b[0;34m,\u001b[0m\u001b[0;34m'Pedestrian'\u001b[0m\u001b[0;34m]\u001b[0m\u001b[0;34m)\u001b[0m\u001b[0;34m\u001b[0m\u001b[0;34m\u001b[0m\u001b[0m\n\u001b[0;32m---> 12\u001b[0;31m \u001b[0my\u001b[0m \u001b[0;34m=\u001b[0m \u001b[0mnp\u001b[0m\u001b[0;34m.\u001b[0m\u001b[0marray\u001b[0m\u001b[0;34m(\u001b[0m\u001b[0mall_class\u001b[0m\u001b[0;34m)\u001b[0m\u001b[0;34m\u001b[0m\u001b[0;34m\u001b[0m\u001b[0m\n\u001b[0m\u001b[1;32m     13\u001b[0m \u001b[0;34m\u001b[0m\u001b[0m\n\u001b[1;32m     14\u001b[0m \u001b[0mplt\u001b[0m\u001b[0;34m.\u001b[0m\u001b[0mbar\u001b[0m\u001b[0;34m(\u001b[0m\u001b[0mx\u001b[0m\u001b[0;34m,\u001b[0m \u001b[0my\u001b[0m\u001b[0;34m,\u001b[0m  \u001b[0mcolor\u001b[0m \u001b[0;34m=\u001b[0m \u001b[0;34m[\u001b[0m\u001b[0;34m\"#4CAF50\"\u001b[0m\u001b[0;34m,\u001b[0m\u001b[0;34m\"red\"\u001b[0m\u001b[0;34m,\u001b[0m\u001b[0;34m\"hotpink\"\u001b[0m\u001b[0;34m,\u001b[0m\u001b[0;34m\"#556B2F\"\u001b[0m\u001b[0;34m,\u001b[0m\u001b[0;34m\"green\"\u001b[0m\u001b[0;34m,\u001b[0m\u001b[0;34m\"blue\"\u001b[0m\u001b[0;34m]\u001b[0m\u001b[0;34m)\u001b[0m\u001b[0;34m\u001b[0m\u001b[0;34m\u001b[0m\u001b[0m\n",
      "\u001b[0;31mNameError\u001b[0m: name 'all_class' is not defined"
     ]
    },
    {
     "name": "stderr",
     "output_type": "stream",
     "text": [
      "findfont: Font family ['sans-serif'] not found. Falling back to DejaVu Sans.\n",
      "findfont: Generic family 'sans-serif' not found because none of the following families were found: SimHei\n"
     ]
    },
    {
     "data": {
      "image/png": "[encoded data removed]",
      "text/plain": [
       "<Figure size 3220x2300 with 1 Axes>"
      ]
     },
     "metadata": {
      "needs_background": "light"
     },
     "output_type": "display_data"
    }
   ],
   "source": [
    "import matplotlib.pyplot as plt\n",
    "import numpy as np\n",
    "from pylab import *  # 支持中文\n",
    "mpl.rcParams['font.sans-serif'] = ['SimHei']\n",
    "# 创建一个点数为 8 x 6 的窗口, 并设置分辨率为 250像素/每英寸\n",
    "plt.figure(figsize=(14, 10), dpi=230)\n",
    "\n",
    "\n",
    "#plot 1:===============================\n",
    "plt.subplot(2, 2, 1)\n",
    "x = np.array(['Truck','Auxiliary','Car','Excavator','Widebody','Pedestrian'])\n",
    "y = np.array(all_class) # 修改！！！！！！！！！！！！！！！！！\n",
    "\n",
    "plt.bar(x, y,  color = [\"#4CAF50\",\"red\",\"hotpink\",\"#556B2F\",\"green\",\"blue\"])\n",
    "\n",
    "#使用text显示数值  \n",
    "for a,b in zip(x,y):  \n",
    " plt.text(a, b+0.05, '%.0f' % b, ha='center', va= 'bottom',fontsize=11)\n",
    "\n",
    "plt.xlabel(\"Label\")  #设置X轴Y轴名称  \n",
    "plt.ylabel(\"Number\")  \n",
    "plt.title(\"all set(总数量可能有变化)\", fontsize=14)\n",
    "plt.style.use('seaborn-darkgrid') # 设置画图的风格 \n",
    "\n",
    "\n",
    "#plot 2:===============================\n",
    "plt.subplot(2, 2, 2)\n",
    "x = np.array(['Truck','Auxiliary','Car','Excavator','Widebody','Pedestrian'])\n",
    "y = np.array(train_class)\n",
    "\n",
    "plt.bar(x, y,  color = [\"#4CAF50\",\"red\",\"hotpink\",\"#556B2F\",\"green\",\"blue\"])\n",
    "\n",
    "#使用text显示数值  \n",
    "for a,b in zip(x,y):  \n",
    " plt.text(a, b+0.05, '%.0f' % b, ha='center', va= 'bottom',fontsize=11)\n",
    "\n",
    "plt.xlabel(\"Label\")  #设置X轴Y轴名称  \n",
    "plt.ylabel(\"Number\")  \n",
    "plt.title(\"train set\", fontsize=14) # # fontproperties 设置中文显示，fontsize 设置字体大小\n",
    "plt.style.use('seaborn-darkgrid') # 设置画图的风格 \n",
    "\n",
    "#plot 3:===============================\n",
    "plt.subplot(2, 2, 3)\n",
    "x = np.array(['Truck','Auxiliary','Car','Excavator','Widebody','Pedestrian'])\n",
    "y = np.array(val_class)\n",
    "\n",
    "plt.bar(x, y,  color = [\"#4CAF50\",\"red\",\"hotpink\",\"#556B2F\",\"green\",\"blue\"])\n",
    "\n",
    "#使用text显示数值  \n",
    "for a,b in zip(x,y):  \n",
    " plt.text(a, b+0.05, '%.0f' % b, ha='center', va= 'bottom',fontsize=11)\n",
    "\n",
    "plt.xlabel(\"Label\")  #设置X轴Y轴名称  \n",
    "plt.ylabel(\"Number\")  \n",
    "plt.title(\"val set\", fontsize=14)\n",
    "plt.style.use('seaborn-darkgrid') # 设置画图的风格 \n",
    "\n",
    "#plot 4:===============================\n",
    "plt.subplot(2, 2, 4)\n",
    "x = np.array(['Truck','Auxiliary','Car','Excavator','Widebody','Pedestrian'])\n",
    "y = np.array(test_class)\n",
    "\n",
    "plt.bar(x, y,  color = [\"#4CAF50\",\"red\",\"hotpink\",\"#556B2F\",\"green\",\"blue\"])\n",
    "\n",
    "#使用text显示数值  \n",
    "for a,b in zip(x,y):  \n",
    " plt.text(a, b+0.05, '%.0f' % b, ha='center', va= 'bottom',fontsize=11)\n",
    "\n",
    "plt.xlabel(\"Label\")  #设置X轴Y轴名称  \n",
    "plt.ylabel(\"Number\")  \n",
    "plt.title(\"test set\", fontsize=14)\n",
    "plt.style.use('seaborn-darkgrid') # 设置画图的风格 \n",
    "\n",
    "\n",
    "# ===============================\n",
    "\n",
    "# 保存图片\n",
    "fig=plt.gcf()\n",
    "fig.savefig('./dataset.jpg')\n",
    "\n",
    "plt.show()"
   ]
  },
  {
   "cell_type": "code",
   "execution_count": null,
   "metadata": {},
   "outputs": [],
   "source": []
  },
  {
   "cell_type": "code",
   "execution_count": null,
   "metadata": {},
   "outputs": [],
   "source": []
  }
 ],
 "metadata": {
  "interpreter": {
   "hash": "92147348f592586b287dedba5d580d053f0cf07eaa3e0ad9162da969158d2cb2"
  },
  "kernelspec": {
   "display_name": "Python 3.7.5 ('open-mmlab')",
   "language": "python",
   "name": "python3"
  },
  "language_info": {
   "codemirror_mode": {
    "name": "ipython",
    "version": 3
   },
   "file_extension": ".py",
   "mimetype": "text/x-python",
   "name": "python",
   "nbconvert_exporter": "python",
   "pygments_lexer": "ipython3",
   "version": "3.7.5"
  },
  "orig_nbformat": 4
 },
 "nbformat": 4,
 "nbformat_minor": 2
}
