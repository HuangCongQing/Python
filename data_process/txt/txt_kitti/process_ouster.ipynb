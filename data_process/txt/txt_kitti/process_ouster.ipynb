{
 "cells": [
  {
   "cell_type": "markdown",
   "source": [
    "## ouster 数据处理\n",
    "Kitti标签说明：https://www.yuque.com/huangzhongqing/hre6tf/qcx4vz#y64Af\n",
    "3D bounding box: (label，cx, cy, cz, dx, dy, dz, heading)\n",
    "其中，\n",
    "*  label：目标类别，一共6类，具体信息见下面【标注label】内容 （Truck，Car，Pedestrian，Excavator，Widebody，Auxiliary）\n",
    "    *  ['Truck'，'Car'，'Pedestrian'，'Excavator'，'Widebody'，'Auxiliary（Others）']\n",
    "*  (cx, cy, cz) ：框的中心点，即为物体3D框的几何中心位置\n",
    "*  (dx, dy, dz)：框的长宽高。具体为物体3D框在heading角度为0时沿着x-y-z三个方向的长度\n",
    "*  heading：为物体在俯视图下的朝向角 (沿着x轴方向为0度角，逆时针x到y角度增加)\n",
    "```\n",
    "# 一行数据\n",
    "Truck 32.11975965338263 -45.413255270899725 -0.37482731425800486 8.478923809647586 6.534787325995467 5.85106455969887 2.521077687071955\n",
    "```\n",
    "参考：/home/hcq/pointcloud/mmdetection3d/tools/data_converter/kitti_data_utils.py"
   ],
   "metadata": {}
  },
  {
   "cell_type": "code",
   "execution_count": 7,
   "source": [
    "\n",
    "# Ouster GT数据===========================================================\n",
    "import numpy as np\n",
    "def get_label_anno_ouster(label_path): # 'data/kitti/training/label_2/000010.txt'\n",
    "    annotations = {}\n",
    "    annotations.update({\n",
    "        'name': [], # 名字\n",
    "        # 'truncated': [],\n",
    "        # 'occluded': [],\n",
    "        # 'alpha': [],\n",
    "        # 'bbox': [], # 2D\n",
    "        'location': [], # 中心点坐标\n",
    "        'dimensions': [], # 需要 长宽高\n",
    "        'rotation_y': []\n",
    "    })\n",
    "    with open(label_path, 'r') as f: # \n",
    "        lines = f.readlines() # 打开文件\n",
    "    # if len(lines) == 0 or len(lines[0]) < 15:\n",
    "    #     content = []\n",
    "    # else:\n",
    "    content = [line.strip().split(' ') for line in lines] # GT内容\n",
    "    print(content)\n",
    "    num_objects = len([x[0] for x in content if x[0] != 'DontCare']) # 除了Dontare，有多少类，这里是2类\n",
    "    annotations['name'] = np.array([x[0] for x in content]) # 第一列：['Car' 'Van' 'DontCare' 'DontCare' 'DontCare']\n",
    "    num_gt = len(annotations['name'])\n",
    "    annotations['location'] = np.array([[float(info) for info in x[1:4]] # 中心xyz坐标\n",
    "                                        for x in content]).reshape(-1, 3)\n",
    "    annotations['dimensions'] = np.array([[float(info) for info in x[4:7]] #  表示该车的高度，宽度，和长度，单位为米。（H,W,L）\n",
    "                                          for x in content\n",
    "                                          ]).reshape(-1, 3)[:, [0, 2, 1]] # 长宽高位置--> 长度 高度，宽度？？？？\n",
    "    annotations['rotation_y'] = np.array([float(x[7]) # 表示车体朝向，绕相机坐标系y轴的弧度值\n",
    "                                          for x in content]).reshape(-1)\n",
    "    # 如果有第9列置信度\n",
    "    print(len(content[0]))\n",
    "    if len(content) != 0 and len(content[0]) == 9:  # have score #  (预测有score，但label_2标签文件不包含score)\n",
    "        annotations['score'] = np.array([float(x[8]) for x in content])\n",
    "    else:\n",
    "        annotations['score'] = np.zeros((annotations['rotation_y'].shape[0], ))\n",
    "    index = list(range(num_objects)) + [-1] * (num_gt - num_objects) # [0, 1, -1, -1, -1] = [0,1 ] +  [-1, -1, -1]\n",
    "    annotations['index'] = np.array(index, dtype=np.int32)\n",
    "    annotations['group_ids'] = np.arange(num_gt, dtype=np.int32) # [0 1 2 3 4]\n",
    "    return annotations\n"
   ],
   "outputs": [],
   "metadata": {}
  },
  {
   "cell_type": "code",
   "execution_count": 8,
   "source": [
    "str = \"/home/hcq/pointcloud/Python/data_process/txt/txt_kitti/000000ouster.txt\"\n",
    "ann = get_label_anno_ouster(str)\n",
    "ann"
   ],
   "outputs": [
    {
     "output_type": "stream",
     "name": "stdout",
     "text": [
      "[['Truck', '23.993548145171815', '-12.739941812507684', '-0.36031911422858276', '12.504828276858674', '8.34002923274409', '7.532050105135633', '-0.9437256977598043'], ['Excavator', '46.18895309993388', '-44.8425769813457', '-0.18315541744232178', '16.711626142283873', '3.9203361646195454', '6.98018099784851', '0.531891184075941'], ['Widebody', '55.29291027745209', '34.22592295080128', '-0.6067225597216265', '4.042755973781112', '1.658953235199069', '4.899275016370133', '0.24802047385311177'], ['Truck', '65.79371238977741', '16.640755268172832', '2.6541123776025857', '2.647803534385339', '6.272589396148364', '9.575877608381253', '1.43664689019158'], ['Pedestrian', '13.80351455283122', '-8.356476903250732', '-2.887029528617859', '0.3560365608098151', '0.23894134393921918', '1.6401670169830322', '0.4992040685384871'], ['Pedestrian', '14.937343649598848', '-7.02851920158248', '-2.79945002445566', '0.5431902327449888', '0.4585907118794559', '1.7716600777504312', '0.5334779995021175'], ['Car', '21.959687117177264', '-47.09619542314231', '-3.634701106733207', '4.4725182431520905', '0.45812277546713287', '1.529976096523054', '1.1090726815836716'], ['Truck', '32.11975965338263', '-45.413255270899725', '-0.37482731425800486', '8.478923809647586', '6.534787325995467', '5.85106455969887', '2.521077687071955']]\n",
      "8\n"
     ]
    },
    {
     "output_type": "execute_result",
     "data": {
      "text/plain": [
       "{'name': array(['Truck', 'Excavator', 'Widebody', 'Truck', 'Pedestrian',\n",
       "        'Pedestrian', 'Car', 'Truck'], dtype='<U10'),\n",
       " 'location': array([[ 23.99354815, -12.73994181,  -0.36031911],\n",
       "        [ 46.1889531 , -44.84257698,  -0.18315542],\n",
       "        [ 55.29291028,  34.22592295,  -0.60672256],\n",
       "        [ 65.79371239,  16.64075527,   2.65411238],\n",
       "        [ 13.80351455,  -8.3564769 ,  -2.88702953],\n",
       "        [ 14.93734365,  -7.0285192 ,  -2.79945002],\n",
       "        [ 21.95968712, -47.09619542,  -3.63470111],\n",
       "        [ 32.11975965, -45.41325527,  -0.37482731]]),\n",
       " 'dimensions': array([[ 7.53205011, 12.50482828,  8.34002923],\n",
       "        [ 6.980181  , 16.71162614,  3.92033616],\n",
       "        [ 4.89927502,  4.04275597,  1.65895324],\n",
       "        [ 9.57587761,  2.64780353,  6.2725894 ],\n",
       "        [ 1.64016702,  0.35603656,  0.23894134],\n",
       "        [ 1.77166008,  0.54319023,  0.45859071],\n",
       "        [ 1.5299761 ,  4.47251824,  0.45812278],\n",
       "        [ 5.85106456,  8.47892381,  6.53478733]]),\n",
       " 'rotation_y': array([-0.9437257 ,  0.53189118,  0.24802047,  1.43664689,  0.49920407,\n",
       "         0.533478  ,  1.10907268,  2.52107769]),\n",
       " 'score': array([0., 0., 0., 0., 0., 0., 0., 0.]),\n",
       " 'index': array([0, 1, 2, 3, 4, 5, 6, 7], dtype=int32),\n",
       " 'group_ids': array([0, 1, 2, 3, 4, 5, 6, 7], dtype=int32)}"
      ]
     },
     "metadata": {},
     "execution_count": 8
    }
   ],
   "metadata": {}
  },
  {
   "cell_type": "markdown",
   "source": [
    "## 得到gt_bboxes_3d和gt_labels_3d\n",
    "*  调用 get_anno_info() ，加载 anno 里面的 boxes， 格式为 (x_lidar, y_lidar, z_lidar, dx, dy, dz, yaw)\n",
    "\n",
    "参考：/home/hcq/pointcloud/mmdetection3d/mmdet3d/datasets/ouster_dataset.py"
   ],
   "metadata": {}
  },
  {
   "cell_type": "code",
   "execution_count": 4,
   "source": [
    "# 需要修改gt_bboxes_3d和gt_labels_3d=====================================\n",
    "import copy\n",
    "def get_ann_info(ann):\n",
    "    \"\"\"Get annotation info according to the given index.\n",
    "\n",
    "    Args:\n",
    "        index (int): Index of the annotation data to get.\n",
    "\n",
    "    Returns:\n",
    "        dict: annotation information consists of the following keys:\n",
    "\n",
    "            - gt_bboxes_3d (:obj:`LiDARInstance3DBoxes`): \\\n",
    "                3D ground truth bboxes.\n",
    "            - gt_labels_3d (np.ndarray): Labels of ground truths.====================================================================\n",
    "            - gt_bboxes (np.ndarray): 2D ground truth bboxes.\n",
    "            - gt_labels (np.ndarray): Labels of ground truths.\n",
    "            - gt_names (list[str]): Class names of ground truths.\n",
    "    \"\"\"\n",
    "    # Use index to get the annos, thus the evalhook could also use this api\n",
    "    info = ann\n",
    "    # rect = info['calib']['R0_rect'].astype(np.float32)\n",
    "    # Trv2c = info['calib']['Tr_velo_to_cam'].astype(np.float32)\n",
    "\n",
    "    annos = info\n",
    "    # we need other objects to avoid collision when sample\n",
    "    # annos = self.remove_dontcare(annos)\n",
    "    loc = annos['location']\n",
    "    dims = annos['dimensions']\n",
    "    rots = annos['rotation_y']\n",
    "    gt_names = annos['name']\n",
    "    gt_bboxes_3d = np.concatenate([loc, dims, rots[..., np.newaxis]],\n",
    "                                    axis=1).astype(np.float32)\n",
    "    # 修改\n",
    "    # gt_bboxes_3d = LiDARInstance3DBoxes(gt_bboxes_3d) # ====================================================================\n",
    "    # convert gt_bboxes_3d to velodyne coordinates  格式为 (x_lidar, y_lidar, z_lidar, dx, dy, dz, yaw)\n",
    "    # gt_bboxes_3d = CameraInstance3DBoxes(gt_bboxes_3d).convert_to(\n",
    "    #     self.box_mode_3d, np.linalg.inv(rect @ Trv2c))\n",
    "    # gt_bboxes = annos['bbox']\n",
    "\n",
    "    # selected = self.drop_arrays_by_name(gt_names, ['DontCare']) # 不要DonCare\n",
    "    # gt_bboxes = gt_bboxes[selected].astype('float32')\n",
    "    # gt_names = gt_names[selected]\n",
    "    CLASSES =  ('Truck','Car','Pedestrian','Excavator','Widebody','Auxiliary')\n",
    "    gt_labels_3d = []\n",
    "    for cat in gt_names: # 变成数字的形式\n",
    "        if cat in CLASSES:\n",
    "            gt_labels_3d.append(CLASSES.index(cat))\n",
    "        else:\n",
    "            gt_labels_3d.append(-1)\n",
    "    gt_labels_3d = np.array(gt_labels_3d).astype(np.int64)\n",
    "\n",
    "    anns_results = dict(\n",
    "        gt_bboxes_3d=gt_bboxes_3d,\n",
    "        gt_labels_3d=gt_labels_3d,\n",
    "        # bboxes=gt_bboxes,\n",
    "        # labels=gt_labels,\n",
    "        gt_names=gt_names)\n",
    "    return anns_results"
   ],
   "outputs": [],
   "metadata": {}
  },
  {
   "cell_type": "code",
   "execution_count": 24,
   "source": [
    "ann_info = get_ann_info(ann)\n",
    "ann_info"
   ],
   "outputs": [
    {
     "output_type": "execute_result",
     "data": {
      "text/plain": [
       "{'gt_bboxes_3d': array([[ 23.993547  , -12.739942  ,  -0.3603191 ,  12.504828  ,\n",
       "           8.340029  ,   7.53205   ,  -0.9437257 ],\n",
       "        [ 46.188953  , -44.84258   ,  -0.18315542,  16.711626  ,\n",
       "           3.9203362 ,   6.980181  ,   0.53189117],\n",
       "        [ 55.29291   ,  34.22592   ,  -0.60672253,   4.042756  ,\n",
       "           1.6589532 ,   4.899275  ,   0.24802047],\n",
       "        [ 65.79371   ,  16.640755  ,   2.6541123 ,   2.6478035 ,\n",
       "           6.272589  ,   9.575877  ,   1.4366469 ],\n",
       "        [ 13.8035145 ,  -8.356477  ,  -2.8870296 ,   0.35603657,\n",
       "           0.23894134,   1.640167  ,   0.49920407],\n",
       "        [ 14.937344  ,  -7.028519  ,  -2.79945   ,   0.54319024,\n",
       "           0.45859072,   1.7716601 ,   0.533478  ],\n",
       "        [ 21.959686  , -47.096195  ,  -3.634701  ,   4.4725184 ,\n",
       "           0.4581228 ,   1.5299761 ,   1.1090727 ],\n",
       "        [ 32.11976   , -45.413254  ,  -0.37482733,   8.478924  ,\n",
       "           6.534787  ,   5.8510647 ,   2.5210776 ]], dtype=float32),\n",
       " 'gt_labels_3d': array([0, 3, 4, 0, 2, 2, 1, 0]),\n",
       " 'gt_names': array(['Truck', 'Excavator', 'Widebody', 'Truck', 'Pedestrian',\n",
       "        'Pedestrian', 'Car', 'Truck'], dtype='<U10')}"
      ]
     },
     "metadata": {},
     "execution_count": 24
    }
   ],
   "metadata": {}
  },
  {
   "cell_type": "code",
   "execution_count": null,
   "source": [],
   "outputs": [],
   "metadata": {}
  }
 ],
 "metadata": {
  "orig_nbformat": 4,
  "language_info": {
   "name": "python",
   "version": "3.6.12",
   "mimetype": "text/x-python",
   "codemirror_mode": {
    "name": "ipython",
    "version": 3
   },
   "pygments_lexer": "ipython3",
   "nbconvert_exporter": "python",
   "file_extension": ".py"
  },
  "kernelspec": {
   "name": "python3",
   "display_name": "Python 3.6.12 64-bit ('common': conda)"
  },
  "interpreter": {
   "hash": "23f77d03b5a41e4d3ddb9e0caaaf52efc8b96489adee7c10c83419330a6f57cc"
  }
 },
 "nbformat": 4,
 "nbformat_minor": 2
}