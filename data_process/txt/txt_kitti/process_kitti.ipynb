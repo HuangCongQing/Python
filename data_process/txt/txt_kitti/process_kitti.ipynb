{
 "cells": [
  {
   "cell_type": "markdown",
   "source": [
    "## kitti数据\n",
    "\n",
    "Kitti标签说明：https://www.yuque.com/huangzhongqing/hre6tf/qcx4vz#y64Af\n"
   ],
   "metadata": {}
  },
  {
   "cell_type": "code",
   "execution_count": 1,
   "source": [
    "\n",
    "#  GT数据===========================================================\n",
    "import numpy as np\n",
    "def get_label_anno(label_path): # 'data/kitti/training/label_2/000010.txt'\n",
    "    annotations = {}\n",
    "    annotations.update({\n",
    "        'name': [],\n",
    "        'truncated': [],\n",
    "        'occluded': [],\n",
    "        'alpha': [],\n",
    "        'bbox': [],\n",
    "        'dimensions': [],\n",
    "        'location': [],\n",
    "        'rotation_y': []\n",
    "    })\n",
    "    with open(label_path, 'r') as f: # \n",
    "        lines = f.readlines() # 打开文件\n",
    "    # if len(lines) == 0 or len(lines[0]) < 15:\n",
    "    #     content = []\n",
    "    # else:\n",
    "    content = [line.strip().split(' ') for line in lines] # GT内容\n",
    "    num_objects = len([x[0] for x in content if x[0] != 'DontCare']) # 除了Dontare，有多少类，这里是2类  最后一列设置为-1\n",
    "    annotations['name'] = np.array([x[0] for x in content]) # 第一列：['Car' 'Van' 'DontCare' 'DontCare' 'DontCare']\n",
    "    num_gt = len(annotations['name'])\n",
    "    annotations['truncated'] = np.array([float(x[1]) for x in content])\n",
    "    annotations['occluded'] = np.array([int(x[2]) for x in content])\n",
    "    annotations['alpha'] = np.array([float(x[3]) for x in content])\n",
    "    annotations['bbox'] = np.array([[float(info) for info in x[4:8]]\n",
    "                                    for x in content]).reshape(-1, 4)\n",
    "    # dimensions will convert hwl format to standard lhw(camera) format.\n",
    "    annotations['dimensions'] = np.array([[float(info) for info in x[8:11]] # 第9-11列: 2.85 2.63 12.34 表示该车的高度，宽度，和长度，单位为米。（H,W,L）\n",
    "                                          for x in content\n",
    "                                          ]).reshape(-1, 3)[:, [2, 0, 1]] # 变为 长度 高度，宽度？？？？\n",
    "    annotations['location'] = np.array([[float(info) for info in x[11:14]] # 该车的3D中心在相机坐标下的xyz坐标\n",
    "                                        for x in content]).reshape(-1, 3)\n",
    "    annotations['rotation_y'] = np.array([float(x[14]) # 表示车体朝向，绕相机坐标系y轴的弧度值\n",
    "                                          for x in content]).reshape(-1)\n",
    "    if len(content) != 0 and len(content[0]) == 16:  # have score #  (预测有score，但label_2标签文件不包含score)\n",
    "        annotations['score'] = np.array([float(x[15]) for x in content])\n",
    "    else:\n",
    "        annotations['score'] = np.zeros((annotations['bbox'].shape[0], ))\n",
    "    index = list(range(num_objects)) + [-1] * (num_gt - num_objects) # [0, 1, -1, -1, -1] = [0,1 ] +  [-1, -1, -1]\n",
    "    annotations['index'] = np.array(index, dtype=np.int32)\n",
    "    annotations['group_ids'] = np.arange(num_gt, dtype=np.int32) # [0 1 2 3 4]\n",
    "    return annotations\n"
   ],
   "outputs": [],
   "metadata": {}
  },
  {
   "cell_type": "code",
   "execution_count": 2,
   "source": [
    "str = \"/home/hcq/pointcloud/Python/data_process/txt/txt_kitti/000000kitti.txt\"\n",
    "ann = get_label_anno(str)\n",
    "ann"
   ],
   "outputs": [
    {
     "output_type": "execute_result",
     "data": {
      "text/plain": [
       "{'name': array(['Truck', 'Car', 'Cyclist', 'DontCare', 'DontCare', 'DontCare',\n",
       "        'DontCare'], dtype='<U8'),\n",
       " 'truncated': array([ 0.,  0.,  0., -1., -1., -1., -1.]),\n",
       " 'occluded': array([ 0,  0,  3, -1, -1, -1, -1]),\n",
       " 'alpha': array([ -1.57,   1.85,  -1.65, -10.  , -10.  , -10.  , -10.  ]),\n",
       " 'bbox': array([[599.41, 156.4 , 629.75, 189.25],\n",
       "        [387.63, 181.54, 423.81, 203.12],\n",
       "        [676.6 , 163.95, 688.98, 193.93],\n",
       "        [503.89, 169.71, 590.61, 190.13],\n",
       "        [511.35, 174.96, 527.81, 187.45],\n",
       "        [532.37, 176.35, 542.68, 185.27],\n",
       "        [559.62, 175.83, 575.4 , 183.15]]),\n",
       " 'dimensions': array([[12.34,  2.85,  2.63],\n",
       "        [ 3.69,  1.67,  1.87],\n",
       "        [ 2.02,  1.86,  0.6 ],\n",
       "        [-1.  , -1.  , -1.  ],\n",
       "        [-1.  , -1.  , -1.  ],\n",
       "        [-1.  , -1.  , -1.  ],\n",
       "        [-1.  , -1.  , -1.  ]]),\n",
       " 'location': array([[ 4.700e-01,  1.490e+00,  6.944e+01],\n",
       "        [-1.653e+01,  2.390e+00,  5.849e+01],\n",
       "        [ 4.590e+00,  1.320e+00,  4.584e+01],\n",
       "        [-1.000e+03, -1.000e+03, -1.000e+03],\n",
       "        [-1.000e+03, -1.000e+03, -1.000e+03],\n",
       "        [-1.000e+03, -1.000e+03, -1.000e+03],\n",
       "        [-1.000e+03, -1.000e+03, -1.000e+03]]),\n",
       " 'rotation_y': array([ -1.56,   1.57,  -1.55, -10.  , -10.  , -10.  , -10.  ]),\n",
       " 'score': array([0., 0., 0., 0., 0., 0., 0.]),\n",
       " 'index': array([ 0,  1,  2, -1, -1, -1, -1], dtype=int32),\n",
       " 'group_ids': array([0, 1, 2, 3, 4, 5, 6], dtype=int32)}"
      ]
     },
     "metadata": {},
     "execution_count": 2
    }
   ],
   "metadata": {}
  },
  {
   "cell_type": "code",
   "execution_count": 3,
   "source": [
    "# 000000ouster_kittistyle.txt\n",
    "str = \"/home/hcq/pointcloud/Python/data_process/txt/txt_kitti/000000ouster_kittistyle.txt\"\n",
    "ann = get_label_anno(str)\n",
    "ann"
   ],
   "outputs": [
    {
     "output_type": "execute_result",
     "data": {
      "text/plain": [
       "{'name': array(['Truck', 'Car'], dtype='<U5'),\n",
       " 'truncated': array([-1., -1.]),\n",
       " 'occluded': array([-1, -1]),\n",
       " 'alpha': array([ 5.08065135, -0.53074596]),\n",
       " 'bbox': array([[-1., -1., -1., -1.],\n",
       "        [-1., -1., -1., -1.]]),\n",
       " 'dimensions': array([[13.78188393,  7.36286536,  8.43438935],\n",
       "        [ 5.03131019,  1.73844456,  1.92863546]]),\n",
       " 'location': array([[ 8.76096328, 18.02125827,  0.35318823],\n",
       "        [33.23621384, 16.35833872, -1.17040601]]),\n",
       " 'rotation_y': array([-3.05735189,  3.21496318]),\n",
       " 'score': array([-1., -1.]),\n",
       " 'index': array([0, 1], dtype=int32),\n",
       " 'group_ids': array([0, 1], dtype=int32)}"
      ]
     },
     "metadata": {},
     "execution_count": 3
    }
   ],
   "metadata": {}
  },
  {
   "cell_type": "code",
   "execution_count": null,
   "source": [],
   "outputs": [],
   "metadata": {}
  }
 ],
 "metadata": {
  "orig_nbformat": 4,
  "language_info": {
   "name": "python",
   "version": "3.6.12",
   "mimetype": "text/x-python",
   "codemirror_mode": {
    "name": "ipython",
    "version": 3
   },
   "pygments_lexer": "ipython3",
   "nbconvert_exporter": "python",
   "file_extension": ".py"
  },
  "kernelspec": {
   "name": "python3",
   "display_name": "Python 3.6.12 64-bit ('common': conda)"
  },
  "interpreter": {
   "hash": "23f77d03b5a41e4d3ddb9e0caaaf52efc8b96489adee7c10c83419330a6f57cc"
  }
 },
 "nbformat": 4,
 "nbformat_minor": 2
}