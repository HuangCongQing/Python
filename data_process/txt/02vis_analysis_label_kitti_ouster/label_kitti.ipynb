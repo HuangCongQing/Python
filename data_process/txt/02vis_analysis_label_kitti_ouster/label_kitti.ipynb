{
 "cells": [
  {
   "cell_type": "code",
   "execution_count": 5,
   "metadata": {},
   "outputs": [],
   "source": [
    "import numpy as np\n",
    "import os\n",
    "import pandas as pd"
   ]
  },
  {
   "cell_type": "code",
   "execution_count": 6,
   "metadata": {},
   "outputs": [],
   "source": [
    "filepath = \"C://Users//huituo//Desktop//慧拓任务//数据标注//test_anno_2021-08-02-10-22-25_bag试标结果//试标结果//点云追踪结果//转换后结果数据//test_anno_2021-08-02-10-22-25_bag//\"\n",
    "files = os.listdir(filepath)\n",
    "data = []\n",
    "for file in files:\n",
    "    with open(filepath+file, 'r') as f:\n",
    "        for line in f.readlines():\n",
    "            data.append(line.strip().split())"
   ]
  },
  {
   "cell_type": "code",
   "execution_count": 7,
   "metadata": {},
   "outputs": [],
   "source": [
    "df = pd.DataFrame(data)\n",
    "df = df.loc[:, [0, 11, 12, 13, 14]]\n",
    "df.columns = ['type', 'x', 'y', 'z', 'heading']"
   ]
  },
  {
   "cell_type": "code",
   "execution_count": 8,
   "metadata": {},
   "outputs": [],
   "source": [
    "for i in df.columns:\n",
    "    if i == 'type': # 不包含type这一列\n",
    "        continue\n",
    "    else:\n",
    "        df.loc[:, i] = df.loc[:, i].astype(float) # 字符串转float"
   ]
  },
  {
   "cell_type": "code",
   "execution_count": 9,
   "metadata": {},
   "outputs": [
    {
     "data": {
      "text/html": [
       "<div>\n",
       "<style scoped>\n",
       "    .dataframe tbody tr th:only-of-type {\n",
       "        vertical-align: middle;\n",
       "    }\n",
       "\n",
       "    .dataframe tbody tr th {\n",
       "        vertical-align: top;\n",
       "    }\n",
       "\n",
       "    .dataframe thead th {\n",
       "        text-align: right;\n",
       "    }\n",
       "</style>\n",
       "<table border=\"1\" class=\"dataframe\">\n",
       "  <thead>\n",
       "    <tr style=\"text-align: right;\">\n",
       "      <th></th>\n",
       "      <th>x</th>\n",
       "      <th>y</th>\n",
       "      <th>z</th>\n",
       "      <th>heading</th>\n",
       "    </tr>\n",
       "  </thead>\n",
       "  <tbody>\n",
       "    <tr>\n",
       "      <th>count</th>\n",
       "      <td>26.000000</td>\n",
       "      <td>26.000000</td>\n",
       "      <td>26.000000</td>\n",
       "      <td>26.000000</td>\n",
       "    </tr>\n",
       "    <tr>\n",
       "      <th>mean</th>\n",
       "      <td>19.222366</td>\n",
       "      <td>16.100105</td>\n",
       "      <td>-0.189222</td>\n",
       "      <td>-0.873376</td>\n",
       "    </tr>\n",
       "    <tr>\n",
       "      <th>std</th>\n",
       "      <td>18.628832</td>\n",
       "      <td>1.934426</td>\n",
       "      <td>1.652529</td>\n",
       "      <td>3.032080</td>\n",
       "    </tr>\n",
       "    <tr>\n",
       "      <th>min</th>\n",
       "      <td>-8.275377</td>\n",
       "      <td>11.930110</td>\n",
       "      <td>-3.440390</td>\n",
       "      <td>-3.117637</td>\n",
       "    </tr>\n",
       "    <tr>\n",
       "      <th>25%</th>\n",
       "      <td>4.877859</td>\n",
       "      <td>15.319947</td>\n",
       "      <td>-1.282649</td>\n",
       "      <td>-3.098080</td>\n",
       "    </tr>\n",
       "    <tr>\n",
       "      <th>50%</th>\n",
       "      <td>15.170071</td>\n",
       "      <td>16.333777</td>\n",
       "      <td>-0.360639</td>\n",
       "      <td>-2.926056</td>\n",
       "    </tr>\n",
       "    <tr>\n",
       "      <th>75%</th>\n",
       "      <td>31.449948</td>\n",
       "      <td>17.631768</td>\n",
       "      <td>1.017277</td>\n",
       "      <td>3.214072</td>\n",
       "    </tr>\n",
       "    <tr>\n",
       "      <th>max</th>\n",
       "      <td>60.814330</td>\n",
       "      <td>18.814305</td>\n",
       "      <td>2.486212</td>\n",
       "      <td>3.232309</td>\n",
       "    </tr>\n",
       "  </tbody>\n",
       "</table>\n",
       "</div>"
      ],
      "text/plain": [
       "               x          y          z    heading\n",
       "count  26.000000  26.000000  26.000000  26.000000\n",
       "mean   19.222366  16.100105  -0.189222  -0.873376\n",
       "std    18.628832   1.934426   1.652529   3.032080\n",
       "min    -8.275377  11.930110  -3.440390  -3.117637\n",
       "25%     4.877859  15.319947  -1.282649  -3.098080\n",
       "50%    15.170071  16.333777  -0.360639  -2.926056\n",
       "75%    31.449948  17.631768   1.017277   3.214072\n",
       "max    60.814330  18.814305   2.486212   3.232309"
      ]
     },
     "execution_count": 9,
     "metadata": {},
     "output_type": "execute_result"
    }
   ],
   "source": [
    "df.describe()"
   ]
  },
  {
   "cell_type": "code",
   "execution_count": 10,
   "metadata": {},
   "outputs": [
    {
     "data": {
      "text/html": [
       "<div>\n",
       "<style scoped>\n",
       "    .dataframe tbody tr th:only-of-type {\n",
       "        vertical-align: middle;\n",
       "    }\n",
       "\n",
       "    .dataframe tbody tr th {\n",
       "        vertical-align: top;\n",
       "    }\n",
       "\n",
       "    .dataframe thead th {\n",
       "        text-align: right;\n",
       "    }\n",
       "</style>\n",
       "<table border=\"1\" class=\"dataframe\">\n",
       "  <thead>\n",
       "    <tr style=\"text-align: right;\">\n",
       "      <th></th>\n",
       "      <th>z</th>\n",
       "    </tr>\n",
       "  </thead>\n",
       "  <tbody>\n",
       "    <tr>\n",
       "      <th>0</th>\n",
       "      <td>0.371659</td>\n",
       "    </tr>\n",
       "    <tr>\n",
       "      <th>1</th>\n",
       "      <td>0.353188</td>\n",
       "    </tr>\n",
       "    <tr>\n",
       "      <th>3</th>\n",
       "      <td>-0.679527</td>\n",
       "    </tr>\n",
       "    <tr>\n",
       "      <th>5</th>\n",
       "      <td>2.486212</td>\n",
       "    </tr>\n",
       "    <tr>\n",
       "      <th>6</th>\n",
       "      <td>-0.721728</td>\n",
       "    </tr>\n",
       "    <tr>\n",
       "      <th>8</th>\n",
       "      <td>2.028362</td>\n",
       "    </tr>\n",
       "    <tr>\n",
       "      <th>10</th>\n",
       "      <td>2.463320</td>\n",
       "    </tr>\n",
       "    <tr>\n",
       "      <th>11</th>\n",
       "      <td>1.664527</td>\n",
       "    </tr>\n",
       "    <tr>\n",
       "      <th>13</th>\n",
       "      <td>2.130120</td>\n",
       "    </tr>\n",
       "    <tr>\n",
       "      <th>14</th>\n",
       "      <td>1.112663</td>\n",
       "    </tr>\n",
       "    <tr>\n",
       "      <th>15</th>\n",
       "      <td>0.731121</td>\n",
       "    </tr>\n",
       "    <tr>\n",
       "      <th>16</th>\n",
       "      <td>1.379455</td>\n",
       "    </tr>\n",
       "    <tr>\n",
       "      <th>17</th>\n",
       "      <td>0.196963</td>\n",
       "    </tr>\n",
       "    <tr>\n",
       "      <th>18</th>\n",
       "      <td>-0.337195</td>\n",
       "    </tr>\n",
       "    <tr>\n",
       "      <th>19</th>\n",
       "      <td>-0.155158</td>\n",
       "    </tr>\n",
       "    <tr>\n",
       "      <th>20</th>\n",
       "      <td>-0.384083</td>\n",
       "    </tr>\n",
       "  </tbody>\n",
       "</table>\n",
       "</div>"
      ],
      "text/plain": [
       "           z\n",
       "0   0.371659\n",
       "1   0.353188\n",
       "3  -0.679527\n",
       "5   2.486212\n",
       "6  -0.721728\n",
       "8   2.028362\n",
       "10  2.463320\n",
       "11  1.664527\n",
       "13  2.130120\n",
       "14  1.112663\n",
       "15  0.731121\n",
       "16  1.379455\n",
       "17  0.196963\n",
       "18 -0.337195\n",
       "19 -0.155158\n",
       "20 -0.384083"
      ]
     },
     "execution_count": 10,
     "metadata": {},
     "output_type": "execute_result"
    }
   ],
   "source": [
    "df[df.loc[:, 'type']=='Truck'].loc[:, ['z']]"
   ]
  },
  {
   "cell_type": "code",
   "execution_count": 15,
   "metadata": {},
   "outputs": [
    {
     "name": "stdout",
     "output_type": "stream",
     "text": [
      "Truck:16,Auxiliary:5,Car:5, \n"
     ]
    },
    {
     "data": {
      "text/plain": [
       "[16, 5, 5, 0, 0, 0, 0]"
      ]
     },
     "execution_count": 15,
     "metadata": {},
     "output_type": "execute_result"
    }
   ],
   "source": [
    "num_truck = df[df.loc[:, 'type']=='Truck'].shape[0]\n",
    "num_auxiliary = df[df.loc[:, 'type']=='Auxiliary'].shape[0]\n",
    "num_car = df[df.loc[:, 'type']=='Car'].shape[0]\n",
    "print(\"Truck:{},Auxiliary:{},Car:{}, \".format(num_truck, num_auxiliary, num_car))\n",
    "\n",
    "list_name = ['Truck','Auxiliary','Car','Excavator','Widebody','Pedestrian','Others']\n",
    "nums_label = [df[df.loc[:, 'type']==name].shape[0] for name in list_name]\n",
    "nums_label"
   ]
  },
  {
   "cell_type": "code",
   "execution_count": 12,
   "metadata": {},
   "outputs": [
    {
     "data": {
      "text/plain": [
       "<AxesSubplot:>"
      ]
     },
     "execution_count": 12,
     "metadata": {},
     "output_type": "execute_result"
    },
    {
     "data": {
      "image/png": "[encoded data removed]",
      "text/plain": [
       "<Figure size 432x288 with 1 Axes>"
      ]
     },
     "metadata": {
      "needs_background": "light"
     },
     "output_type": "display_data"
    }
   ],
   "source": [
    "df[df.loc[:, 'type']=='Truck'].loc[:, ['z']].boxplot(vert=False)"
   ]
  },
  {
   "cell_type": "code",
   "execution_count": null,
   "metadata": {},
   "outputs": [],
   "source": []
  },
  {
   "cell_type": "code",
   "execution_count": null,
   "metadata": {},
   "outputs": [],
   "source": []
  }
 ],
 "metadata": {
  "interpreter": {
   "hash": "6da98eacdef9d70d05690ff9a51cb11cd928be326ca4c66c5cb22400c3fb5833"
  },
  "kernelspec": {
   "display_name": "Python 3.6.12 64-bit ('common': conda)",
   "name": "python3"
  },
  "language_info": {
   "codemirror_mode": {
    "name": "ipython",
    "version": 3
   },
   "file_extension": ".py",
   "mimetype": "text/x-python",
   "name": "python",
   "nbconvert_exporter": "python",
   "pygments_lexer": "ipython3",
   "version": "3.6.12"
  },
  "orig_nbformat": 4
 },
 "nbformat": 4,
 "nbformat_minor": 2
}
