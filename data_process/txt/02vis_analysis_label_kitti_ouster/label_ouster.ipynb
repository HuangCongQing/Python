{
 "cells": [
  {
   "cell_type": "code",
   "execution_count": 2,
   "metadata": {},
   "outputs": [],
   "source": [
    "# https://www.yuque.com/huangzhongqing/eozhay/mrqitx#lFvy7\n",
    "import numpy as np\n",
    "import os\n",
    "import pandas as pd"
   ]
  },
  {
   "cell_type": "code",
   "execution_count": 3,
   "metadata": {},
   "outputs": [],
   "source": [
    "filepath = \"C://Users//huituo//Desktop//慧拓任务//数据标注//崔凯//1_50//1_50//3d//\"\n",
    "files = os.listdir(filepath)\n",
    "data = []\n",
    "for file in files:\n",
    "    with open(filepath+file, 'r') as f:\n",
    "        for line in f.readlines():\n",
    "            data.append(line.strip().split())"
   ]
  },
  {
   "cell_type": "code",
   "execution_count": 11,
   "metadata": {},
   "outputs": [],
   "source": [
    "df = pd.DataFrame(data)\n",
    "# kitti数据集\n",
    "# df = df.loc[:, [0, 11, 12, 13, 14]] # 修改\n",
    "\n",
    "# ouster 3D bounding box: (label，cx, cy, cz, dx, dy, dz, heading)\n",
    "# Truck 6 14.611415 18.608795 0.46999997 13.309997 8.250002 7.34 -3.0455952326404025\n",
    "df = df.loc[:, [0, 2, 3, 4, 7]] # 修改\n",
    "df.columns = ['type', 'x', 'y', 'z', 'heading']"
   ]
  },
  {
   "cell_type": "code",
   "execution_count": 12,
   "metadata": {},
   "outputs": [],
   "source": [
    "for i in df.columns:\n",
    "    if i == 'type': # 不包含type这一列\n",
    "        continue\n",
    "    else:\n",
    "        df.loc[:, i] = df.loc[:, i].astype(float) # 字符串转float"
   ]
  },
  {
   "cell_type": "code",
   "execution_count": 13,
   "metadata": {},
   "outputs": [
    {
     "data": {
      "text/html": [
       "<div>\n",
       "<style scoped>\n",
       "    .dataframe tbody tr th:only-of-type {\n",
       "        vertical-align: middle;\n",
       "    }\n",
       "\n",
       "    .dataframe tbody tr th {\n",
       "        vertical-align: top;\n",
       "    }\n",
       "\n",
       "    .dataframe thead th {\n",
       "        text-align: right;\n",
       "    }\n",
       "</style>\n",
       "<table border=\"1\" class=\"dataframe\">\n",
       "  <thead>\n",
       "    <tr style=\"text-align: right;\">\n",
       "      <th></th>\n",
       "      <th>x</th>\n",
       "      <th>y</th>\n",
       "      <th>z</th>\n",
       "      <th>heading</th>\n",
       "    </tr>\n",
       "  </thead>\n",
       "  <tbody>\n",
       "    <tr>\n",
       "      <th>count</th>\n",
       "      <td>26.000000</td>\n",
       "      <td>26.000000</td>\n",
       "      <td>26.000000</td>\n",
       "      <td>26.000000</td>\n",
       "    </tr>\n",
       "    <tr>\n",
       "      <th>mean</th>\n",
       "      <td>17.208978</td>\n",
       "      <td>15.946039</td>\n",
       "      <td>-0.484808</td>\n",
       "      <td>5.430385</td>\n",
       "    </tr>\n",
       "    <tr>\n",
       "      <th>std</th>\n",
       "      <td>16.587551</td>\n",
       "      <td>1.934504</td>\n",
       "      <td>1.608609</td>\n",
       "      <td>2.383516</td>\n",
       "    </tr>\n",
       "    <tr>\n",
       "      <th>min</th>\n",
       "      <td>-8.340822</td>\n",
       "      <td>11.488874</td>\n",
       "      <td>-3.425000</td>\n",
       "      <td>1.730000</td>\n",
       "    </tr>\n",
       "    <tr>\n",
       "      <th>25%</th>\n",
       "      <td>4.926990</td>\n",
       "      <td>15.228719</td>\n",
       "      <td>-1.400000</td>\n",
       "      <td>3.405000</td>\n",
       "    </tr>\n",
       "    <tr>\n",
       "      <th>50%</th>\n",
       "      <td>14.998475</td>\n",
       "      <td>16.240091</td>\n",
       "      <td>-0.532500</td>\n",
       "      <td>7.090000</td>\n",
       "    </tr>\n",
       "    <tr>\n",
       "      <th>75%</th>\n",
       "      <td>27.764175</td>\n",
       "      <td>17.539118</td>\n",
       "      <td>0.601250</td>\n",
       "      <td>7.300000</td>\n",
       "    </tr>\n",
       "    <tr>\n",
       "      <th>max</th>\n",
       "      <td>55.029050</td>\n",
       "      <td>18.608795</td>\n",
       "      <td>2.395000</td>\n",
       "      <td>7.550000</td>\n",
       "    </tr>\n",
       "  </tbody>\n",
       "</table>\n",
       "</div>"
      ],
      "text/plain": [
       "               x          y          z    heading\n",
       "count  26.000000  26.000000  26.000000  26.000000\n",
       "mean   17.208978  15.946039  -0.484808   5.430385\n",
       "std    16.587551   1.934504   1.608609   2.383516\n",
       "min    -8.340822  11.488874  -3.425000   1.730000\n",
       "25%     4.926990  15.228719  -1.400000   3.405000\n",
       "50%    14.998475  16.240091  -0.532500   7.090000\n",
       "75%    27.764175  17.539118   0.601250   7.300000\n",
       "max    55.029050  18.608795   2.395000   7.550000"
      ]
     },
     "execution_count": 13,
     "metadata": {},
     "output_type": "execute_result"
    }
   ],
   "source": [
    "df.describe()"
   ]
  },
  {
   "cell_type": "code",
   "execution_count": 14,
   "metadata": {},
   "outputs": [
    {
     "data": {
      "text/html": [
       "<div>\n",
       "<style scoped>\n",
       "    .dataframe tbody tr th:only-of-type {\n",
       "        vertical-align: middle;\n",
       "    }\n",
       "\n",
       "    .dataframe tbody tr th {\n",
       "        vertical-align: top;\n",
       "    }\n",
       "\n",
       "    .dataframe thead th {\n",
       "        text-align: right;\n",
       "    }\n",
       "</style>\n",
       "<table border=\"1\" class=\"dataframe\">\n",
       "  <thead>\n",
       "    <tr style=\"text-align: right;\">\n",
       "      <th></th>\n",
       "      <th>z</th>\n",
       "    </tr>\n",
       "  </thead>\n",
       "  <tbody>\n",
       "    <tr>\n",
       "      <th>0</th>\n",
       "      <td>0.470</td>\n",
       "    </tr>\n",
       "    <tr>\n",
       "      <th>1</th>\n",
       "      <td>0.200</td>\n",
       "    </tr>\n",
       "    <tr>\n",
       "      <th>3</th>\n",
       "      <td>-0.690</td>\n",
       "    </tr>\n",
       "    <tr>\n",
       "      <th>5</th>\n",
       "      <td>-1.325</td>\n",
       "    </tr>\n",
       "    <tr>\n",
       "      <th>7</th>\n",
       "      <td>1.875</td>\n",
       "    </tr>\n",
       "    <tr>\n",
       "      <th>9</th>\n",
       "      <td>2.395</td>\n",
       "    </tr>\n",
       "    <tr>\n",
       "      <th>11</th>\n",
       "      <td>1.715</td>\n",
       "    </tr>\n",
       "    <tr>\n",
       "      <th>13</th>\n",
       "      <td>2.175</td>\n",
       "    </tr>\n",
       "    <tr>\n",
       "      <th>14</th>\n",
       "      <td>1.085</td>\n",
       "    </tr>\n",
       "    <tr>\n",
       "      <th>15</th>\n",
       "      <td>0.645</td>\n",
       "    </tr>\n",
       "    <tr>\n",
       "      <th>16</th>\n",
       "      <td>0.645</td>\n",
       "    </tr>\n",
       "    <tr>\n",
       "      <th>17</th>\n",
       "      <td>0.025</td>\n",
       "    </tr>\n",
       "    <tr>\n",
       "      <th>18</th>\n",
       "      <td>-0.370</td>\n",
       "    </tr>\n",
       "    <tr>\n",
       "      <th>19</th>\n",
       "      <td>-0.560</td>\n",
       "    </tr>\n",
       "    <tr>\n",
       "      <th>20</th>\n",
       "      <td>-0.710</td>\n",
       "    </tr>\n",
       "  </tbody>\n",
       "</table>\n",
       "</div>"
      ],
      "text/plain": [
       "        z\n",
       "0   0.470\n",
       "1   0.200\n",
       "3  -0.690\n",
       "5  -1.325\n",
       "7   1.875\n",
       "9   2.395\n",
       "11  1.715\n",
       "13  2.175\n",
       "14  1.085\n",
       "15  0.645\n",
       "16  0.645\n",
       "17  0.025\n",
       "18 -0.370\n",
       "19 -0.560\n",
       "20 -0.710"
      ]
     },
     "execution_count": 14,
     "metadata": {},
     "output_type": "execute_result"
    }
   ],
   "source": [
    "df[df.loc[:, 'type']=='Truck'].loc[:, ['z']]"
   ]
  },
  {
   "cell_type": "code",
   "execution_count": 22,
   "metadata": {},
   "outputs": [
    {
     "data": {
      "text/plain": [
       "[15, 0, 6, 0, 0, 0, 5]"
      ]
     },
     "execution_count": 22,
     "metadata": {},
     "output_type": "execute_result"
    }
   ],
   "source": [
    "# num_truck = df[df.loc[:, 'type']=='Truck'].shape[0]\n",
    "# num_auxiliary = df[df.loc[:, 'type']=='Auxiliary'].shape[0]\n",
    "# num_car = df[df.loc[:, 'type']=='Car'].shape[0]\n",
    "# print(\"Truck:{},Auxiliary:{},Car:{}, \".format(num_truck, num_auxiliary, num_car))\n",
    "\n",
    "\n",
    "list_name = ['Truck','Auxiliary','Car','Excavator','Widebody','Pedestrian','Others']\n",
    "nums_label = [df[df.loc[:, 'type']==name].shape[0] for name in list_name]\n",
    "nums_label"
   ]
  },
  {
   "cell_type": "code",
   "execution_count": 16,
   "metadata": {},
   "outputs": [
    {
     "data": {
      "text/plain": [
       "<AxesSubplot:>"
      ]
     },
     "execution_count": 16,
     "metadata": {},
     "output_type": "execute_result"
    },
    {
     "data": {
      "image/png": "[encoded data removed]",
      "text/plain": [
       "<Figure size 432x288 with 1 Axes>"
      ]
     },
     "metadata": {
      "needs_background": "light"
     },
     "output_type": "display_data"
    }
   ],
   "source": [
    "df[df.loc[:, 'type']=='Truck'].loc[:, ['z']].boxplot(vert=False)"
   ]
  },
  {
   "cell_type": "code",
   "execution_count": null,
   "metadata": {},
   "outputs": [],
   "source": []
  }
 ],
 "metadata": {
  "interpreter": {
   "hash": "6da98eacdef9d70d05690ff9a51cb11cd928be326ca4c66c5cb22400c3fb5833"
  },
  "kernelspec": {
   "display_name": "Python 3.6.12 64-bit ('common': conda)",
   "name": "python3"
  },
  "language_info": {
   "codemirror_mode": {
    "name": "ipython",
    "version": 3
   },
   "file_extension": ".py",
   "mimetype": "text/x-python",
   "name": "python",
   "nbconvert_exporter": "python",
   "pygments_lexer": "ipython3",
   "version": "3.6.12"
  },
  "orig_nbformat": 4
 },
 "nbformat": 4,
 "nbformat_minor": 2
}
