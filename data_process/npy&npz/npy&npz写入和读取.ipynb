{
 "cells": [
  {
   "cell_type": "markdown",
   "metadata": {},
   "source": [
    "## npy和npz的写入\n",
    "https://www.yuque.com/huangzhongqing/hre6tf/vfm9f8\n"
   ]
  },
  {
   "cell_type": "code",
   "execution_count": 15,
   "metadata": {},
   "outputs": [],
   "source": [
    "import numpy as np\n",
    "\n",
    "a = np.arange(12).reshape(3,4)\n",
    "b = np.arange(2)\n",
    "c = np.arange(5)\n",
    "\n",
    "np.save('test.npy',a)\n",
    "# npz文件——压缩文件\n",
    "# 使用np.savez()函数可以将多个数组保存到同一个文件中。\n",
    "np.savez('testz.npz', a, b, c)\n",
    "# 如若想给保存的数组命名，而不是默认的“arr_0”、“arr_1”、“arr_2”...的话，只需修改np.savez中传递的参数即可\n",
    "\n",
    "\n",
    "np.savez('testz_name.npz', arr1 = a, arr2 = b, arr3 = c)"
   ]
  },
  {
   "cell_type": "markdown",
   "metadata": {},
   "source": [
    "## 读取"
   ]
  },
  {
   "cell_type": "code",
   "execution_count": 17,
   "metadata": {},
   "outputs": [
    {
     "name": "stdout",
     "output_type": "stream",
     "text": [
      "[[ 0  1  2  3]\n",
      " [ 4  5  6  7]\n",
      " [ 8  9 10 11]]\n",
      "['arr_0', 'arr_1', 'arr_2']\n",
      "[[ 0  1  2  3]\n",
      " [ 4  5  6  7]\n",
      " [ 8  9 10 11]]\n",
      "arr1:  [[ 0  1  2  3]\n",
      " [ 4  5  6  7]\n",
      " [ 8  9 10 11]]\n"
     ]
    }
   ],
   "source": [
    "out = np.load(\"test.npy\")\n",
    "print(out)\n",
    "\n",
    "# 取.npz文件时使用np.load()函数 返回的是一个类似于字典的对象，因此可以通过数组名作为关键字对多个数组进行访问。\n",
    "outz = np.load('testz.npz')\n",
    "print(outz.files) # \n",
    "a1 = outz[outz.files[0]]\n",
    "print(a1)\n",
    "\n",
    "\n",
    "out_name = np.load('testz_name.npz')\n",
    "print('arr1: ',out_name['arr1'])"
   ]
  },
  {
   "cell_type": "markdown",
   "metadata": {},
   "source": []
  },
  {
   "cell_type": "code",
   "execution_count": null,
   "metadata": {},
   "outputs": [],
   "source": []
  },
  {
   "cell_type": "markdown",
   "metadata": {},
   "source": []
  },
  {
   "cell_type": "code",
   "execution_count": null,
   "metadata": {},
   "outputs": [],
   "source": []
  },
  {
   "cell_type": "markdown",
   "metadata": {},
   "source": []
  },
  {
   "cell_type": "code",
   "execution_count": null,
   "metadata": {},
   "outputs": [],
   "source": []
  }
 ],
 "metadata": {
  "interpreter": {
   "hash": "34e39c63690641fda45a9b5b3a54295d3c7c7609e6d639cc54d178959f811fe3"
  },
  "kernelspec": {
   "display_name": "Python 3.8.13 ('pcdet')",
   "language": "python",
   "name": "python3"
  },
  "language_info": {
   "codemirror_mode": {
    "name": "ipython",
    "version": 3
   },
   "file_extension": ".py",
   "mimetype": "text/x-python",
   "name": "python",
   "nbconvert_exporter": "python",
   "pygments_lexer": "ipython3",
   "version": "3.8.13"
  },
  "orig_nbformat": 4
 },
 "nbformat": 4,
 "nbformat_minor": 2
}
