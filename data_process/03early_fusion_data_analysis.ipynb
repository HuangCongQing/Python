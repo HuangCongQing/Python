{
 "cells": [
  {
   "cell_type": "markdown",
   "id": "840e3869",
   "metadata": {},
   "source": [
    "# 1. Import libraries"
   ]
  },
  {
   "cell_type": "code",
   "execution_count": 1,
   "id": "2c270914",
   "metadata": {},
   "outputs": [],
   "source": [
    "import os\n",
    "import json\n",
    "import numpy as np\n",
    "from  tqdm import tqdm\n",
    "import matplotlib.pyplot as plt"
   ]
  },
  {
   "cell_type": "markdown",
   "id": "195ffc9e",
   "metadata": {},
   "source": [
    "# 2. List all json files"
   ]
  },
  {
   "cell_type": "code",
   "execution_count": 15,
   "id": "d34d1bd6",
   "metadata": {},
   "outputs": [
    {
     "name": "stdout",
     "output_type": "stream",
     "text": [
      "Number of sequences:  55\n"
     ]
    }
   ],
   "source": [
    "annotation_dir = \"/home/yangxue/Code/sensor_fusion/EarlyFusion/HT融合追踪交付0317/标注结果/\"\n",
    "sequences = os.listdir(annotation_dir)\n",
    "print(\"Number of sequences: \", len(sequences))\n",
    "sequences.sort()\n",
    "# print(sequences)"
   ]
  },
  {
   "cell_type": "code",
   "execution_count": 16,
   "id": "f3d08da8",
   "metadata": {},
   "outputs": [
    {
     "name": "stdout",
     "output_type": "stream",
     "text": [
      "Size of all_frames:  2527\n"
     ]
    }
   ],
   "source": [
    "all_frames = []\n",
    "frames_size = 0\n",
    "for seq in sequences:\n",
    "    frames = os.listdir(annotation_dir + seq + \"/livox\")\n",
    "    frames.sort()\n",
    "    # print(\"Size of frames: \", len(frames))\n",
    "    all_frames.append(frames)\n",
    "    frames_size += len(frames)\n",
    "print(\"Size of all_frames: \", frames_size)\n",
    "# print(all_frames[0])"
   ]
  },
  {
   "cell_type": "markdown",
   "id": "aa64de04",
   "metadata": {},
   "source": [
    "# 3. Load all json files"
   ]
  },
  {
   "cell_type": "code",
   "execution_count": 4,
   "id": "38eeffaf",
   "metadata": {},
   "outputs": [],
   "source": [
    "def get_json(json_file):\n",
    "    with open(json_file, 'r') as load_f:\n",
    "        json_content = json.load(load_f)\n",
    "    objects_json = json_content[\"objects\"]\n",
    "    objects_list = []\n",
    "    for object in objects_json:\n",
    "        if not object[\"isLeave\"]:\n",
    "            object_id = object[\"objectid\"]\n",
    "            label = object[\"label\"]\n",
    "            # print(object[\"box2d\"])\n",
    "            if(object[\"box2d\"] == {} or \"x\" not in (object[\"box2d\"][\"camera1\"])):                \n",
    "                box2d_x = -1\n",
    "                box2d_y = -1\n",
    "                box2d_h = -1\n",
    "                box2d_w = -1\n",
    "            else:            \n",
    "                box2d_x = object[\"box2d\"][\"camera1\"][\"x\"]\n",
    "                box2d_y = object[\"box2d\"][\"camera1\"][\"y\"]\n",
    "                box2d_h = object[\"box2d\"][\"camera1\"][\"height\"]\n",
    "                box2d_w = object[\"box2d\"][\"camera1\"][\"width\"]\n",
    "            box3d_cx = object[\"center\"][\"x\"]               \n",
    "            box3d_cy = object[\"center\"][\"y\"]\n",
    "            box3d_cz = object[\"center\"][\"z\"]\n",
    "            box3d_dx = object[\"dimensions\"][\"length\"]\n",
    "            box3d_dy = object[\"dimensions\"][\"width\"]\n",
    "            box3d_dz = object[\"dimensions\"][\"height\"]\n",
    "            box3d_rx = object[\"rotation\"][\"x\"]\n",
    "            box3d_ry = object[\"rotation\"][\"y\"]\n",
    "            box3d_rz = object[\"rotation\"][\"z\"]\n",
    "            objects_list.append([float(label), box3d_cx, box3d_cy, box3d_cz,\n",
    "                                box3d_dx, box3d_dy, box3d_dz, float(box3d_rx), float(box3d_ry),\n",
    "                                box3d_rz, box2d_x, box2d_y, box2d_h, box2d_w, float(object_id)])\n",
    "    return objects_list         \n",
    "            \n",
    "    \n",
    "    "
   ]
  },
  {
   "cell_type": "code",
   "execution_count": 5,
   "id": "454de173",
   "metadata": {},
   "outputs": [
    {
     "name": "stdout",
     "output_type": "stream",
     "text": [
      "Objects Number:  3944\n"
     ]
    }
   ],
   "source": [
    "all_objects_list ={1:[],2:[],3:[],4:[],5:[],6:[]} # label -> list\n",
    "idx_2_name = {1: 'Pedestrian', 2: 'Truck', 3: 'Widebody', 4: 'Car', 5: 'Auxiliary', 6: 'Excavator'}\n",
    "idx=0\n",
    "for seq_idx in range(len(sequences)):\n",
    "    for frame_idx in range(len(all_frames[seq_idx])):\n",
    "        json_file = annotation_dir + sequences[seq_idx] + \"/livox/\" + all_frames[seq_idx][frame_idx]\n",
    "        # print(seq_idx, frame_idx)\n",
    "        frame_objects_list = get_json(json_file)\n",
    "        for each_object in frame_objects_list:            \n",
    "            idx+=1\n",
    "            all_objects_list[int(each_object[0])].append(each_object)     \n",
    "print(\"Objects Number: \", idx)"
   ]
  },
  {
   "cell_type": "code",
   "execution_count": 6,
   "id": "f6fa7f25",
   "metadata": {},
   "outputs": [
    {
     "name": "stdout",
     "output_type": "stream",
     "text": [
      "Number of Pedestrian : 130\n",
      "Number of Truck : 2432\n",
      "Number of Widebody : 299\n",
      "Number of Car : 362\n",
      "Number of Auxiliary : 364\n",
      "Number of Excavator : 357\n"
     ]
    }
   ],
   "source": [
    "label_objects_dict = {} # label (int) -> objects (np.array)\n",
    "for i in range(6):\n",
    "    print(\"Number of {} : {}\".format(idx_2_name[i+1], len(all_objects_list[i+1])))\n",
    "    label_objects_dict[i+1] = np.array(all_objects_list[i+1])\n"
   ]
  },
  {
   "cell_type": "code",
   "execution_count": 11,
   "id": "c0f7145b",
   "metadata": {},
   "outputs": [
    {
     "data": {
      "image/png": "[encoded data removed]",
      "text/plain": [
       "<Figure size 432x288 with 1 Axes>"
      ]
     },
     "metadata": {},
     "output_type": "display_data"
    }
   ],
   "source": [
    "labels = []\n",
    "sizes = []\n",
    "explode = []\n",
    "for i in range(6):\n",
    "    sizes.append(label_objects_dict[i+1].shape[0])\n",
    "    labels.append(idx_2_name[i+1])\n",
    "    explode.append(0)\n",
    "\n",
    "# Pie chart, where the slices will be ordered and plotted counter-clockwise:\n",
    "# labels = 'Frogs', 'Hogs', 'Dogs', 'Logs'\n",
    "# sizes = [15, 30, 45, 10]\n",
    "# explode = (0, 0.1, 0, 0)  # only \"explode\" the 2nd slice (i.e. 'Hogs')\n",
    "\n",
    "fig1, ax1 = plt.subplots()\n",
    "ax1.pie(sizes, explode=tuple(explode), labels=tuple(labels), autopct='%1.1f%%',\n",
    "        shadow=True, startangle=90)\n",
    "ax1.axis('equal')  # Equal aspect ratio ensures that pie is drawn as a circle.\n",
    "\n",
    "plt.show()"
   ]
  },
  {
   "cell_type": "markdown",
   "id": "81542fee",
   "metadata": {},
   "source": [
    "# 4. Analyze truck data"
   ]
  },
  {
   "cell_type": "code",
   "execution_count": 14,
   "id": "efd89116",
   "metadata": {},
   "outputs": [
    {
     "name": "stdout",
     "output_type": "stream",
     "text": [
      "[396.99492772  82.39080861  18.18428108]\n",
      "[408.56326155 105.8575319   19.19783119]\n",
      "[366.21285454  47.56931316   5.00930146]\n",
      "[357.21193021  89.11099962  18.67201572]\n",
      "84.50719847317605\n",
      "111.09376136614783\n"
     ]
    }
   ],
   "source": [
    "# truck analysis\n",
    "trucks = label_objects_dict[2]\n",
    "print(np.max(trucks[1:500,1:4], 0))\n",
    "print(np.max(trucks[500:1000,1:4], 0))\n",
    "print(np.max(trucks[1000:1500,1:4], 0))\n",
    "print(np.max(trucks[1500:2000,1:4], 0))\n",
    "\n",
    "print(np.percentile(trucks[:,1:2], 30))\n",
    "print(np.median(trucks[:,1:2]))"
   ]
  },
  {
   "cell_type": "code",
   "execution_count": 29,
   "id": "31d11322",
   "metadata": {},
   "outputs": [
    {
     "data": {
      "image/png": "[encoded data removed]",
      "text/plain": [
       "<Figure size 432x288 with 6 Axes>"
      ]
     },
     "metadata": {
      "needs_background": "light"
     },
     "output_type": "display_data"
    }
   ],
   "source": [
    "\n",
    "fig2, ax2 = plt.subplots(3,2,sharex=True, sharey=True)\n",
    "\n",
    "for i in range(6):\n",
    "    objects_label = idx_2_name[i+1]\n",
    "    objects_arr = label_objects_dict[i+1]\n",
    "    x = [:,1:2]\n",
    "    y = objects_arr[:,2:3]\n",
    "    z = np.sqrt(x**2 + y**2)\n",
    "    ax2[i//2,i%2].scatter(x, y, s=10, c=z, marker=\".\")\n",
    "    ax2[i//2,i%2].set_title(objects_label)\n",
    "#     ax2[i//2,i%2].set_xlabel('x')\n",
    "#     ax2[i//2,i%2].set_ylabel('y')\n",
    "plt.tight_layout()\n",
    "plt.show()"
   ]
  },
  {
   "cell_type": "code",
   "execution_count": 85,
   "id": "a757d349",
   "metadata": {},
   "outputs": [
    {
     "data": {
      "text/plain": [
       "array([[1, 2],\n",
       "       [3, 4]])"
      ]
     },
     "execution_count": 85,
     "metadata": {},
     "output_type": "execute_result"
    }
   ],
   "source": [
    "a = [[1,2],[3,4]]\n",
    "np.array(a)\n"
   ]
  },
  {
   "cell_type": "code",
   "execution_count": 91,
   "id": "146a2e4c",
   "metadata": {},
   "outputs": [
    {
     "data": {
      "text/plain": [
       "[1, 2]"
      ]
     },
     "execution_count": 91,
     "metadata": {},
     "output_type": "execute_result"
    }
   ],
   "source": [
    "a=[]\n",
    "b=[1,2]\n",
    "a+=b\n",
    "a"
   ]
  },
  {
   "cell_type": "code",
   "execution_count": 13,
   "id": "6f9e26fa",
   "metadata": {},
   "outputs": [
    {
     "data": {
      "text/plain": [
       "1.8"
      ]
     },
     "execution_count": 13,
     "metadata": {},
     "output_type": "execute_result"
    }
   ],
   "source": [
    "a = np.array([1,2,3,4,5])\n",
    "np.percentile(a,20)"
   ]
  },
  {
   "cell_type": "code",
   "execution_count": null,
   "id": "4214400c",
   "metadata": {},
   "outputs": [],
   "source": []
  }
 ],
 "metadata": {
  "kernelspec": {
   "display_name": "Python 3",
   "language": "python",
   "name": "python3"
  },
  "language_info": {
   "codemirror_mode": {
    "name": "ipython",
    "version": 3
   },
   "file_extension": ".py",
   "mimetype": "text/x-python",
   "name": "python",
   "nbconvert_exporter": "python",
   "pygments_lexer": "ipython3",
   "version": "3.7.5"
  }
 },
 "nbformat": 4,
 "nbformat_minor": 5
}
