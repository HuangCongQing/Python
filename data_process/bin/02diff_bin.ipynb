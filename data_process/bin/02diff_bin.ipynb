{
 "cells": [
  {
   "cell_type": "markdown",
   "metadata": {},
   "source": [
    "# 比较差异\n",
    "bin文件格式  ConvolutionImpl.bin  \n",
    "size: (1920000,)\n"
   ]
  },
  {
   "cell_type": "code",
   "execution_count": 7,
   "metadata": {},
   "outputs": [],
   "source": [
    "import numpy as np\n",
    "import os\n",
    "import glob"
   ]
  },
  {
   "cell_type": "code",
   "execution_count": 18,
   "metadata": {},
   "outputs": [],
   "source": [
    "path2080 = '/home/chongqinghuang/data/test2080/2080'\n",
    "path3090 = '/home/chongqinghuang/data/test2080/3090'\n",
    "\n",
    "paths1 = glob.glob(\"/home/chongqinghuang/data/test2080/2080/*bin\")\n",
    "paths2 = glob.glob(\"/home/chongqinghuang/data/test2080/3090/*bin\")\n"
   ]
  },
  {
   "cell_type": "code",
   "execution_count": 33,
   "metadata": {},
   "outputs": [
    {
     "name": "stdout",
     "output_type": "stream",
     "text": [
      "0 16ConvolutionImpl.bin: (1274048,) ->max: 0.695907473564148, avg: 0.019946888089179993, ([0.0280462  0.02564993] v.s.[0.02978162 0.02732202])\n",
      "1 3ConvolutionImpl.bin: (1754616,) ->max: 0.9666595458984375, avg: 0.027312124148011208, ([-0.19210619 -0.11495508] v.s.[-0.21857542 -0.23122455])\n",
      "2 17ConvolutionImpl.bin: (1271360,) ->max: 0.9209116697311401, avg: 0.032316964119672775, ([-0.06434365  0.00596971] v.s.[-0.02196293 -0.03859159])\n",
      "3 24ConvolutionImpl.bin: (1920000,) ->max: 2.0725772380828857, avg: 0.33823657035827637, ([ 0.0664662  -0.00319063] v.s.[ 0.09627596 -0.05569092])\n",
      "4 9ConvolutionImpl.bin: (1274048,) ->max: 0.8115338087081909, avg: 0.0210585817694664, ([-0.24028    0.0092193] v.s.[-0.24028003  0.00921931])\n",
      "5 1ConvolutionImpl.bin: (1920000,) ->max: 0.22260180115699768, avg: 0.010966170579195023, ([ 7.8686064e-38 -7.7725744e-33] v.s.[ 8.9845983e-38 -6.6778695e-33])\n",
      "6 25ConvolutionImpl.bin: (1920000,) ->max: 2.2834880352020264, avg: 0.20166003704071045, ([ 0.22841373 -0.07315484] v.s.[ 0.21834254 -0.1028495 ])\n",
      "7 5ConvolutionImpl.bin: (1271360,) ->max: 1.6203198432922363, avg: 0.026119552552700043, ([-0.04897153  0.02667127] v.s.[-0.07318711  0.0010335 ])\n",
      "8 15ConvolutionImpl.bin: (1274048,) ->max: 0.9902844429016113, avg: 0.023239171132445335, ([0.07324439 0.00077864] v.s.[0.06229503 0.00290987])\n",
      "9 6ConvolutionImpl.bin: (1271360,) ->max: 0.6929595470428467, avg: 0.018000591546297073, ([ 0.0145712 -0.2166953] v.s.[-0.06147046 -0.2349579 ])\n",
      "10 2ConvolutionImpl.bin: (1754616,) ->max: 1.4827280044555664, avg: 0.0655691921710968, ([0.02219145 0.26056093] v.s.[0.00118168 0.25740436])\n",
      "11 11ConvolutionImpl.bin: (559296,) ->max: 0.6653485298156738, avg: 0.009235821664333344, ([-0.1097372  -0.05549736] v.s.[-0.07780232 -0.00616674])\n",
      "12 19ConvolutionImpl.bin: (1271360,) ->max: 1.729444146156311, avg: 0.016274183988571167, ([-0.14428282 -0.00081468] v.s.[-0.09791754  0.0708576 ])\n",
      "13 12ConvolutionImpl.bin: (559296,) ->max: 0.584705650806427, avg: 0.0202645231038332, ([ 0.0201184  -0.25312915] v.s.[-0.01889455 -0.21714275])\n",
      "14 18ConvolutionImpl.bin: (1271360,) ->max: 0.616075873374939, avg: 0.021093038842082024, ([-0.09533865  0.0394308 ] v.s.[-0.05322624 -0.05981489])\n",
      "15 7ConvolutionImpl.bin: (1271360,) ->max: 0.7681864500045776, avg: 0.030216949060559273, ([-0.11472984  0.08475792] v.s.[-0.04662915  0.07010045])\n",
      "16 13ConvolutionImpl.bin: (559296,) ->max: 0.9644813537597656, avg: 0.022635821253061295, ([-0.16583702 -0.11510564] v.s.[-0.06991902 -0.14480858])\n",
      "17 20ConvolutionImpl.bin: (1754616,) ->max: 1.6123136281967163, avg: 0.02821294777095318, ([0.02459714 0.03182779] v.s.[0.05381946 0.05562611])\n",
      "18 22ConvolutionImpl.bin: (1754616,) ->max: 1.3685344457626343, avg: 0.012874235399067402, ([-0.00781029 -0.05078061] v.s.[-0.00766014 -0.04553443])\n",
      "19 4ConvolutionImpl.bin: (1754616,) ->max: 1.2919842004776, avg: 0.03542317822575569, ([ 0.0584189 -0.2801876] v.s.[ 0.090157   -0.31926352])\n",
      "20 23ConvolutionImpl.bin: (1920000,) ->max: 1.0868183374404907, avg: 0.02985702082514763, ([-0.06726934 -0.02938558] v.s.[-0.05635118 -0.04458519])\n",
      "21 8ConvolutionImpl.bin: (1274048,) ->max: 1.5423822402954102, avg: 0.02457725629210472, ([0.02173453 0.061642  ] v.s.[0.02173454 0.06164201])\n",
      "22 10ConvolutionImpl.bin: (1274048,) ->max: 1.437175989151001, avg: 0.028785843402147293, ([-0.23868547 -0.23365897] v.s.[-0.24351025 -0.22985844])\n",
      "23 21ConvolutionImpl.bin: (1754616,) ->max: 0.3650466799736023, avg: 0.014020183123648167, ([-0.06685121 -0.03065701] v.s.[-0.0866713  -0.02913148])\n",
      "24 14ConvolutionImpl.bin: (1274048,) ->max: 0.7192258834838867, avg: 0.02391832321882248, ([-0.00739203 -0.13422085] v.s.[-0.01699323 -0.15962155])\n"
     ]
    }
   ],
   "source": [
    "filelist = os.listdir(path2080) # 文件名列表\n",
    "total_num = len(filelist)\n",
    "for i, item in enumerate(filelist):\n",
    "    file2080 = os.path.join(os.path.abspath(path2080), item)\n",
    "    file3090 = os.path.join(os.path.abspath(path3090), item)\n",
    "    feat1 = np.fromfile(file2080, dtype=np.float32, count=-1)\n",
    "    feat2 = np.fromfile(file3090, dtype=np.float32, count=-1)\n",
    "    # print(f\"feat1: {feat1.shape}feat2: {feat2.shape}\")\n",
    "\n",
    "    print(f\"{i} {item}: {feat1.shape} ->max: {np.max(np.abs(feat1 - feat2))}, avg: {np.average(np.abs(feat1 - feat2))}, ({feat1[0:2]} v.s.{feat2[0:2]})\", )\n",
    "\n",
    "    # print(feat1[:20],\"\\n\" ,feat2[:20])\n",
    "\n",
    "    # break\n",
    "\n",
    "\n",
    "# for i, filename in enumerate(paths1):\n",
    "#     print(filename)\n",
    "\n",
    "# feat1 = np.fromfile(str(\"./1ConvolutionImpl.bin\"), dtype=np.float32, count=-1)\n",
    "# feat2 = np.fromfile(str(\"./1ConvolutionImpl.bin\"), dtype=np.float32, count=-1)\n",
    "\n",
    "# print(sum(feat1 - feat2))"
   ]
  },
  {
   "cell_type": "code",
   "execution_count": null,
   "metadata": {},
   "outputs": [],
   "source": []
  }
 ],
 "metadata": {
  "kernelspec": {
   "display_name": "Python 3.8.13 ('pcdet')",
   "language": "python",
   "name": "python3"
  },
  "language_info": {
   "name": "python",
   "version": "3.8.13"
  },
  "orig_nbformat": 4,
  "vscode": {
   "interpreter": {
    "hash": "4a4bb52955cb4b7ba3167560f52fbe8257746766a280283c0daccbe36f0c9125"
   }
  }
 },
 "nbformat": 4,
 "nbformat_minor": 2
}
